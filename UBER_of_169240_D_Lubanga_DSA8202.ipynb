{
  "nbformat": 4,
  "nbformat_minor": 0,
  "metadata": {
    "colab": {
      "provenance": [],
      "include_colab_link": true
    },
    "kernelspec": {
      "name": "python3",
      "display_name": "Python 3"
    },
    "language_info": {
      "name": "python"
    }
  },
  "cells": [
    {
      "cell_type": "markdown",
      "metadata": {
        "id": "view-in-github",
        "colab_type": "text"
      },
      "source": [
        "<a href=\"https://colab.research.google.com/github/LubangaD/tradingstrategy/blob/main/UBER_of_169240_D_Lubanga_DSA8202.ipynb\" target=\"_parent\"><img src=\"https://colab.research.google.com/assets/colab-badge.svg\" alt=\"Open In Colab\"/></a>"
      ]
    },
    {
      "cell_type": "markdown",
      "source": [
        "**NAME:**  Lubanga Derrick <br>\n",
        "**REG NO:** 169240 <br>\n",
        "**COURSE:** Time Series Analysis & Forecasting<br>\n",
        "**COURSE CODE** DSA 8202"
      ],
      "metadata": {
        "id": "pZFWVlNEbqV6"
      }
    },
    {
      "cell_type": "markdown",
      "source": [
        "<h2>This a project where I will be creating a trading strategies using UBER  stocks historical data obtained from Yahoo finance<h2>"
      ],
      "metadata": {
        "id": "awCunNtaePX-"
      }
    },
    {
      "cell_type": "code",
      "source": [
        "!pip install bt"
      ],
      "metadata": {
        "colab": {
          "base_uri": "https://localhost:8080/"
        },
        "id": "mA_S0H5fmnOe",
        "outputId": "102101e5-a51b-4ae8-a0dd-7bb48b259d99"
      },
      "execution_count": 148,
      "outputs": [
        {
          "output_type": "stream",
          "name": "stdout",
          "text": [
            "Requirement already satisfied: bt in /usr/local/lib/python3.10/dist-packages (1.0.0)\n",
            "Requirement already satisfied: ffn>=1.0.0 in /usr/local/lib/python3.10/dist-packages (from bt) (1.0.1)\n",
            "Requirement already satisfied: pyprind>=2.11 in /usr/local/lib/python3.10/dist-packages (from bt) (2.11.3)\n",
            "Requirement already satisfied: decorator>=5.0.7 in /usr/local/lib/python3.10/dist-packages (from ffn>=1.0.0->bt) (5.1.1)\n",
            "Requirement already satisfied: matplotlib>=1 in /usr/local/lib/python3.10/dist-packages (from ffn>=1.0.0->bt) (3.7.1)\n",
            "Requirement already satisfied: numpy>=1.5 in /usr/local/lib/python3.10/dist-packages (from ffn>=1.0.0->bt) (1.25.2)\n",
            "Requirement already satisfied: pandas>=0.19 in /usr/local/lib/python3.10/dist-packages (from ffn>=1.0.0->bt) (1.5.3)\n",
            "Requirement already satisfied: pandas-datareader>=0.2 in /usr/local/lib/python3.10/dist-packages (from ffn>=1.0.0->bt) (0.10.0)\n",
            "Requirement already satisfied: scikit-learn>=0.15 in /usr/local/lib/python3.10/dist-packages (from ffn>=1.0.0->bt) (1.2.2)\n",
            "Requirement already satisfied: scipy>=0.15 in /usr/local/lib/python3.10/dist-packages (from ffn>=1.0.0->bt) (1.11.4)\n",
            "Requirement already satisfied: tabulate>=0.7.5 in /usr/local/lib/python3.10/dist-packages (from ffn>=1.0.0->bt) (0.9.0)\n",
            "Requirement already satisfied: yfinance>=0.2 in /usr/local/lib/python3.10/dist-packages (from ffn>=1.0.0->bt) (0.2.36)\n",
            "Requirement already satisfied: contourpy>=1.0.1 in /usr/local/lib/python3.10/dist-packages (from matplotlib>=1->ffn>=1.0.0->bt) (1.2.0)\n",
            "Requirement already satisfied: cycler>=0.10 in /usr/local/lib/python3.10/dist-packages (from matplotlib>=1->ffn>=1.0.0->bt) (0.12.1)\n",
            "Requirement already satisfied: fonttools>=4.22.0 in /usr/local/lib/python3.10/dist-packages (from matplotlib>=1->ffn>=1.0.0->bt) (4.49.0)\n",
            "Requirement already satisfied: kiwisolver>=1.0.1 in /usr/local/lib/python3.10/dist-packages (from matplotlib>=1->ffn>=1.0.0->bt) (1.4.5)\n",
            "Requirement already satisfied: packaging>=20.0 in /usr/local/lib/python3.10/dist-packages (from matplotlib>=1->ffn>=1.0.0->bt) (23.2)\n",
            "Requirement already satisfied: pillow>=6.2.0 in /usr/local/lib/python3.10/dist-packages (from matplotlib>=1->ffn>=1.0.0->bt) (9.4.0)\n",
            "Requirement already satisfied: pyparsing>=2.3.1 in /usr/local/lib/python3.10/dist-packages (from matplotlib>=1->ffn>=1.0.0->bt) (3.1.1)\n",
            "Requirement already satisfied: python-dateutil>=2.7 in /usr/local/lib/python3.10/dist-packages (from matplotlib>=1->ffn>=1.0.0->bt) (2.8.2)\n",
            "Requirement already satisfied: pytz>=2020.1 in /usr/local/lib/python3.10/dist-packages (from pandas>=0.19->ffn>=1.0.0->bt) (2023.4)\n",
            "Requirement already satisfied: lxml in /usr/local/lib/python3.10/dist-packages (from pandas-datareader>=0.2->ffn>=1.0.0->bt) (4.9.4)\n",
            "Requirement already satisfied: requests>=2.19.0 in /usr/local/lib/python3.10/dist-packages (from pandas-datareader>=0.2->ffn>=1.0.0->bt) (2.31.0)\n",
            "Requirement already satisfied: joblib>=1.1.1 in /usr/local/lib/python3.10/dist-packages (from scikit-learn>=0.15->ffn>=1.0.0->bt) (1.3.2)\n",
            "Requirement already satisfied: threadpoolctl>=2.0.0 in /usr/local/lib/python3.10/dist-packages (from scikit-learn>=0.15->ffn>=1.0.0->bt) (3.3.0)\n",
            "Requirement already satisfied: multitasking>=0.0.7 in /usr/local/lib/python3.10/dist-packages (from yfinance>=0.2->ffn>=1.0.0->bt) (0.0.11)\n",
            "Requirement already satisfied: appdirs>=1.4.4 in /usr/local/lib/python3.10/dist-packages (from yfinance>=0.2->ffn>=1.0.0->bt) (1.4.4)\n",
            "Requirement already satisfied: frozendict>=2.3.4 in /usr/local/lib/python3.10/dist-packages (from yfinance>=0.2->ffn>=1.0.0->bt) (2.4.0)\n",
            "Requirement already satisfied: peewee>=3.16.2 in /usr/local/lib/python3.10/dist-packages (from yfinance>=0.2->ffn>=1.0.0->bt) (3.17.1)\n",
            "Requirement already satisfied: beautifulsoup4>=4.11.1 in /usr/local/lib/python3.10/dist-packages (from yfinance>=0.2->ffn>=1.0.0->bt) (4.12.3)\n",
            "Requirement already satisfied: html5lib>=1.1 in /usr/local/lib/python3.10/dist-packages (from yfinance>=0.2->ffn>=1.0.0->bt) (1.1)\n",
            "Requirement already satisfied: soupsieve>1.2 in /usr/local/lib/python3.10/dist-packages (from beautifulsoup4>=4.11.1->yfinance>=0.2->ffn>=1.0.0->bt) (2.5)\n",
            "Requirement already satisfied: six>=1.9 in /usr/local/lib/python3.10/dist-packages (from html5lib>=1.1->yfinance>=0.2->ffn>=1.0.0->bt) (1.16.0)\n",
            "Requirement already satisfied: webencodings in /usr/local/lib/python3.10/dist-packages (from html5lib>=1.1->yfinance>=0.2->ffn>=1.0.0->bt) (0.5.1)\n",
            "Requirement already satisfied: charset-normalizer<4,>=2 in /usr/local/lib/python3.10/dist-packages (from requests>=2.19.0->pandas-datareader>=0.2->ffn>=1.0.0->bt) (3.3.2)\n",
            "Requirement already satisfied: idna<4,>=2.5 in /usr/local/lib/python3.10/dist-packages (from requests>=2.19.0->pandas-datareader>=0.2->ffn>=1.0.0->bt) (3.6)\n",
            "Requirement already satisfied: urllib3<3,>=1.21.1 in /usr/local/lib/python3.10/dist-packages (from requests>=2.19.0->pandas-datareader>=0.2->ffn>=1.0.0->bt) (2.0.7)\n",
            "Requirement already satisfied: certifi>=2017.4.17 in /usr/local/lib/python3.10/dist-packages (from requests>=2.19.0->pandas-datareader>=0.2->ffn>=1.0.0->bt) (2024.2.2)\n"
          ]
        }
      ]
    },
    {
      "cell_type": "code",
      "source": [
        "!wget http://prdownloads.sourceforge.net/ta-lib/ta-lib-0.4.0-src.tar.gz\n",
        "!tar -xzvf ta-lib-0.4.0-src.tar.gz\n",
        "%cd ta-lib\n",
        "!./configure --prefix=/usr\n",
        "!make\n",
        "!make install\n",
        "!pip install Ta-Lib\n",
        "import talib"
      ],
      "metadata": {
        "id": "vNJRswV787ZD",
        "colab": {
          "base_uri": "https://localhost:8080/"
        },
        "outputId": "ff6a8361-f40f-4032-8d8b-548318da2dcf"
      },
      "execution_count": null,
      "outputs": [
        {
          "output_type": "stream",
          "name": "stdout",
          "text": [
            "--2024-02-23 09:32:18--  http://prdownloads.sourceforge.net/ta-lib/ta-lib-0.4.0-src.tar.gz\n",
            "Resolving prdownloads.sourceforge.net (prdownloads.sourceforge.net)... 204.68.111.105\n",
            "Connecting to prdownloads.sourceforge.net (prdownloads.sourceforge.net)|204.68.111.105|:80... connected.\n",
            "HTTP request sent, awaiting response... 301 Moved Permanently\n",
            "Location: http://downloads.sourceforge.net/project/ta-lib/ta-lib/0.4.0/ta-lib-0.4.0-src.tar.gz [following]\n",
            "--2024-02-23 09:32:18--  http://downloads.sourceforge.net/project/ta-lib/ta-lib/0.4.0/ta-lib-0.4.0-src.tar.gz\n",
            "Resolving downloads.sourceforge.net (downloads.sourceforge.net)... 204.68.111.105\n",
            "Reusing existing connection to prdownloads.sourceforge.net:80.\n",
            "HTTP request sent, awaiting response... 302 Found\n",
            "Location: http://pilotfiber.dl.sourceforge.net/project/ta-lib/ta-lib/0.4.0/ta-lib-0.4.0-src.tar.gz [following]\n",
            "--2024-02-23 09:32:18--  http://pilotfiber.dl.sourceforge.net/project/ta-lib/ta-lib/0.4.0/ta-lib-0.4.0-src.tar.gz\n",
            "Resolving pilotfiber.dl.sourceforge.net (pilotfiber.dl.sourceforge.net)... 216.158.133.250\n",
            "Connecting to pilotfiber.dl.sourceforge.net (pilotfiber.dl.sourceforge.net)|216.158.133.250|:80... connected.\n",
            "HTTP request sent, awaiting response... 200 OK\n",
            "Length: 1330299 (1.3M) [application/x-gzip]\n",
            "Saving to: ‘ta-lib-0.4.0-src.tar.gz’\n",
            "\n",
            "ta-lib-0.4.0-src.ta 100%[===================>]   1.27M  3.08MB/s    in 0.4s    \n",
            "\n",
            "2024-02-23 09:32:19 (3.08 MB/s) - ‘ta-lib-0.4.0-src.tar.gz’ saved [1330299/1330299]\n",
            "\n",
            "ta-lib/\n",
            "ta-lib/config.sub\n",
            "ta-lib/aclocal.m4\n",
            "ta-lib/CHANGELOG.TXT\n",
            "ta-lib/include/\n",
            "ta-lib/include/ta_abstract.h\n",
            "ta-lib/include/ta_func.h\n",
            "ta-lib/include/ta_common.h\n",
            "ta-lib/include/ta_config.h.in\n",
            "ta-lib/include/Makefile.am\n",
            "ta-lib/include/ta_libc.h\n",
            "ta-lib/include/ta_defs.h\n",
            "ta-lib/missing\n",
            "ta-lib/ta-lib.spec.in\n",
            "ta-lib/config.guess\n",
            "ta-lib/Makefile.in\n",
            "ta-lib/ta-lib.dpkg.in\n",
            "ta-lib/Makefile.am\n",
            "ta-lib/autogen.sh\n",
            "ta-lib/install-sh\n",
            "ta-lib/configure\n",
            "ta-lib/depcomp\n",
            "ta-lib/HISTORY.TXT\n",
            "ta-lib/configure.in\n",
            "ta-lib/autom4te.cache/\n",
            "ta-lib/autom4te.cache/output.0\n",
            "ta-lib/autom4te.cache/requests\n",
            "ta-lib/autom4te.cache/output.1\n",
            "ta-lib/autom4te.cache/traces.0\n",
            "ta-lib/autom4te.cache/traces.1\n",
            "ta-lib/ltmain.sh\n",
            "ta-lib/ta-lib-config.in\n",
            "ta-lib/src/\n",
            "ta-lib/src/ta_func/\n",
            "ta-lib/src/ta_func/ta_MACDFIX.c\n",
            "ta-lib/src/ta_func/ta_CDLPIERCING.c\n",
            "ta-lib/src/ta_func/ta_DIV.c\n",
            "ta-lib/src/ta_func/ta_ROCR100.c\n",
            "ta-lib/src/ta_func/ta_ADXR.c\n",
            "ta-lib/src/ta_func/ta_MAVP.c\n",
            "ta-lib/src/ta_func/ta_CDLCLOSINGMARUBOZU.c\n",
            "ta-lib/src/ta_func/ta_COSH.c\n",
            "ta-lib/src/ta_func/ta_EXP.c\n",
            "ta-lib/src/ta_func/ta_MINMAXINDEX.c\n",
            "ta-lib/src/ta_func/ta_SQRT.c\n",
            "ta-lib/src/ta_func/ta_FLOOR.c\n",
            "ta-lib/src/ta_func/ta_CDLCONCEALBABYSWALL.c\n",
            "ta-lib/src/ta_func/ta_NATR.c\n",
            "ta-lib/src/ta_func/ta_CDLHARAMICROSS.c\n",
            "ta-lib/src/ta_func/ta_MINUS_DM.c\n",
            "ta-lib/src/ta_func/ta_LOG10.c\n",
            "ta-lib/src/ta_func/ta_LINEARREG_ANGLE.c\n",
            "ta-lib/src/ta_func/ta_RSI.c\n",
            "ta-lib/src/ta_func/ta_CDLABANDONEDBABY.c\n",
            "ta-lib/src/ta_func/ta_SAR.c\n",
            "ta-lib/src/ta_func/ta_CDLBREAKAWAY.c\n",
            "ta-lib/src/ta_func/ta_CDLDRAGONFLYDOJI.c\n",
            "ta-lib/src/ta_func/ta_CDLHIGHWAVE.c\n",
            "ta-lib/src/ta_func/ta_CDLKICKING.c\n",
            "ta-lib/src/ta_func/ta_CDLDOJISTAR.c\n",
            "ta-lib/src/ta_func/ta_VAR.c\n",
            "ta-lib/src/ta_func/ta_CDLMATCHINGLOW.c\n",
            "ta-lib/src/ta_func/ta_CDLGAPSIDESIDEWHITE.c\n",
            "ta-lib/src/ta_func/ta_CDLMARUBOZU.c\n",
            "ta-lib/src/ta_func/ta_AROONOSC.c\n",
            "ta-lib/src/ta_func/ta_WCLPRICE.c\n",
            "ta-lib/src/ta_func/ta_CDLEVENINGDOJISTAR.c\n",
            "ta-lib/src/ta_func/ta_CDL3INSIDE.c\n",
            "ta-lib/src/ta_func/ta_OBV.c\n",
            "ta-lib/src/ta_func/ta_AROON.c\n",
            "ta-lib/src/ta_func/ta_CDLBELTHOLD.c\n",
            "ta-lib/src/ta_func/ta_CDLSPINNINGTOP.c\n",
            "ta-lib/src/ta_func/ta_AD.c\n",
            "ta-lib/src/ta_func/ta_MAX.c\n",
            "ta-lib/src/ta_func/ta_CDLENGULFING.c\n",
            "ta-lib/src/ta_func/ta_MINMAX.c\n",
            "ta-lib/src/ta_func/ta_CDLINNECK.c\n",
            "ta-lib/src/ta_func/ta_STDDEV.c\n",
            "ta-lib/src/ta_func/ta_NVI.c\n",
            "ta-lib/src/ta_func/ta_CDLHAMMER.c\n",
            "ta-lib/src/ta_func/ta_ASIN.c\n",
            "ta-lib/src/ta_func/ta_SUM.c\n",
            "ta-lib/src/ta_func/ta_STOCH.c\n",
            "ta-lib/src/ta_func/ta_CDLLONGLEGGEDDOJI.c\n",
            "ta-lib/src/ta_func/ta_MEDPRICE.c\n",
            "ta-lib/src/ta_func/ta_CDL3STARSINSOUTH.c\n",
            "ta-lib/src/ta_func/ta_HT_TRENDMODE.c\n",
            "ta-lib/src/ta_func/ta_BBANDS.c\n",
            "ta-lib/src/ta_func/ta_CDLMORNINGSTAR.c\n",
            "ta-lib/src/ta_func/ta_HT_DCPHASE.c\n",
            "ta-lib/src/ta_func/ta_CDLLONGLINE.c\n",
            "ta-lib/src/ta_func/ta_TAN.c\n",
            "ta-lib/src/ta_func/ta_SMA.c\n",
            "ta-lib/src/ta_func/ta_DX.c\n",
            "ta-lib/src/ta_func/ta_MIDPOINT.c\n",
            "ta-lib/src/ta_func/ta_CDL2CROWS.c\n",
            "ta-lib/src/ta_func/ta_CORREL.c\n",
            "ta-lib/src/ta_func/ta_CDL3BLACKCROWS.c\n",
            "ta-lib/src/ta_func/ta_ADD.c\n",
            "ta-lib/src/ta_func/Makefile.in\n",
            "ta-lib/src/ta_func/ta_CDLTHRUSTING.c\n",
            "ta-lib/src/ta_func/ta_SUB.c\n",
            "ta-lib/src/ta_func/ta_CDLSTALLEDPATTERN.c\n",
            "ta-lib/src/ta_func/ta_CDLTRISTAR.c\n",
            "ta-lib/src/ta_func/ta_MA.c\n",
            "ta-lib/src/ta_func/ta_HT_SINE.c\n",
            "ta-lib/src/ta_func/ta_ACOS.c\n",
            "ta-lib/src/ta_func/ta_CDLSTICKSANDWICH.c\n",
            "ta-lib/src/ta_func/ta_SINH.c\n",
            "ta-lib/src/ta_func/ta_utility.h\n",
            "ta-lib/src/ta_func/ta_CDLSHORTLINE.c\n",
            "ta-lib/src/ta_func/ta_ATAN.c\n",
            "ta-lib/src/ta_func/ta_CDLADVANCEBLOCK.c\n",
            "ta-lib/src/ta_func/ta_CDLKICKINGBYLENGTH.c\n",
            "ta-lib/src/ta_func/ta_CDLSHOOTINGSTAR.c\n",
            "ta-lib/src/ta_func/ta_ROCR.c\n",
            "ta-lib/src/ta_func/ta_WMA.c\n",
            "ta-lib/src/ta_func/ta_CDLDARKCLOUDCOVER.c\n",
            "ta-lib/src/ta_func/ta_CDLXSIDEGAP3METHODS.c\n",
            "ta-lib/src/ta_func/ta_TYPPRICE.c\n",
            "ta-lib/src/ta_func/ta_CDL3WHITESOLDIERS.c\n",
            "ta-lib/src/ta_func/Makefile.am\n",
            "ta-lib/src/ta_func/ta_MACDEXT.c\n",
            "ta-lib/src/ta_func/ta_ADX.c\n",
            "ta-lib/src/ta_func/ta_PLUS_DM.c\n",
            "ta-lib/src/ta_func/ta_CDLUPSIDEGAP2CROWS.c\n",
            "ta-lib/src/ta_func/ta_LN.c\n",
            "ta-lib/src/ta_func/ta_DEMA.c\n",
            "ta-lib/src/ta_func/ta_CDL3OUTSIDE.c\n",
            "ta-lib/src/ta_func/ta_CDLTASUKIGAP.c\n",
            "ta-lib/src/ta_func/ta_MAMA.c\n",
            "ta-lib/src/ta_func/ta_CDLMORNINGDOJISTAR.c\n",
            "ta-lib/src/ta_func/ta_PLUS_DI.c\n",
            "ta-lib/src/ta_func/ta_MININDEX.c\n",
            "ta-lib/src/ta_func/ta_COS.c\n",
            "ta-lib/src/ta_func/ta_HT_TRENDLINE.c\n",
            "ta-lib/src/ta_func/ta_MIDPRICE.c\n",
            "ta-lib/src/ta_func/ta_CEIL.c\n",
            "ta-lib/src/ta_func/ta_TRIMA.c\n",
            "ta-lib/src/ta_func/ta_CDLSEPARATINGLINES.c\n",
            "ta-lib/src/ta_func/ta_ROCP.c\n",
            "ta-lib/src/ta_func/ta_CDLHOMINGPIGEON.c\n",
            "ta-lib/src/ta_func/ta_CDLHANGINGMAN.c\n",
            "ta-lib/src/ta_func/ta_AVGPRICE.c\n",
            "ta-lib/src/ta_func/ta_APO.c\n",
            "ta-lib/src/ta_func/ta_CDLRISEFALL3METHODS.c\n",
            "ta-lib/src/ta_func/ta_TRANGE.c\n",
            "ta-lib/src/ta_func/ta_TSF.c\n",
            "ta-lib/src/ta_func/ta_LINEARREG.c\n",
            "ta-lib/src/ta_func/ta_PVI.c\n",
            "ta-lib/src/ta_func/ta_CDLHIKKAKEMOD.c\n",
            "ta-lib/src/ta_func/ta_MFI.c\n",
            "ta-lib/src/ta_func/ta_CDLHARAMI.c\n",
            "ta-lib/src/ta_func/ta_MACD.c\n",
            "ta-lib/src/ta_func/ta_BETA.c\n",
            "ta-lib/src/ta_func/ta_CDLINVERTEDHAMMER.c\n",
            "ta-lib/src/ta_func/ta_LINEARREG_SLOPE.c\n",
            "ta-lib/src/ta_func/ta_STOCHF.c\n",
            "ta-lib/src/ta_func/ta_MIN.c\n",
            "ta-lib/src/ta_func/ta_CDLIDENTICAL3CROWS.c\n",
            "ta-lib/src/ta_func/ta_CDLRICKSHAWMAN.c\n",
            "ta-lib/src/ta_func/ta_T3.c\n",
            "ta-lib/src/ta_func/ta_CDLMATHOLD.c\n",
            "ta-lib/src/ta_func/ta_CDLUNIQUE3RIVER.c\n",
            "ta-lib/src/ta_func/ta_ADOSC.c\n",
            "ta-lib/src/ta_func/ta_MAXINDEX.c\n",
            "ta-lib/src/ta_func/ta_ULTOSC.c\n",
            "ta-lib/src/ta_func/ta_TRIX.c\n",
            "ta-lib/src/ta_func/ta_MOM.c\n",
            "ta-lib/src/ta_func/ta_CDLDOJI.c\n",
            "ta-lib/src/ta_func/ta_EMA.c\n",
            "ta-lib/src/ta_func/ta_STOCHRSI.c\n",
            "ta-lib/src/ta_func/ta_ROC.c\n",
            "ta-lib/src/ta_func/ta_CDLEVENINGSTAR.c\n",
            "ta-lib/src/ta_func/ta_CDLCOUNTERATTACK.c\n",
            "ta-lib/src/ta_func/ta_LINEARREG_INTERCEPT.c\n",
            "ta-lib/src/ta_func/ta_SAREXT.c\n",
            "ta-lib/src/ta_func/ta_WILLR.c\n",
            "ta-lib/src/ta_func/ta_MULT.c\n",
            "ta-lib/src/ta_func/ta_ATR.c\n",
            "ta-lib/src/ta_func/ta_BOP.c\n",
            "ta-lib/src/ta_func/ta_CMO.c\n",
            "ta-lib/src/ta_func/ta_CDLONNECK.c\n",
            "ta-lib/src/ta_func/ta_CCI.c\n",
            "ta-lib/src/ta_func/ta_CDLLADDERBOTTOM.c\n",
            "ta-lib/src/ta_func/ta_HT_PHASOR.c\n",
            "ta-lib/src/ta_func/ta_utility.c\n",
            "ta-lib/src/ta_func/ta_PPO.c\n",
            "ta-lib/src/ta_func/ta_CDLHIKKAKE.c\n",
            "ta-lib/src/ta_func/ta_HT_DCPERIOD.c\n",
            "ta-lib/src/ta_func/ta_CDL3LINESTRIKE.c\n",
            "ta-lib/src/ta_func/ta_TEMA.c\n",
            "ta-lib/src/ta_func/ta_SIN.c\n",
            "ta-lib/src/ta_func/ta_MINUS_DI.c\n",
            "ta-lib/src/ta_func/ta_KAMA.c\n",
            "ta-lib/src/ta_func/ta_TANH.c\n",
            "ta-lib/src/ta_func/ta_CDLTAKURI.c\n",
            "ta-lib/src/ta_func/ta_CDLGRAVESTONEDOJI.c\n",
            "ta-lib/src/ta_common/\n",
            "ta-lib/src/ta_common/ta_pragma.h\n",
            "ta-lib/src/ta_common/ta_magic_nb.h\n",
            "ta-lib/src/ta_common/ta_retcode.csv\n",
            "ta-lib/src/ta_common/Makefile.in\n",
            "ta-lib/src/ta_common/Makefile.am\n",
            "ta-lib/src/ta_common/ta_memory.h\n",
            "ta-lib/src/ta_common/ta_version.c\n",
            "ta-lib/src/ta_common/ta_global.h\n",
            "ta-lib/src/ta_common/ta_global.c\n",
            "ta-lib/src/ta_common/ta_retcode.c\n",
            "ta-lib/src/Makefile.in\n",
            "ta-lib/src/ta_abstract/\n",
            "ta-lib/src/ta_abstract/frames/\n",
            "ta-lib/src/ta_abstract/frames/ta_frame.c\n",
            "ta-lib/src/ta_abstract/frames/ta_frame.h\n",
            "ta-lib/src/ta_abstract/excel_glue.c\n",
            "ta-lib/src/ta_abstract/ta_frame_priv.h\n",
            "ta-lib/src/ta_abstract/ta_func_api.c\n",
            "ta-lib/src/ta_abstract/Makefile.in\n",
            "ta-lib/src/ta_abstract/ta_def_ui.h\n",
            "ta-lib/src/ta_abstract/Makefile.am\n",
            "ta-lib/src/ta_abstract/ta_abstract.c\n",
            "ta-lib/src/ta_abstract/ta_group_idx.c\n",
            "ta-lib/src/ta_abstract/tables/\n",
            "ta-lib/src/ta_abstract/tables/table_u.c\n",
            "ta-lib/src/ta_abstract/tables/table_x.c\n",
            "ta-lib/src/ta_abstract/tables/table_r.c\n",
            "ta-lib/src/ta_abstract/tables/table_f.c\n",
            "ta-lib/src/ta_abstract/tables/table_j.c\n",
            "ta-lib/src/ta_abstract/tables/table_e.c\n",
            "ta-lib/src/ta_abstract/tables/table_t.c\n",
            "ta-lib/src/ta_abstract/tables/table_n.c\n",
            "ta-lib/src/ta_abstract/tables/table_i.c\n",
            "ta-lib/src/ta_abstract/tables/table_c.c\n",
            "ta-lib/src/ta_abstract/tables/table_l.c\n",
            "ta-lib/src/ta_abstract/tables/table_k.c\n",
            "ta-lib/src/ta_abstract/tables/table_g.c\n",
            "ta-lib/src/ta_abstract/tables/table_d.c\n",
            "ta-lib/src/ta_abstract/tables/table_h.c\n",
            "ta-lib/src/ta_abstract/tables/table_o.c\n",
            "ta-lib/src/ta_abstract/tables/table_b.c\n",
            "ta-lib/src/ta_abstract/tables/table_q.c\n",
            "ta-lib/src/ta_abstract/tables/table_v.c\n",
            "ta-lib/src/ta_abstract/tables/table_m.c\n",
            "ta-lib/src/ta_abstract/tables/table_s.c\n",
            "ta-lib/src/ta_abstract/tables/table_y.c\n",
            "ta-lib/src/ta_abstract/tables/table_p.c\n",
            "ta-lib/src/ta_abstract/tables/table_z.c\n",
            "ta-lib/src/ta_abstract/tables/table_a.c\n",
            "ta-lib/src/ta_abstract/tables/table_w.c\n",
            "ta-lib/src/ta_abstract/ta_def_ui.c\n",
            "ta-lib/src/ta_abstract/templates/\n",
            "ta-lib/src/ta_abstract/templates/ta_x.c.template\n",
            "ta-lib/src/ta_abstract/templates/ta_java_defs.h.template\n",
            "ta-lib/src/ta_abstract/templates/excel_glue.c.template\n",
            "ta-lib/src/ta_abstract/templates/ta_group_idx.c.template\n",
            "ta-lib/src/ta_abstract/templates/ta_frame.c.template\n",
            "ta-lib/src/ta_abstract/templates/CoreAnnotated.java.template\n",
            "ta-lib/src/ta_abstract/templates/ta_func.h.template\n",
            "ta-lib/src/ta_abstract/templates/ta_frame.h.template\n",
            "ta-lib/src/ta_abstract/templates/Makefile.am.template\n",
            "ta-lib/src/ta_abstract/templates/ta_func_api.c.template\n",
            "ta-lib/src/ta_abstract/templates/ta_func.swg.template\n",
            "ta-lib/src/ta_abstract/templates/ta_retcode.c.template\n",
            "ta-lib/src/ta_abstract/ta_java_defs.h\n",
            "ta-lib/src/Makefile.am\n",
            "ta-lib/src/tools/\n",
            "ta-lib/src/tools/ta_regtest/\n",
            "ta-lib/src/tools/ta_regtest/test_util.c\n",
            "ta-lib/src/tools/ta_regtest/ta_test_func.h\n",
            "ta-lib/src/tools/ta_regtest/test_data.c\n",
            "ta-lib/src/tools/ta_regtest/ta_gDataHigh.c\n",
            "ta-lib/src/tools/ta_regtest/Makefile.in\n",
            "ta-lib/src/tools/ta_regtest/test_internals.c\n",
            "ta-lib/src/tools/ta_regtest/Makefile.am\n",
            "ta-lib/src/tools/ta_regtest/ta_regtest.c\n",
            "ta-lib/src/tools/ta_regtest/ta_gDataOpen.c\n",
            "ta-lib/src/tools/ta_regtest/ta_gDataClose.c\n",
            "ta-lib/src/tools/ta_regtest/test_abstract.c\n",
            "ta-lib/src/tools/ta_regtest/ta_test_func/\n",
            "ta-lib/src/tools/ta_regtest/ta_test_func/test_bbands.c\n",
            "ta-lib/src/tools/ta_regtest/ta_test_func/test_stddev.c\n",
            "ta-lib/src/tools/ta_regtest/ta_test_func/test_1in_2out.c\n",
            "ta-lib/src/tools/ta_regtest/ta_test_func/test_sar.c\n",
            "ta-lib/src/tools/ta_regtest/ta_test_func/test_1in_1out.c\n",
            "ta-lib/src/tools/ta_regtest/ta_test_func/test_trange.c\n",
            "ta-lib/src/tools/ta_regtest/ta_test_func/test_macd.c\n",
            "ta-lib/src/tools/ta_regtest/ta_test_func/test_po.c\n",
            "ta-lib/src/tools/ta_regtest/ta_test_func/test_per_hlc.c\n",
            "ta-lib/src/tools/ta_regtest/ta_test_func/test_mom.c\n",
            "ta-lib/src/tools/ta_regtest/ta_test_func/test_per_ohlc.c\n",
            "ta-lib/src/tools/ta_regtest/ta_test_func/test_adx.c\n",
            "ta-lib/src/tools/ta_regtest/ta_test_func/test_candlestick.c\n",
            "ta-lib/src/tools/ta_regtest/ta_test_func/test_rsi.c\n",
            "ta-lib/src/tools/ta_regtest/ta_test_func/test_per_ema.c\n",
            "ta-lib/src/tools/ta_regtest/ta_test_func/test_minmax.c\n",
            "ta-lib/src/tools/ta_regtest/ta_test_func/test_per_hlcv.c\n",
            "ta-lib/src/tools/ta_regtest/ta_test_func/test_per_hl.c\n",
            "ta-lib/src/tools/ta_regtest/ta_test_func/test_stoch.c\n",
            "ta-lib/src/tools/ta_regtest/ta_test_func/test_ma.c\n",
            "ta-lib/src/tools/ta_regtest/ta_error_number.h\n",
            "ta-lib/src/tools/ta_regtest/ta_test_priv.h\n",
            "ta-lib/src/tools/ta_regtest/ReadMe.txt\n",
            "ta-lib/src/tools/ta_regtest/ta_gDataLow.c\n",
            "ta-lib/src/tools/Makefile.in\n",
            "ta-lib/src/tools/Makefile.am\n",
            "ta-lib/src/tools/gen_code/\n",
            "ta-lib/src/tools/gen_code/java/\n",
            "ta-lib/src/tools/gen_code/java/PrettyCode.java\n",
            "ta-lib/src/tools/gen_code/java/Main.java\n",
            "ta-lib/src/tools/gen_code/gen_code.c\n",
            "ta-lib/src/tools/gen_code/Makefile.in\n",
            "ta-lib/src/tools/gen_code/Makefile.am\n",
            "ta-lib/src/tools/gen_code/mcpp.exe\n",
            "/content/ta-lib/ta-lib/ta-lib\n",
            "checking for a BSD-compatible install... /usr/bin/install -c\n",
            "checking whether build environment is sane... yes\n",
            "checking for a thread-safe mkdir -p... /usr/bin/mkdir -p\n",
            "checking for gawk... no\n",
            "checking for mawk... mawk\n",
            "checking whether make sets $(MAKE)... yes\n",
            "checking for gcc... gcc\n",
            "checking for C compiler default output file name... a.out\n",
            "checking whether the C compiler works... yes\n",
            "checking whether we are cross compiling... no\n",
            "checking for suffix of executables... \n",
            "checking for suffix of object files... o\n",
            "checking whether we are using the GNU C compiler... yes\n",
            "checking whether gcc accepts -g... yes\n",
            "checking for gcc option to accept ISO C89... none needed\n",
            "checking for style of include used by make... GNU\n",
            "checking dependency style of gcc... gcc3\n",
            "checking build system type... x86_64-unknown-linux-gnu\n",
            "checking host system type... x86_64-unknown-linux-gnu\n",
            "checking for a sed that does not truncate output... /usr/bin/sed\n",
            "checking for grep that handles long lines and -e... /usr/bin/grep\n",
            "checking for egrep... /usr/bin/grep -E\n",
            "checking for ld used by gcc... /usr/bin/ld\n",
            "checking if the linker (/usr/bin/ld) is GNU ld... yes\n",
            "checking for /usr/bin/ld option to reload object files... -r\n",
            "checking for BSD-compatible nm... /usr/bin/nm -B\n",
            "checking whether ln -s works... yes\n",
            "checking how to recognise dependent libraries... pass_all\n",
            "checking how to run the C preprocessor... gcc -E\n",
            "checking for ANSI C header files... yes\n",
            "checking for sys/types.h... yes\n",
            "checking for sys/stat.h... yes\n",
            "checking for stdlib.h... yes\n",
            "checking for string.h... yes\n",
            "checking for memory.h... yes\n",
            "checking for strings.h... yes\n",
            "checking for inttypes.h... yes\n",
            "checking for stdint.h... yes\n",
            "checking for unistd.h... yes\n",
            "checking dlfcn.h usability... yes\n",
            "checking dlfcn.h presence... yes\n",
            "checking for dlfcn.h... yes\n",
            "checking for g++... g++\n",
            "checking whether we are using the GNU C++ compiler... yes\n",
            "checking whether g++ accepts -g... yes\n",
            "checking dependency style of g++... gcc3\n",
            "checking how to run the C++ preprocessor... g++ -E\n",
            "checking for g77... no\n",
            "checking for xlf... no\n",
            "checking for f77... f77\n",
            "checking whether we are using the GNU Fortran 77 compiler... yes\n",
            "checking whether f77 accepts -g... yes\n",
            "checking the maximum length of command line arguments... 32768\n",
            "checking command to parse /usr/bin/nm -B output from gcc object... ok\n",
            "checking for objdir... .libs\n",
            "checking for ar... ar\n",
            "checking for ranlib... ranlib\n",
            "checking for strip... strip\n",
            "checking if gcc supports -fno-rtti -fno-exceptions... no\n",
            "checking for gcc option to produce PIC... -fPIC\n",
            "checking if gcc PIC flag -fPIC works... yes\n",
            "checking if gcc static flag -static works... yes\n",
            "checking if gcc supports -c -o file.o... yes\n",
            "checking whether the gcc linker (/usr/bin/ld -m elf_x86_64) supports shared libraries... yes\n",
            "checking whether -lc should be explicitly linked in... no\n",
            "checking dynamic linker characteristics... GNU/Linux ld.so\n",
            "checking how to hardcode library paths into programs... immediate\n",
            "checking whether stripping libraries is possible... yes\n",
            "checking if libtool supports shared libraries... yes\n",
            "checking whether to build shared libraries... yes\n",
            "checking whether to build static libraries... yes\n",
            "configure: creating libtool\n",
            "appending configuration tag \"CXX\" to libtool\n",
            "checking for ld used by g++... /usr/bin/ld -m elf_x86_64\n",
            "checking if the linker (/usr/bin/ld -m elf_x86_64) is GNU ld... yes\n",
            "checking whether the g++ linker (/usr/bin/ld -m elf_x86_64) supports shared libraries... yes\n",
            "checking for g++ option to produce PIC... -fPIC\n",
            "checking if g++ PIC flag -fPIC works... yes\n",
            "checking if g++ static flag -static works... yes\n",
            "checking if g++ supports -c -o file.o... yes\n",
            "checking whether the g++ linker (/usr/bin/ld -m elf_x86_64) supports shared libraries... yes\n",
            "checking dynamic linker characteristics... GNU/Linux ld.so\n",
            "checking how to hardcode library paths into programs... immediate\n",
            "appending configuration tag \"F77\" to libtool\n",
            "checking if libtool supports shared libraries... yes\n",
            "checking whether to build shared libraries... yes\n",
            "checking whether to build static libraries... yes\n",
            "checking for f77 option to produce PIC... -fPIC\n",
            "checking if f77 PIC flag -fPIC works... yes\n",
            "checking if f77 static flag -static works... yes\n",
            "checking if f77 supports -c -o file.o... yes\n",
            "checking whether the f77 linker (/usr/bin/ld -m elf_x86_64) supports shared libraries... yes\n",
            "checking dynamic linker characteristics... GNU/Linux ld.so\n",
            "checking how to hardcode library paths into programs... immediate\n",
            "checking for dlopen in -ldl... yes\n",
            "checking for pthread_create in -lpthread... yes\n",
            "checking for ANSI C header files... (cached) yes\n",
            "checking float.h usability... yes\n",
            "checking float.h presence... yes\n",
            "checking for float.h... yes\n",
            "checking for inttypes.h... (cached) yes\n",
            "checking limits.h usability... yes\n",
            "checking limits.h presence... yes\n",
            "checking for limits.h... yes\n",
            "checking locale.h usability... yes\n",
            "checking locale.h presence... yes\n",
            "checking for locale.h... yes\n",
            "checking stddef.h usability... yes\n",
            "checking stddef.h presence... yes\n",
            "checking for stddef.h... yes\n",
            "checking for stdint.h... (cached) yes\n",
            "checking for stdlib.h... (cached) yes\n",
            "checking for string.h... (cached) yes\n",
            "checking for unistd.h... (cached) yes\n",
            "checking wchar.h usability... yes\n",
            "checking wchar.h presence... yes\n",
            "checking for wchar.h... yes\n",
            "checking wctype.h usability... yes\n",
            "checking wctype.h presence... yes\n",
            "checking for wctype.h... yes\n",
            "checking for an ANSI C-conforming const... yes\n",
            "checking for size_t... yes\n",
            "checking whether struct tm is in sys/time.h or time.h... time.h\n",
            "checking for working volatile... yes\n",
            "checking for ptrdiff_t... yes\n",
            "checking return type of signal handlers... void\n",
            "checking for working strcoll... yes\n",
            "checking for strftime... yes\n",
            "checking for working strtod... yes\n",
            "checking for vprintf... yes\n",
            "checking for _doprnt... no\n",
            "checking for floor... no\n",
            "checking for isascii... yes\n",
            "checking for localeconv... yes\n",
            "checking for mblen... yes\n",
            "checking for memmove... yes\n",
            "checking for memset... yes\n",
            "checking for modf... yes\n",
            "checking for pow... no\n",
            "checking for sqrt... no\n",
            "checking for strcasecmp... yes\n",
            "checking for strchr... yes\n",
            "checking for strerror... yes\n",
            "checking for strncasecmp... yes\n",
            "checking for strrchr... yes\n",
            "checking for strstr... yes\n",
            "checking for strtol... yes\n",
            "checking for strtoul... yes\n",
            "configure: creating ./config.status\n",
            "config.status: creating Makefile\n",
            "config.status: creating src/Makefile\n",
            "config.status: creating src/ta_abstract/Makefile\n",
            "config.status: creating src/ta_common/Makefile\n",
            "config.status: creating src/ta_func/Makefile\n",
            "config.status: creating src/tools/Makefile\n",
            "config.status: creating src/tools/gen_code/Makefile\n",
            "config.status: creating src/tools/ta_regtest/Makefile\n",
            "config.status: creating ta-lib-config\n",
            "config.status: creating ta-lib.spec\n",
            "config.status: creating ta-lib.dpkg\n",
            "config.status: creating include/ta_config.h\n",
            "config.status: executing depfiles commands\n",
            "Making all in src\n",
            "make[1]: Entering directory '/content/ta-lib/ta-lib/ta-lib/src'\n",
            "Making all in ta_abstract\n",
            "make[2]: Entering directory '/content/ta-lib/ta-lib/ta-lib/src/ta_abstract'\n",
            "/bin/bash ../../libtool --tag=CC   --mode=compile gcc -DHAVE_CONFIG_H -I. -I../../include  -I../ta_common/ -Iframes/   -g -O2 -MT libta_abstract_la-ta_group_idx.lo -MD -MP -MF .deps/libta_abstract_la-ta_group_idx.Tpo -c -o libta_abstract_la-ta_group_idx.lo `test -f 'ta_group_idx.c' || echo './'`ta_group_idx.c\n",
            "mkdir .libs\n",
            " gcc -DHAVE_CONFIG_H -I. -I../../include -I../ta_common/ -Iframes/ -g -O2 -MT libta_abstract_la-ta_group_idx.lo -MD -MP -MF .deps/libta_abstract_la-ta_group_idx.Tpo -c ta_group_idx.c  -fPIC -DPIC -o .libs/libta_abstract_la-ta_group_idx.o\n",
            " gcc -DHAVE_CONFIG_H -I. -I../../include -I../ta_common/ -Iframes/ -g -O2 -MT libta_abstract_la-ta_group_idx.lo -MD -MP -MF .deps/libta_abstract_la-ta_group_idx.Tpo -c ta_group_idx.c -o libta_abstract_la-ta_group_idx.o >/dev/null 2>&1\n",
            "mv -f .deps/libta_abstract_la-ta_group_idx.Tpo .deps/libta_abstract_la-ta_group_idx.Plo\n",
            "/bin/bash ../../libtool --tag=CC   --mode=compile gcc -DHAVE_CONFIG_H -I. -I../../include  -I../ta_common/ -Iframes/   -g -O2 -MT libta_abstract_la-ta_def_ui.lo -MD -MP -MF .deps/libta_abstract_la-ta_def_ui.Tpo -c -o libta_abstract_la-ta_def_ui.lo `test -f 'ta_def_ui.c' || echo './'`ta_def_ui.c\n",
            " gcc -DHAVE_CONFIG_H -I. -I../../include -I../ta_common/ -Iframes/ -g -O2 -MT libta_abstract_la-ta_def_ui.lo -MD -MP -MF .deps/libta_abstract_la-ta_def_ui.Tpo -c ta_def_ui.c  -fPIC -DPIC -o .libs/libta_abstract_la-ta_def_ui.o\n",
            " gcc -DHAVE_CONFIG_H -I. -I../../include -I../ta_common/ -Iframes/ -g -O2 -MT libta_abstract_la-ta_def_ui.lo -MD -MP -MF .deps/libta_abstract_la-ta_def_ui.Tpo -c ta_def_ui.c -o libta_abstract_la-ta_def_ui.o >/dev/null 2>&1\n",
            "mv -f .deps/libta_abstract_la-ta_def_ui.Tpo .deps/libta_abstract_la-ta_def_ui.Plo\n",
            "/bin/bash ../../libtool --tag=CC   --mode=compile gcc -DHAVE_CONFIG_H -I. -I../../include  -I../ta_common/ -Iframes/   -g -O2 -MT libta_abstract_la-ta_abstract.lo -MD -MP -MF .deps/libta_abstract_la-ta_abstract.Tpo -c -o libta_abstract_la-ta_abstract.lo `test -f 'ta_abstract.c' || echo './'`ta_abstract.c\n",
            " gcc -DHAVE_CONFIG_H -I. -I../../include -I../ta_common/ -Iframes/ -g -O2 -MT libta_abstract_la-ta_abstract.lo -MD -MP -MF .deps/libta_abstract_la-ta_abstract.Tpo -c ta_abstract.c  -fPIC -DPIC -o .libs/libta_abstract_la-ta_abstract.o\n",
            " gcc -DHAVE_CONFIG_H -I. -I../../include -I../ta_common/ -Iframes/ -g -O2 -MT libta_abstract_la-ta_abstract.lo -MD -MP -MF .deps/libta_abstract_la-ta_abstract.Tpo -c ta_abstract.c -o libta_abstract_la-ta_abstract.o >/dev/null 2>&1\n",
            "mv -f .deps/libta_abstract_la-ta_abstract.Tpo .deps/libta_abstract_la-ta_abstract.Plo\n",
            "/bin/bash ../../libtool --tag=CC   --mode=compile gcc -DHAVE_CONFIG_H -I. -I../../include  -I../ta_common/ -Iframes/   -g -O2 -MT libta_abstract_la-ta_func_api.lo -MD -MP -MF .deps/libta_abstract_la-ta_func_api.Tpo -c -o libta_abstract_la-ta_func_api.lo `test -f 'ta_func_api.c' || echo './'`ta_func_api.c\n",
            " gcc -DHAVE_CONFIG_H -I. -I../../include -I../ta_common/ -Iframes/ -g -O2 -MT libta_abstract_la-ta_func_api.lo -MD -MP -MF .deps/libta_abstract_la-ta_func_api.Tpo -c ta_func_api.c  -fPIC -DPIC -o .libs/libta_abstract_la-ta_func_api.o\n",
            " gcc -DHAVE_CONFIG_H -I. -I../../include -I../ta_common/ -Iframes/ -g -O2 -MT libta_abstract_la-ta_func_api.lo -MD -MP -MF .deps/libta_abstract_la-ta_func_api.Tpo -c ta_func_api.c -o libta_abstract_la-ta_func_api.o >/dev/null 2>&1\n",
            "mv -f .deps/libta_abstract_la-ta_func_api.Tpo .deps/libta_abstract_la-ta_func_api.Plo\n",
            "/bin/bash ../../libtool --tag=CC   --mode=compile gcc -DHAVE_CONFIG_H -I. -I../../include  -I../ta_common/ -Iframes/   -g -O2 -MT libta_abstract_la-ta_frame.lo -MD -MP -MF .deps/libta_abstract_la-ta_frame.Tpo -c -o libta_abstract_la-ta_frame.lo `test -f 'frames/ta_frame.c' || echo './'`frames/ta_frame.c\n",
            " gcc -DHAVE_CONFIG_H -I. -I../../include -I../ta_common/ -Iframes/ -g -O2 -MT libta_abstract_la-ta_frame.lo -MD -MP -MF .deps/libta_abstract_la-ta_frame.Tpo -c frames/ta_frame.c  -fPIC -DPIC -o .libs/libta_abstract_la-ta_frame.o\n",
            " gcc -DHAVE_CONFIG_H -I. -I../../include -I../ta_common/ -Iframes/ -g -O2 -MT libta_abstract_la-ta_frame.lo -MD -MP -MF .deps/libta_abstract_la-ta_frame.Tpo -c frames/ta_frame.c -o libta_abstract_la-ta_frame.o >/dev/null 2>&1\n",
            "mv -f .deps/libta_abstract_la-ta_frame.Tpo .deps/libta_abstract_la-ta_frame.Plo\n",
            "/bin/bash ../../libtool --tag=CC   --mode=compile gcc -DHAVE_CONFIG_H -I. -I../../include  -I../ta_common/ -Iframes/   -g -O2 -MT libta_abstract_la-table_a.lo -MD -MP -MF .deps/libta_abstract_la-table_a.Tpo -c -o libta_abstract_la-table_a.lo `test -f 'tables/table_a.c' || echo './'`tables/table_a.c\n",
            " gcc -DHAVE_CONFIG_H -I. -I../../include -I../ta_common/ -Iframes/ -g -O2 -MT libta_abstract_la-table_a.lo -MD -MP -MF .deps/libta_abstract_la-table_a.Tpo -c tables/table_a.c  -fPIC -DPIC -o .libs/libta_abstract_la-table_a.o\n",
            " gcc -DHAVE_CONFIG_H -I. -I../../include -I../ta_common/ -Iframes/ -g -O2 -MT libta_abstract_la-table_a.lo -MD -MP -MF .deps/libta_abstract_la-table_a.Tpo -c tables/table_a.c -o libta_abstract_la-table_a.o >/dev/null 2>&1\n",
            "mv -f .deps/libta_abstract_la-table_a.Tpo .deps/libta_abstract_la-table_a.Plo\n",
            "/bin/bash ../../libtool --tag=CC   --mode=compile gcc -DHAVE_CONFIG_H -I. -I../../include  -I../ta_common/ -Iframes/   -g -O2 -MT libta_abstract_la-table_b.lo -MD -MP -MF .deps/libta_abstract_la-table_b.Tpo -c -o libta_abstract_la-table_b.lo `test -f 'tables/table_b.c' || echo './'`tables/table_b.c\n",
            " gcc -DHAVE_CONFIG_H -I. -I../../include -I../ta_common/ -Iframes/ -g -O2 -MT libta_abstract_la-table_b.lo -MD -MP -MF .deps/libta_abstract_la-table_b.Tpo -c tables/table_b.c  -fPIC -DPIC -o .libs/libta_abstract_la-table_b.o\n",
            " gcc -DHAVE_CONFIG_H -I. -I../../include -I../ta_common/ -Iframes/ -g -O2 -MT libta_abstract_la-table_b.lo -MD -MP -MF .deps/libta_abstract_la-table_b.Tpo -c tables/table_b.c -o libta_abstract_la-table_b.o >/dev/null 2>&1\n",
            "mv -f .deps/libta_abstract_la-table_b.Tpo .deps/libta_abstract_la-table_b.Plo\n",
            "/bin/bash ../../libtool --tag=CC   --mode=compile gcc -DHAVE_CONFIG_H -I. -I../../include  -I../ta_common/ -Iframes/   -g -O2 -MT libta_abstract_la-table_c.lo -MD -MP -MF .deps/libta_abstract_la-table_c.Tpo -c -o libta_abstract_la-table_c.lo `test -f 'tables/table_c.c' || echo './'`tables/table_c.c\n",
            " gcc -DHAVE_CONFIG_H -I. -I../../include -I../ta_common/ -Iframes/ -g -O2 -MT libta_abstract_la-table_c.lo -MD -MP -MF .deps/libta_abstract_la-table_c.Tpo -c tables/table_c.c  -fPIC -DPIC -o .libs/libta_abstract_la-table_c.o\n",
            " gcc -DHAVE_CONFIG_H -I. -I../../include -I../ta_common/ -Iframes/ -g -O2 -MT libta_abstract_la-table_c.lo -MD -MP -MF .deps/libta_abstract_la-table_c.Tpo -c tables/table_c.c -o libta_abstract_la-table_c.o >/dev/null 2>&1\n",
            "mv -f .deps/libta_abstract_la-table_c.Tpo .deps/libta_abstract_la-table_c.Plo\n",
            "/bin/bash ../../libtool --tag=CC   --mode=compile gcc -DHAVE_CONFIG_H -I. -I../../include  -I../ta_common/ -Iframes/   -g -O2 -MT libta_abstract_la-table_d.lo -MD -MP -MF .deps/libta_abstract_la-table_d.Tpo -c -o libta_abstract_la-table_d.lo `test -f 'tables/table_d.c' || echo './'`tables/table_d.c\n",
            " gcc -DHAVE_CONFIG_H -I. -I../../include -I../ta_common/ -Iframes/ -g -O2 -MT libta_abstract_la-table_d.lo -MD -MP -MF .deps/libta_abstract_la-table_d.Tpo -c tables/table_d.c  -fPIC -DPIC -o .libs/libta_abstract_la-table_d.o\n",
            " gcc -DHAVE_CONFIG_H -I. -I../../include -I../ta_common/ -Iframes/ -g -O2 -MT libta_abstract_la-table_d.lo -MD -MP -MF .deps/libta_abstract_la-table_d.Tpo -c tables/table_d.c -o libta_abstract_la-table_d.o >/dev/null 2>&1\n",
            "mv -f .deps/libta_abstract_la-table_d.Tpo .deps/libta_abstract_la-table_d.Plo\n",
            "/bin/bash ../../libtool --tag=CC   --mode=compile gcc -DHAVE_CONFIG_H -I. -I../../include  -I../ta_common/ -Iframes/   -g -O2 -MT libta_abstract_la-table_e.lo -MD -MP -MF .deps/libta_abstract_la-table_e.Tpo -c -o libta_abstract_la-table_e.lo `test -f 'tables/table_e.c' || echo './'`tables/table_e.c\n",
            " gcc -DHAVE_CONFIG_H -I. -I../../include -I../ta_common/ -Iframes/ -g -O2 -MT libta_abstract_la-table_e.lo -MD -MP -MF .deps/libta_abstract_la-table_e.Tpo -c tables/table_e.c  -fPIC -DPIC -o .libs/libta_abstract_la-table_e.o\n",
            " gcc -DHAVE_CONFIG_H -I. -I../../include -I../ta_common/ -Iframes/ -g -O2 -MT libta_abstract_la-table_e.lo -MD -MP -MF .deps/libta_abstract_la-table_e.Tpo -c tables/table_e.c -o libta_abstract_la-table_e.o >/dev/null 2>&1\n",
            "mv -f .deps/libta_abstract_la-table_e.Tpo .deps/libta_abstract_la-table_e.Plo\n",
            "/bin/bash ../../libtool --tag=CC   --mode=compile gcc -DHAVE_CONFIG_H -I. -I../../include  -I../ta_common/ -Iframes/   -g -O2 -MT libta_abstract_la-table_f.lo -MD -MP -MF .deps/libta_abstract_la-table_f.Tpo -c -o libta_abstract_la-table_f.lo `test -f 'tables/table_f.c' || echo './'`tables/table_f.c\n",
            " gcc -DHAVE_CONFIG_H -I. -I../../include -I../ta_common/ -Iframes/ -g -O2 -MT libta_abstract_la-table_f.lo -MD -MP -MF .deps/libta_abstract_la-table_f.Tpo -c tables/table_f.c  -fPIC -DPIC -o .libs/libta_abstract_la-table_f.o\n",
            " gcc -DHAVE_CONFIG_H -I. -I../../include -I../ta_common/ -Iframes/ -g -O2 -MT libta_abstract_la-table_f.lo -MD -MP -MF .deps/libta_abstract_la-table_f.Tpo -c tables/table_f.c -o libta_abstract_la-table_f.o >/dev/null 2>&1\n",
            "mv -f .deps/libta_abstract_la-table_f.Tpo .deps/libta_abstract_la-table_f.Plo\n",
            "/bin/bash ../../libtool --tag=CC   --mode=compile gcc -DHAVE_CONFIG_H -I. -I../../include  -I../ta_common/ -Iframes/   -g -O2 -MT libta_abstract_la-table_g.lo -MD -MP -MF .deps/libta_abstract_la-table_g.Tpo -c -o libta_abstract_la-table_g.lo `test -f 'tables/table_g.c' || echo './'`tables/table_g.c\n",
            " gcc -DHAVE_CONFIG_H -I. -I../../include -I../ta_common/ -Iframes/ -g -O2 -MT libta_abstract_la-table_g.lo -MD -MP -MF .deps/libta_abstract_la-table_g.Tpo -c tables/table_g.c  -fPIC -DPIC -o .libs/libta_abstract_la-table_g.o\n",
            " gcc -DHAVE_CONFIG_H -I. -I../../include -I../ta_common/ -Iframes/ -g -O2 -MT libta_abstract_la-table_g.lo -MD -MP -MF .deps/libta_abstract_la-table_g.Tpo -c tables/table_g.c -o libta_abstract_la-table_g.o >/dev/null 2>&1\n",
            "mv -f .deps/libta_abstract_la-table_g.Tpo .deps/libta_abstract_la-table_g.Plo\n",
            "/bin/bash ../../libtool --tag=CC   --mode=compile gcc -DHAVE_CONFIG_H -I. -I../../include  -I../ta_common/ -Iframes/   -g -O2 -MT libta_abstract_la-table_h.lo -MD -MP -MF .deps/libta_abstract_la-table_h.Tpo -c -o libta_abstract_la-table_h.lo `test -f 'tables/table_h.c' || echo './'`tables/table_h.c\n",
            " gcc -DHAVE_CONFIG_H -I. -I../../include -I../ta_common/ -Iframes/ -g -O2 -MT libta_abstract_la-table_h.lo -MD -MP -MF .deps/libta_abstract_la-table_h.Tpo -c tables/table_h.c  -fPIC -DPIC -o .libs/libta_abstract_la-table_h.o\n",
            " gcc -DHAVE_CONFIG_H -I. -I../../include -I../ta_common/ -Iframes/ -g -O2 -MT libta_abstract_la-table_h.lo -MD -MP -MF .deps/libta_abstract_la-table_h.Tpo -c tables/table_h.c -o libta_abstract_la-table_h.o >/dev/null 2>&1\n",
            "mv -f .deps/libta_abstract_la-table_h.Tpo .deps/libta_abstract_la-table_h.Plo\n",
            "/bin/bash ../../libtool --tag=CC   --mode=compile gcc -DHAVE_CONFIG_H -I. -I../../include  -I../ta_common/ -Iframes/   -g -O2 -MT libta_abstract_la-table_i.lo -MD -MP -MF .deps/libta_abstract_la-table_i.Tpo -c -o libta_abstract_la-table_i.lo `test -f 'tables/table_i.c' || echo './'`tables/table_i.c\n",
            " gcc -DHAVE_CONFIG_H -I. -I../../include -I../ta_common/ -Iframes/ -g -O2 -MT libta_abstract_la-table_i.lo -MD -MP -MF .deps/libta_abstract_la-table_i.Tpo -c tables/table_i.c  -fPIC -DPIC -o .libs/libta_abstract_la-table_i.o\n",
            " gcc -DHAVE_CONFIG_H -I. -I../../include -I../ta_common/ -Iframes/ -g -O2 -MT libta_abstract_la-table_i.lo -MD -MP -MF .deps/libta_abstract_la-table_i.Tpo -c tables/table_i.c -o libta_abstract_la-table_i.o >/dev/null 2>&1\n",
            "mv -f .deps/libta_abstract_la-table_i.Tpo .deps/libta_abstract_la-table_i.Plo\n",
            "/bin/bash ../../libtool --tag=CC   --mode=compile gcc -DHAVE_CONFIG_H -I. -I../../include  -I../ta_common/ -Iframes/   -g -O2 -MT libta_abstract_la-table_j.lo -MD -MP -MF .deps/libta_abstract_la-table_j.Tpo -c -o libta_abstract_la-table_j.lo `test -f 'tables/table_j.c' || echo './'`tables/table_j.c\n",
            " gcc -DHAVE_CONFIG_H -I. -I../../include -I../ta_common/ -Iframes/ -g -O2 -MT libta_abstract_la-table_j.lo -MD -MP -MF .deps/libta_abstract_la-table_j.Tpo -c tables/table_j.c  -fPIC -DPIC -o .libs/libta_abstract_la-table_j.o\n",
            " gcc -DHAVE_CONFIG_H -I. -I../../include -I../ta_common/ -Iframes/ -g -O2 -MT libta_abstract_la-table_j.lo -MD -MP -MF .deps/libta_abstract_la-table_j.Tpo -c tables/table_j.c -o libta_abstract_la-table_j.o >/dev/null 2>&1\n",
            "mv -f .deps/libta_abstract_la-table_j.Tpo .deps/libta_abstract_la-table_j.Plo\n",
            "/bin/bash ../../libtool --tag=CC   --mode=compile gcc -DHAVE_CONFIG_H -I. -I../../include  -I../ta_common/ -Iframes/   -g -O2 -MT libta_abstract_la-table_k.lo -MD -MP -MF .deps/libta_abstract_la-table_k.Tpo -c -o libta_abstract_la-table_k.lo `test -f 'tables/table_k.c' || echo './'`tables/table_k.c\n",
            " gcc -DHAVE_CONFIG_H -I. -I../../include -I../ta_common/ -Iframes/ -g -O2 -MT libta_abstract_la-table_k.lo -MD -MP -MF .deps/libta_abstract_la-table_k.Tpo -c tables/table_k.c  -fPIC -DPIC -o .libs/libta_abstract_la-table_k.o\n",
            " gcc -DHAVE_CONFIG_H -I. -I../../include -I../ta_common/ -Iframes/ -g -O2 -MT libta_abstract_la-table_k.lo -MD -MP -MF .deps/libta_abstract_la-table_k.Tpo -c tables/table_k.c -o libta_abstract_la-table_k.o >/dev/null 2>&1\n",
            "mv -f .deps/libta_abstract_la-table_k.Tpo .deps/libta_abstract_la-table_k.Plo\n",
            "/bin/bash ../../libtool --tag=CC   --mode=compile gcc -DHAVE_CONFIG_H -I. -I../../include  -I../ta_common/ -Iframes/   -g -O2 -MT libta_abstract_la-table_l.lo -MD -MP -MF .deps/libta_abstract_la-table_l.Tpo -c -o libta_abstract_la-table_l.lo `test -f 'tables/table_l.c' || echo './'`tables/table_l.c\n",
            " gcc -DHAVE_CONFIG_H -I. -I../../include -I../ta_common/ -Iframes/ -g -O2 -MT libta_abstract_la-table_l.lo -MD -MP -MF .deps/libta_abstract_la-table_l.Tpo -c tables/table_l.c  -fPIC -DPIC -o .libs/libta_abstract_la-table_l.o\n",
            " gcc -DHAVE_CONFIG_H -I. -I../../include -I../ta_common/ -Iframes/ -g -O2 -MT libta_abstract_la-table_l.lo -MD -MP -MF .deps/libta_abstract_la-table_l.Tpo -c tables/table_l.c -o libta_abstract_la-table_l.o >/dev/null 2>&1\n",
            "mv -f .deps/libta_abstract_la-table_l.Tpo .deps/libta_abstract_la-table_l.Plo\n",
            "/bin/bash ../../libtool --tag=CC   --mode=compile gcc -DHAVE_CONFIG_H -I. -I../../include  -I../ta_common/ -Iframes/   -g -O2 -MT libta_abstract_la-table_m.lo -MD -MP -MF .deps/libta_abstract_la-table_m.Tpo -c -o libta_abstract_la-table_m.lo `test -f 'tables/table_m.c' || echo './'`tables/table_m.c\n",
            " gcc -DHAVE_CONFIG_H -I. -I../../include -I../ta_common/ -Iframes/ -g -O2 -MT libta_abstract_la-table_m.lo -MD -MP -MF .deps/libta_abstract_la-table_m.Tpo -c tables/table_m.c  -fPIC -DPIC -o .libs/libta_abstract_la-table_m.o\n",
            " gcc -DHAVE_CONFIG_H -I. -I../../include -I../ta_common/ -Iframes/ -g -O2 -MT libta_abstract_la-table_m.lo -MD -MP -MF .deps/libta_abstract_la-table_m.Tpo -c tables/table_m.c -o libta_abstract_la-table_m.o >/dev/null 2>&1\n",
            "mv -f .deps/libta_abstract_la-table_m.Tpo .deps/libta_abstract_la-table_m.Plo\n",
            "/bin/bash ../../libtool --tag=CC   --mode=compile gcc -DHAVE_CONFIG_H -I. -I../../include  -I../ta_common/ -Iframes/   -g -O2 -MT libta_abstract_la-table_n.lo -MD -MP -MF .deps/libta_abstract_la-table_n.Tpo -c -o libta_abstract_la-table_n.lo `test -f 'tables/table_n.c' || echo './'`tables/table_n.c\n",
            " gcc -DHAVE_CONFIG_H -I. -I../../include -I../ta_common/ -Iframes/ -g -O2 -MT libta_abstract_la-table_n.lo -MD -MP -MF .deps/libta_abstract_la-table_n.Tpo -c tables/table_n.c  -fPIC -DPIC -o .libs/libta_abstract_la-table_n.o\n",
            " gcc -DHAVE_CONFIG_H -I. -I../../include -I../ta_common/ -Iframes/ -g -O2 -MT libta_abstract_la-table_n.lo -MD -MP -MF .deps/libta_abstract_la-table_n.Tpo -c tables/table_n.c -o libta_abstract_la-table_n.o >/dev/null 2>&1\n",
            "mv -f .deps/libta_abstract_la-table_n.Tpo .deps/libta_abstract_la-table_n.Plo\n",
            "/bin/bash ../../libtool --tag=CC   --mode=compile gcc -DHAVE_CONFIG_H -I. -I../../include  -I../ta_common/ -Iframes/   -g -O2 -MT libta_abstract_la-table_o.lo -MD -MP -MF .deps/libta_abstract_la-table_o.Tpo -c -o libta_abstract_la-table_o.lo `test -f 'tables/table_o.c' || echo './'`tables/table_o.c\n",
            " gcc -DHAVE_CONFIG_H -I. -I../../include -I../ta_common/ -Iframes/ -g -O2 -MT libta_abstract_la-table_o.lo -MD -MP -MF .deps/libta_abstract_la-table_o.Tpo -c tables/table_o.c  -fPIC -DPIC -o .libs/libta_abstract_la-table_o.o\n",
            " gcc -DHAVE_CONFIG_H -I. -I../../include -I../ta_common/ -Iframes/ -g -O2 -MT libta_abstract_la-table_o.lo -MD -MP -MF .deps/libta_abstract_la-table_o.Tpo -c tables/table_o.c -o libta_abstract_la-table_o.o >/dev/null 2>&1\n",
            "mv -f .deps/libta_abstract_la-table_o.Tpo .deps/libta_abstract_la-table_o.Plo\n",
            "/bin/bash ../../libtool --tag=CC   --mode=compile gcc -DHAVE_CONFIG_H -I. -I../../include  -I../ta_common/ -Iframes/   -g -O2 -MT libta_abstract_la-table_p.lo -MD -MP -MF .deps/libta_abstract_la-table_p.Tpo -c -o libta_abstract_la-table_p.lo `test -f 'tables/table_p.c' || echo './'`tables/table_p.c\n",
            " gcc -DHAVE_CONFIG_H -I. -I../../include -I../ta_common/ -Iframes/ -g -O2 -MT libta_abstract_la-table_p.lo -MD -MP -MF .deps/libta_abstract_la-table_p.Tpo -c tables/table_p.c  -fPIC -DPIC -o .libs/libta_abstract_la-table_p.o\n",
            " gcc -DHAVE_CONFIG_H -I. -I../../include -I../ta_common/ -Iframes/ -g -O2 -MT libta_abstract_la-table_p.lo -MD -MP -MF .deps/libta_abstract_la-table_p.Tpo -c tables/table_p.c -o libta_abstract_la-table_p.o >/dev/null 2>&1\n",
            "mv -f .deps/libta_abstract_la-table_p.Tpo .deps/libta_abstract_la-table_p.Plo\n",
            "/bin/bash ../../libtool --tag=CC   --mode=compile gcc -DHAVE_CONFIG_H -I. -I../../include  -I../ta_common/ -Iframes/   -g -O2 -MT libta_abstract_la-table_q.lo -MD -MP -MF .deps/libta_abstract_la-table_q.Tpo -c -o libta_abstract_la-table_q.lo `test -f 'tables/table_q.c' || echo './'`tables/table_q.c\n",
            " gcc -DHAVE_CONFIG_H -I. -I../../include -I../ta_common/ -Iframes/ -g -O2 -MT libta_abstract_la-table_q.lo -MD -MP -MF .deps/libta_abstract_la-table_q.Tpo -c tables/table_q.c  -fPIC -DPIC -o .libs/libta_abstract_la-table_q.o\n",
            " gcc -DHAVE_CONFIG_H -I. -I../../include -I../ta_common/ -Iframes/ -g -O2 -MT libta_abstract_la-table_q.lo -MD -MP -MF .deps/libta_abstract_la-table_q.Tpo -c tables/table_q.c -o libta_abstract_la-table_q.o >/dev/null 2>&1\n",
            "mv -f .deps/libta_abstract_la-table_q.Tpo .deps/libta_abstract_la-table_q.Plo\n",
            "/bin/bash ../../libtool --tag=CC   --mode=compile gcc -DHAVE_CONFIG_H -I. -I../../include  -I../ta_common/ -Iframes/   -g -O2 -MT libta_abstract_la-table_r.lo -MD -MP -MF .deps/libta_abstract_la-table_r.Tpo -c -o libta_abstract_la-table_r.lo `test -f 'tables/table_r.c' || echo './'`tables/table_r.c\n",
            " gcc -DHAVE_CONFIG_H -I. -I../../include -I../ta_common/ -Iframes/ -g -O2 -MT libta_abstract_la-table_r.lo -MD -MP -MF .deps/libta_abstract_la-table_r.Tpo -c tables/table_r.c  -fPIC -DPIC -o .libs/libta_abstract_la-table_r.o\n",
            " gcc -DHAVE_CONFIG_H -I. -I../../include -I../ta_common/ -Iframes/ -g -O2 -MT libta_abstract_la-table_r.lo -MD -MP -MF .deps/libta_abstract_la-table_r.Tpo -c tables/table_r.c -o libta_abstract_la-table_r.o >/dev/null 2>&1\n",
            "mv -f .deps/libta_abstract_la-table_r.Tpo .deps/libta_abstract_la-table_r.Plo\n",
            "/bin/bash ../../libtool --tag=CC   --mode=compile gcc -DHAVE_CONFIG_H -I. -I../../include  -I../ta_common/ -Iframes/   -g -O2 -MT libta_abstract_la-table_s.lo -MD -MP -MF .deps/libta_abstract_la-table_s.Tpo -c -o libta_abstract_la-table_s.lo `test -f 'tables/table_s.c' || echo './'`tables/table_s.c\n",
            " gcc -DHAVE_CONFIG_H -I. -I../../include -I../ta_common/ -Iframes/ -g -O2 -MT libta_abstract_la-table_s.lo -MD -MP -MF .deps/libta_abstract_la-table_s.Tpo -c tables/table_s.c  -fPIC -DPIC -o .libs/libta_abstract_la-table_s.o\n",
            " gcc -DHAVE_CONFIG_H -I. -I../../include -I../ta_common/ -Iframes/ -g -O2 -MT libta_abstract_la-table_s.lo -MD -MP -MF .deps/libta_abstract_la-table_s.Tpo -c tables/table_s.c -o libta_abstract_la-table_s.o >/dev/null 2>&1\n",
            "mv -f .deps/libta_abstract_la-table_s.Tpo .deps/libta_abstract_la-table_s.Plo\n",
            "/bin/bash ../../libtool --tag=CC   --mode=compile gcc -DHAVE_CONFIG_H -I. -I../../include  -I../ta_common/ -Iframes/   -g -O2 -MT libta_abstract_la-table_t.lo -MD -MP -MF .deps/libta_abstract_la-table_t.Tpo -c -o libta_abstract_la-table_t.lo `test -f 'tables/table_t.c' || echo './'`tables/table_t.c\n",
            " gcc -DHAVE_CONFIG_H -I. -I../../include -I../ta_common/ -Iframes/ -g -O2 -MT libta_abstract_la-table_t.lo -MD -MP -MF .deps/libta_abstract_la-table_t.Tpo -c tables/table_t.c  -fPIC -DPIC -o .libs/libta_abstract_la-table_t.o\n",
            " gcc -DHAVE_CONFIG_H -I. -I../../include -I../ta_common/ -Iframes/ -g -O2 -MT libta_abstract_la-table_t.lo -MD -MP -MF .deps/libta_abstract_la-table_t.Tpo -c tables/table_t.c -o libta_abstract_la-table_t.o >/dev/null 2>&1\n",
            "mv -f .deps/libta_abstract_la-table_t.Tpo .deps/libta_abstract_la-table_t.Plo\n",
            "/bin/bash ../../libtool --tag=CC   --mode=compile gcc -DHAVE_CONFIG_H -I. -I../../include  -I../ta_common/ -Iframes/   -g -O2 -MT libta_abstract_la-table_u.lo -MD -MP -MF .deps/libta_abstract_la-table_u.Tpo -c -o libta_abstract_la-table_u.lo `test -f 'tables/table_u.c' || echo './'`tables/table_u.c\n",
            " gcc -DHAVE_CONFIG_H -I. -I../../include -I../ta_common/ -Iframes/ -g -O2 -MT libta_abstract_la-table_u.lo -MD -MP -MF .deps/libta_abstract_la-table_u.Tpo -c tables/table_u.c  -fPIC -DPIC -o .libs/libta_abstract_la-table_u.o\n",
            " gcc -DHAVE_CONFIG_H -I. -I../../include -I../ta_common/ -Iframes/ -g -O2 -MT libta_abstract_la-table_u.lo -MD -MP -MF .deps/libta_abstract_la-table_u.Tpo -c tables/table_u.c -o libta_abstract_la-table_u.o >/dev/null 2>&1\n",
            "mv -f .deps/libta_abstract_la-table_u.Tpo .deps/libta_abstract_la-table_u.Plo\n",
            "/bin/bash ../../libtool --tag=CC   --mode=compile gcc -DHAVE_CONFIG_H -I. -I../../include  -I../ta_common/ -Iframes/   -g -O2 -MT libta_abstract_la-table_v.lo -MD -MP -MF .deps/libta_abstract_la-table_v.Tpo -c -o libta_abstract_la-table_v.lo `test -f 'tables/table_v.c' || echo './'`tables/table_v.c\n",
            " gcc -DHAVE_CONFIG_H -I. -I../../include -I../ta_common/ -Iframes/ -g -O2 -MT libta_abstract_la-table_v.lo -MD -MP -MF .deps/libta_abstract_la-table_v.Tpo -c tables/table_v.c  -fPIC -DPIC -o .libs/libta_abstract_la-table_v.o\n",
            " gcc -DHAVE_CONFIG_H -I. -I../../include -I../ta_common/ -Iframes/ -g -O2 -MT libta_abstract_la-table_v.lo -MD -MP -MF .deps/libta_abstract_la-table_v.Tpo -c tables/table_v.c -o libta_abstract_la-table_v.o >/dev/null 2>&1\n",
            "mv -f .deps/libta_abstract_la-table_v.Tpo .deps/libta_abstract_la-table_v.Plo\n",
            "/bin/bash ../../libtool --tag=CC   --mode=compile gcc -DHAVE_CONFIG_H -I. -I../../include  -I../ta_common/ -Iframes/   -g -O2 -MT libta_abstract_la-table_w.lo -MD -MP -MF .deps/libta_abstract_la-table_w.Tpo -c -o libta_abstract_la-table_w.lo `test -f 'tables/table_w.c' || echo './'`tables/table_w.c\n",
            " gcc -DHAVE_CONFIG_H -I. -I../../include -I../ta_common/ -Iframes/ -g -O2 -MT libta_abstract_la-table_w.lo -MD -MP -MF .deps/libta_abstract_la-table_w.Tpo -c tables/table_w.c  -fPIC -DPIC -o .libs/libta_abstract_la-table_w.o\n",
            " gcc -DHAVE_CONFIG_H -I. -I../../include -I../ta_common/ -Iframes/ -g -O2 -MT libta_abstract_la-table_w.lo -MD -MP -MF .deps/libta_abstract_la-table_w.Tpo -c tables/table_w.c -o libta_abstract_la-table_w.o >/dev/null 2>&1\n",
            "mv -f .deps/libta_abstract_la-table_w.Tpo .deps/libta_abstract_la-table_w.Plo\n",
            "/bin/bash ../../libtool --tag=CC   --mode=compile gcc -DHAVE_CONFIG_H -I. -I../../include  -I../ta_common/ -Iframes/   -g -O2 -MT libta_abstract_la-table_x.lo -MD -MP -MF .deps/libta_abstract_la-table_x.Tpo -c -o libta_abstract_la-table_x.lo `test -f 'tables/table_x.c' || echo './'`tables/table_x.c\n",
            " gcc -DHAVE_CONFIG_H -I. -I../../include -I../ta_common/ -Iframes/ -g -O2 -MT libta_abstract_la-table_x.lo -MD -MP -MF .deps/libta_abstract_la-table_x.Tpo -c tables/table_x.c  -fPIC -DPIC -o .libs/libta_abstract_la-table_x.o\n",
            " gcc -DHAVE_CONFIG_H -I. -I../../include -I../ta_common/ -Iframes/ -g -O2 -MT libta_abstract_la-table_x.lo -MD -MP -MF .deps/libta_abstract_la-table_x.Tpo -c tables/table_x.c -o libta_abstract_la-table_x.o >/dev/null 2>&1\n",
            "mv -f .deps/libta_abstract_la-table_x.Tpo .deps/libta_abstract_la-table_x.Plo\n",
            "/bin/bash ../../libtool --tag=CC   --mode=compile gcc -DHAVE_CONFIG_H -I. -I../../include  -I../ta_common/ -Iframes/   -g -O2 -MT libta_abstract_la-table_y.lo -MD -MP -MF .deps/libta_abstract_la-table_y.Tpo -c -o libta_abstract_la-table_y.lo `test -f 'tables/table_y.c' || echo './'`tables/table_y.c\n",
            " gcc -DHAVE_CONFIG_H -I. -I../../include -I../ta_common/ -Iframes/ -g -O2 -MT libta_abstract_la-table_y.lo -MD -MP -MF .deps/libta_abstract_la-table_y.Tpo -c tables/table_y.c  -fPIC -DPIC -o .libs/libta_abstract_la-table_y.o\n",
            " gcc -DHAVE_CONFIG_H -I. -I../../include -I../ta_common/ -Iframes/ -g -O2 -MT libta_abstract_la-table_y.lo -MD -MP -MF .deps/libta_abstract_la-table_y.Tpo -c tables/table_y.c -o libta_abstract_la-table_y.o >/dev/null 2>&1\n",
            "mv -f .deps/libta_abstract_la-table_y.Tpo .deps/libta_abstract_la-table_y.Plo\n",
            "/bin/bash ../../libtool --tag=CC   --mode=compile gcc -DHAVE_CONFIG_H -I. -I../../include  -I../ta_common/ -Iframes/   -g -O2 -MT libta_abstract_la-table_z.lo -MD -MP -MF .deps/libta_abstract_la-table_z.Tpo -c -o libta_abstract_la-table_z.lo `test -f 'tables/table_z.c' || echo './'`tables/table_z.c\n",
            " gcc -DHAVE_CONFIG_H -I. -I../../include -I../ta_common/ -Iframes/ -g -O2 -MT libta_abstract_la-table_z.lo -MD -MP -MF .deps/libta_abstract_la-table_z.Tpo -c tables/table_z.c  -fPIC -DPIC -o .libs/libta_abstract_la-table_z.o\n",
            " gcc -DHAVE_CONFIG_H -I. -I../../include -I../ta_common/ -Iframes/ -g -O2 -MT libta_abstract_la-table_z.lo -MD -MP -MF .deps/libta_abstract_la-table_z.Tpo -c tables/table_z.c -o libta_abstract_la-table_z.o >/dev/null 2>&1\n",
            "mv -f .deps/libta_abstract_la-table_z.Tpo .deps/libta_abstract_la-table_z.Plo\n",
            "/bin/bash ../../libtool --tag=CC   --mode=link gcc  -g -O2 -version-info 0:0:0  -o libta_abstract.la  libta_abstract_la-ta_group_idx.lo libta_abstract_la-ta_def_ui.lo libta_abstract_la-ta_abstract.lo libta_abstract_la-ta_func_api.lo libta_abstract_la-ta_frame.lo libta_abstract_la-table_a.lo libta_abstract_la-table_b.lo libta_abstract_la-table_c.lo libta_abstract_la-table_d.lo libta_abstract_la-table_e.lo libta_abstract_la-table_f.lo libta_abstract_la-table_g.lo libta_abstract_la-table_h.lo libta_abstract_la-table_i.lo libta_abstract_la-table_j.lo libta_abstract_la-table_k.lo libta_abstract_la-table_l.lo libta_abstract_la-table_m.lo libta_abstract_la-table_n.lo libta_abstract_la-table_o.lo libta_abstract_la-table_p.lo libta_abstract_la-table_q.lo libta_abstract_la-table_r.lo libta_abstract_la-table_s.lo libta_abstract_la-table_t.lo libta_abstract_la-table_u.lo libta_abstract_la-table_v.lo libta_abstract_la-table_w.lo libta_abstract_la-table_x.lo libta_abstract_la-table_y.lo libta_abstract_la-table_z.lo  -lpthread -ldl \n",
            "libtool: link: warning: `-version-info/-version-number' is ignored for convenience libraries\n",
            "ar cru .libs/libta_abstract.a .libs/libta_abstract_la-ta_group_idx.o .libs/libta_abstract_la-ta_def_ui.o .libs/libta_abstract_la-ta_abstract.o .libs/libta_abstract_la-ta_func_api.o .libs/libta_abstract_la-ta_frame.o .libs/libta_abstract_la-table_a.o .libs/libta_abstract_la-table_b.o .libs/libta_abstract_la-table_c.o .libs/libta_abstract_la-table_d.o .libs/libta_abstract_la-table_e.o .libs/libta_abstract_la-table_f.o .libs/libta_abstract_la-table_g.o .libs/libta_abstract_la-table_h.o .libs/libta_abstract_la-table_i.o .libs/libta_abstract_la-table_j.o .libs/libta_abstract_la-table_k.o .libs/libta_abstract_la-table_l.o .libs/libta_abstract_la-table_m.o .libs/libta_abstract_la-table_n.o .libs/libta_abstract_la-table_o.o .libs/libta_abstract_la-table_p.o .libs/libta_abstract_la-table_q.o .libs/libta_abstract_la-table_r.o .libs/libta_abstract_la-table_s.o .libs/libta_abstract_la-table_t.o .libs/libta_abstract_la-table_u.o .libs/libta_abstract_la-table_v.o .libs/libta_abstract_la-table_w.o .libs/libta_abstract_la-table_x.o .libs/libta_abstract_la-table_y.o .libs/libta_abstract_la-table_z.o\n",
            "ar: `u' modifier ignored since `D' is the default (see `U')\n",
            "ranlib .libs/libta_abstract.a\n",
            "creating libta_abstract.la\n",
            "(cd .libs && rm -f libta_abstract.la && ln -s ../libta_abstract.la libta_abstract.la)\n",
            "/bin/bash ../../libtool --tag=CC   --mode=compile gcc -DHAVE_CONFIG_H -I. -I../../include  -DTA_GEN_CODE -I../ta_common/ -Iframes/   -g -O2 -MT libta_abstract_gc_la-ta_group_idx.lo -MD -MP -MF .deps/libta_abstract_gc_la-ta_group_idx.Tpo -c -o libta_abstract_gc_la-ta_group_idx.lo `test -f 'ta_group_idx.c' || echo './'`ta_group_idx.c\n",
            " gcc -DHAVE_CONFIG_H -I. -I../../include -DTA_GEN_CODE -I../ta_common/ -Iframes/ -g -O2 -MT libta_abstract_gc_la-ta_group_idx.lo -MD -MP -MF .deps/libta_abstract_gc_la-ta_group_idx.Tpo -c ta_group_idx.c  -fPIC -DPIC -o .libs/libta_abstract_gc_la-ta_group_idx.o\n",
            " gcc -DHAVE_CONFIG_H -I. -I../../include -DTA_GEN_CODE -I../ta_common/ -Iframes/ -g -O2 -MT libta_abstract_gc_la-ta_group_idx.lo -MD -MP -MF .deps/libta_abstract_gc_la-ta_group_idx.Tpo -c ta_group_idx.c -o libta_abstract_gc_la-ta_group_idx.o >/dev/null 2>&1\n",
            "mv -f .deps/libta_abstract_gc_la-ta_group_idx.Tpo .deps/libta_abstract_gc_la-ta_group_idx.Plo\n",
            "/bin/bash ../../libtool --tag=CC   --mode=compile gcc -DHAVE_CONFIG_H -I. -I../../include  -DTA_GEN_CODE -I../ta_common/ -Iframes/   -g -O2 -MT libta_abstract_gc_la-ta_def_ui.lo -MD -MP -MF .deps/libta_abstract_gc_la-ta_def_ui.Tpo -c -o libta_abstract_gc_la-ta_def_ui.lo `test -f 'ta_def_ui.c' || echo './'`ta_def_ui.c\n",
            " gcc -DHAVE_CONFIG_H -I. -I../../include -DTA_GEN_CODE -I../ta_common/ -Iframes/ -g -O2 -MT libta_abstract_gc_la-ta_def_ui.lo -MD -MP -MF .deps/libta_abstract_gc_la-ta_def_ui.Tpo -c ta_def_ui.c  -fPIC -DPIC -o .libs/libta_abstract_gc_la-ta_def_ui.o\n",
            " gcc -DHAVE_CONFIG_H -I. -I../../include -DTA_GEN_CODE -I../ta_common/ -Iframes/ -g -O2 -MT libta_abstract_gc_la-ta_def_ui.lo -MD -MP -MF .deps/libta_abstract_gc_la-ta_def_ui.Tpo -c ta_def_ui.c -o libta_abstract_gc_la-ta_def_ui.o >/dev/null 2>&1\n",
            "mv -f .deps/libta_abstract_gc_la-ta_def_ui.Tpo .deps/libta_abstract_gc_la-ta_def_ui.Plo\n",
            "/bin/bash ../../libtool --tag=CC   --mode=compile gcc -DHAVE_CONFIG_H -I. -I../../include  -DTA_GEN_CODE -I../ta_common/ -Iframes/   -g -O2 -MT libta_abstract_gc_la-ta_abstract.lo -MD -MP -MF .deps/libta_abstract_gc_la-ta_abstract.Tpo -c -o libta_abstract_gc_la-ta_abstract.lo `test -f 'ta_abstract.c' || echo './'`ta_abstract.c\n",
            " gcc -DHAVE_CONFIG_H -I. -I../../include -DTA_GEN_CODE -I../ta_common/ -Iframes/ -g -O2 -MT libta_abstract_gc_la-ta_abstract.lo -MD -MP -MF .deps/libta_abstract_gc_la-ta_abstract.Tpo -c ta_abstract.c  -fPIC -DPIC -o .libs/libta_abstract_gc_la-ta_abstract.o\n",
            " gcc -DHAVE_CONFIG_H -I. -I../../include -DTA_GEN_CODE -I../ta_common/ -Iframes/ -g -O2 -MT libta_abstract_gc_la-ta_abstract.lo -MD -MP -MF .deps/libta_abstract_gc_la-ta_abstract.Tpo -c ta_abstract.c -o libta_abstract_gc_la-ta_abstract.o >/dev/null 2>&1\n",
            "mv -f .deps/libta_abstract_gc_la-ta_abstract.Tpo .deps/libta_abstract_gc_la-ta_abstract.Plo\n",
            "/bin/bash ../../libtool --tag=CC   --mode=compile gcc -DHAVE_CONFIG_H -I. -I../../include  -DTA_GEN_CODE -I../ta_common/ -Iframes/   -g -O2 -MT libta_abstract_gc_la-ta_func_api.lo -MD -MP -MF .deps/libta_abstract_gc_la-ta_func_api.Tpo -c -o libta_abstract_gc_la-ta_func_api.lo `test -f 'ta_func_api.c' || echo './'`ta_func_api.c\n",
            " gcc -DHAVE_CONFIG_H -I. -I../../include -DTA_GEN_CODE -I../ta_common/ -Iframes/ -g -O2 -MT libta_abstract_gc_la-ta_func_api.lo -MD -MP -MF .deps/libta_abstract_gc_la-ta_func_api.Tpo -c ta_func_api.c  -fPIC -DPIC -o .libs/libta_abstract_gc_la-ta_func_api.o\n",
            " gcc -DHAVE_CONFIG_H -I. -I../../include -DTA_GEN_CODE -I../ta_common/ -Iframes/ -g -O2 -MT libta_abstract_gc_la-ta_func_api.lo -MD -MP -MF .deps/libta_abstract_gc_la-ta_func_api.Tpo -c ta_func_api.c -o libta_abstract_gc_la-ta_func_api.o >/dev/null 2>&1\n",
            "mv -f .deps/libta_abstract_gc_la-ta_func_api.Tpo .deps/libta_abstract_gc_la-ta_func_api.Plo\n",
            "/bin/bash ../../libtool --tag=CC   --mode=compile gcc -DHAVE_CONFIG_H -I. -I../../include  -DTA_GEN_CODE -I../ta_common/ -Iframes/   -g -O2 -MT libta_abstract_gc_la-ta_frame.lo -MD -MP -MF .deps/libta_abstract_gc_la-ta_frame.Tpo -c -o libta_abstract_gc_la-ta_frame.lo `test -f 'frames/ta_frame.c' || echo './'`frames/ta_frame.c\n",
            " gcc -DHAVE_CONFIG_H -I. -I../../include -DTA_GEN_CODE -I../ta_common/ -Iframes/ -g -O2 -MT libta_abstract_gc_la-ta_frame.lo -MD -MP -MF .deps/libta_abstract_gc_la-ta_frame.Tpo -c frames/ta_frame.c  -fPIC -DPIC -o .libs/libta_abstract_gc_la-ta_frame.o\n",
            " gcc -DHAVE_CONFIG_H -I. -I../../include -DTA_GEN_CODE -I../ta_common/ -Iframes/ -g -O2 -MT libta_abstract_gc_la-ta_frame.lo -MD -MP -MF .deps/libta_abstract_gc_la-ta_frame.Tpo -c frames/ta_frame.c -o libta_abstract_gc_la-ta_frame.o >/dev/null 2>&1\n",
            "mv -f .deps/libta_abstract_gc_la-ta_frame.Tpo .deps/libta_abstract_gc_la-ta_frame.Plo\n",
            "/bin/bash ../../libtool --tag=CC   --mode=compile gcc -DHAVE_CONFIG_H -I. -I../../include  -DTA_GEN_CODE -I../ta_common/ -Iframes/   -g -O2 -MT libta_abstract_gc_la-table_a.lo -MD -MP -MF .deps/libta_abstract_gc_la-table_a.Tpo -c -o libta_abstract_gc_la-table_a.lo `test -f 'tables/table_a.c' || echo './'`tables/table_a.c\n",
            " gcc -DHAVE_CONFIG_H -I. -I../../include -DTA_GEN_CODE -I../ta_common/ -Iframes/ -g -O2 -MT libta_abstract_gc_la-table_a.lo -MD -MP -MF .deps/libta_abstract_gc_la-table_a.Tpo -c tables/table_a.c  -fPIC -DPIC -o .libs/libta_abstract_gc_la-table_a.o\n",
            " gcc -DHAVE_CONFIG_H -I. -I../../include -DTA_GEN_CODE -I../ta_common/ -Iframes/ -g -O2 -MT libta_abstract_gc_la-table_a.lo -MD -MP -MF .deps/libta_abstract_gc_la-table_a.Tpo -c tables/table_a.c -o libta_abstract_gc_la-table_a.o >/dev/null 2>&1\n",
            "mv -f .deps/libta_abstract_gc_la-table_a.Tpo .deps/libta_abstract_gc_la-table_a.Plo\n",
            "/bin/bash ../../libtool --tag=CC   --mode=compile gcc -DHAVE_CONFIG_H -I. -I../../include  -DTA_GEN_CODE -I../ta_common/ -Iframes/   -g -O2 -MT libta_abstract_gc_la-table_b.lo -MD -MP -MF .deps/libta_abstract_gc_la-table_b.Tpo -c -o libta_abstract_gc_la-table_b.lo `test -f 'tables/table_b.c' || echo './'`tables/table_b.c\n",
            " gcc -DHAVE_CONFIG_H -I. -I../../include -DTA_GEN_CODE -I../ta_common/ -Iframes/ -g -O2 -MT libta_abstract_gc_la-table_b.lo -MD -MP -MF .deps/libta_abstract_gc_la-table_b.Tpo -c tables/table_b.c  -fPIC -DPIC -o .libs/libta_abstract_gc_la-table_b.o\n",
            " gcc -DHAVE_CONFIG_H -I. -I../../include -DTA_GEN_CODE -I../ta_common/ -Iframes/ -g -O2 -MT libta_abstract_gc_la-table_b.lo -MD -MP -MF .deps/libta_abstract_gc_la-table_b.Tpo -c tables/table_b.c -o libta_abstract_gc_la-table_b.o >/dev/null 2>&1\n",
            "mv -f .deps/libta_abstract_gc_la-table_b.Tpo .deps/libta_abstract_gc_la-table_b.Plo\n",
            "/bin/bash ../../libtool --tag=CC   --mode=compile gcc -DHAVE_CONFIG_H -I. -I../../include  -DTA_GEN_CODE -I../ta_common/ -Iframes/   -g -O2 -MT libta_abstract_gc_la-table_c.lo -MD -MP -MF .deps/libta_abstract_gc_la-table_c.Tpo -c -o libta_abstract_gc_la-table_c.lo `test -f 'tables/table_c.c' || echo './'`tables/table_c.c\n",
            " gcc -DHAVE_CONFIG_H -I. -I../../include -DTA_GEN_CODE -I../ta_common/ -Iframes/ -g -O2 -MT libta_abstract_gc_la-table_c.lo -MD -MP -MF .deps/libta_abstract_gc_la-table_c.Tpo -c tables/table_c.c  -fPIC -DPIC -o .libs/libta_abstract_gc_la-table_c.o\n",
            " gcc -DHAVE_CONFIG_H -I. -I../../include -DTA_GEN_CODE -I../ta_common/ -Iframes/ -g -O2 -MT libta_abstract_gc_la-table_c.lo -MD -MP -MF .deps/libta_abstract_gc_la-table_c.Tpo -c tables/table_c.c -o libta_abstract_gc_la-table_c.o >/dev/null 2>&1\n",
            "mv -f .deps/libta_abstract_gc_la-table_c.Tpo .deps/libta_abstract_gc_la-table_c.Plo\n",
            "/bin/bash ../../libtool --tag=CC   --mode=compile gcc -DHAVE_CONFIG_H -I. -I../../include  -DTA_GEN_CODE -I../ta_common/ -Iframes/   -g -O2 -MT libta_abstract_gc_la-table_d.lo -MD -MP -MF .deps/libta_abstract_gc_la-table_d.Tpo -c -o libta_abstract_gc_la-table_d.lo `test -f 'tables/table_d.c' || echo './'`tables/table_d.c\n",
            " gcc -DHAVE_CONFIG_H -I. -I../../include -DTA_GEN_CODE -I../ta_common/ -Iframes/ -g -O2 -MT libta_abstract_gc_la-table_d.lo -MD -MP -MF .deps/libta_abstract_gc_la-table_d.Tpo -c tables/table_d.c  -fPIC -DPIC -o .libs/libta_abstract_gc_la-table_d.o\n",
            " gcc -DHAVE_CONFIG_H -I. -I../../include -DTA_GEN_CODE -I../ta_common/ -Iframes/ -g -O2 -MT libta_abstract_gc_la-table_d.lo -MD -MP -MF .deps/libta_abstract_gc_la-table_d.Tpo -c tables/table_d.c -o libta_abstract_gc_la-table_d.o >/dev/null 2>&1\n",
            "mv -f .deps/libta_abstract_gc_la-table_d.Tpo .deps/libta_abstract_gc_la-table_d.Plo\n",
            "/bin/bash ../../libtool --tag=CC   --mode=compile gcc -DHAVE_CONFIG_H -I. -I../../include  -DTA_GEN_CODE -I../ta_common/ -Iframes/   -g -O2 -MT libta_abstract_gc_la-table_e.lo -MD -MP -MF .deps/libta_abstract_gc_la-table_e.Tpo -c -o libta_abstract_gc_la-table_e.lo `test -f 'tables/table_e.c' || echo './'`tables/table_e.c\n",
            " gcc -DHAVE_CONFIG_H -I. -I../../include -DTA_GEN_CODE -I../ta_common/ -Iframes/ -g -O2 -MT libta_abstract_gc_la-table_e.lo -MD -MP -MF .deps/libta_abstract_gc_la-table_e.Tpo -c tables/table_e.c  -fPIC -DPIC -o .libs/libta_abstract_gc_la-table_e.o\n",
            " gcc -DHAVE_CONFIG_H -I. -I../../include -DTA_GEN_CODE -I../ta_common/ -Iframes/ -g -O2 -MT libta_abstract_gc_la-table_e.lo -MD -MP -MF .deps/libta_abstract_gc_la-table_e.Tpo -c tables/table_e.c -o libta_abstract_gc_la-table_e.o >/dev/null 2>&1\n",
            "mv -f .deps/libta_abstract_gc_la-table_e.Tpo .deps/libta_abstract_gc_la-table_e.Plo\n",
            "/bin/bash ../../libtool --tag=CC   --mode=compile gcc -DHAVE_CONFIG_H -I. -I../../include  -DTA_GEN_CODE -I../ta_common/ -Iframes/   -g -O2 -MT libta_abstract_gc_la-table_f.lo -MD -MP -MF .deps/libta_abstract_gc_la-table_f.Tpo -c -o libta_abstract_gc_la-table_f.lo `test -f 'tables/table_f.c' || echo './'`tables/table_f.c\n",
            " gcc -DHAVE_CONFIG_H -I. -I../../include -DTA_GEN_CODE -I../ta_common/ -Iframes/ -g -O2 -MT libta_abstract_gc_la-table_f.lo -MD -MP -MF .deps/libta_abstract_gc_la-table_f.Tpo -c tables/table_f.c  -fPIC -DPIC -o .libs/libta_abstract_gc_la-table_f.o\n",
            " gcc -DHAVE_CONFIG_H -I. -I../../include -DTA_GEN_CODE -I../ta_common/ -Iframes/ -g -O2 -MT libta_abstract_gc_la-table_f.lo -MD -MP -MF .deps/libta_abstract_gc_la-table_f.Tpo -c tables/table_f.c -o libta_abstract_gc_la-table_f.o >/dev/null 2>&1\n",
            "mv -f .deps/libta_abstract_gc_la-table_f.Tpo .deps/libta_abstract_gc_la-table_f.Plo\n",
            "/bin/bash ../../libtool --tag=CC   --mode=compile gcc -DHAVE_CONFIG_H -I. -I../../include  -DTA_GEN_CODE -I../ta_common/ -Iframes/   -g -O2 -MT libta_abstract_gc_la-table_g.lo -MD -MP -MF .deps/libta_abstract_gc_la-table_g.Tpo -c -o libta_abstract_gc_la-table_g.lo `test -f 'tables/table_g.c' || echo './'`tables/table_g.c\n",
            " gcc -DHAVE_CONFIG_H -I. -I../../include -DTA_GEN_CODE -I../ta_common/ -Iframes/ -g -O2 -MT libta_abstract_gc_la-table_g.lo -MD -MP -MF .deps/libta_abstract_gc_la-table_g.Tpo -c tables/table_g.c  -fPIC -DPIC -o .libs/libta_abstract_gc_la-table_g.o\n",
            " gcc -DHAVE_CONFIG_H -I. -I../../include -DTA_GEN_CODE -I../ta_common/ -Iframes/ -g -O2 -MT libta_abstract_gc_la-table_g.lo -MD -MP -MF .deps/libta_abstract_gc_la-table_g.Tpo -c tables/table_g.c -o libta_abstract_gc_la-table_g.o >/dev/null 2>&1\n",
            "mv -f .deps/libta_abstract_gc_la-table_g.Tpo .deps/libta_abstract_gc_la-table_g.Plo\n",
            "/bin/bash ../../libtool --tag=CC   --mode=compile gcc -DHAVE_CONFIG_H -I. -I../../include  -DTA_GEN_CODE -I../ta_common/ -Iframes/   -g -O2 -MT libta_abstract_gc_la-table_h.lo -MD -MP -MF .deps/libta_abstract_gc_la-table_h.Tpo -c -o libta_abstract_gc_la-table_h.lo `test -f 'tables/table_h.c' || echo './'`tables/table_h.c\n",
            " gcc -DHAVE_CONFIG_H -I. -I../../include -DTA_GEN_CODE -I../ta_common/ -Iframes/ -g -O2 -MT libta_abstract_gc_la-table_h.lo -MD -MP -MF .deps/libta_abstract_gc_la-table_h.Tpo -c tables/table_h.c  -fPIC -DPIC -o .libs/libta_abstract_gc_la-table_h.o\n",
            " gcc -DHAVE_CONFIG_H -I. -I../../include -DTA_GEN_CODE -I../ta_common/ -Iframes/ -g -O2 -MT libta_abstract_gc_la-table_h.lo -MD -MP -MF .deps/libta_abstract_gc_la-table_h.Tpo -c tables/table_h.c -o libta_abstract_gc_la-table_h.o >/dev/null 2>&1\n",
            "mv -f .deps/libta_abstract_gc_la-table_h.Tpo .deps/libta_abstract_gc_la-table_h.Plo\n",
            "/bin/bash ../../libtool --tag=CC   --mode=compile gcc -DHAVE_CONFIG_H -I. -I../../include  -DTA_GEN_CODE -I../ta_common/ -Iframes/   -g -O2 -MT libta_abstract_gc_la-table_i.lo -MD -MP -MF .deps/libta_abstract_gc_la-table_i.Tpo -c -o libta_abstract_gc_la-table_i.lo `test -f 'tables/table_i.c' || echo './'`tables/table_i.c\n",
            " gcc -DHAVE_CONFIG_H -I. -I../../include -DTA_GEN_CODE -I../ta_common/ -Iframes/ -g -O2 -MT libta_abstract_gc_la-table_i.lo -MD -MP -MF .deps/libta_abstract_gc_la-table_i.Tpo -c tables/table_i.c  -fPIC -DPIC -o .libs/libta_abstract_gc_la-table_i.o\n",
            " gcc -DHAVE_CONFIG_H -I. -I../../include -DTA_GEN_CODE -I../ta_common/ -Iframes/ -g -O2 -MT libta_abstract_gc_la-table_i.lo -MD -MP -MF .deps/libta_abstract_gc_la-table_i.Tpo -c tables/table_i.c -o libta_abstract_gc_la-table_i.o >/dev/null 2>&1\n",
            "mv -f .deps/libta_abstract_gc_la-table_i.Tpo .deps/libta_abstract_gc_la-table_i.Plo\n",
            "/bin/bash ../../libtool --tag=CC   --mode=compile gcc -DHAVE_CONFIG_H -I. -I../../include  -DTA_GEN_CODE -I../ta_common/ -Iframes/   -g -O2 -MT libta_abstract_gc_la-table_j.lo -MD -MP -MF .deps/libta_abstract_gc_la-table_j.Tpo -c -o libta_abstract_gc_la-table_j.lo `test -f 'tables/table_j.c' || echo './'`tables/table_j.c\n",
            " gcc -DHAVE_CONFIG_H -I. -I../../include -DTA_GEN_CODE -I../ta_common/ -Iframes/ -g -O2 -MT libta_abstract_gc_la-table_j.lo -MD -MP -MF .deps/libta_abstract_gc_la-table_j.Tpo -c tables/table_j.c  -fPIC -DPIC -o .libs/libta_abstract_gc_la-table_j.o\n",
            " gcc -DHAVE_CONFIG_H -I. -I../../include -DTA_GEN_CODE -I../ta_common/ -Iframes/ -g -O2 -MT libta_abstract_gc_la-table_j.lo -MD -MP -MF .deps/libta_abstract_gc_la-table_j.Tpo -c tables/table_j.c -o libta_abstract_gc_la-table_j.o >/dev/null 2>&1\n",
            "mv -f .deps/libta_abstract_gc_la-table_j.Tpo .deps/libta_abstract_gc_la-table_j.Plo\n",
            "/bin/bash ../../libtool --tag=CC   --mode=compile gcc -DHAVE_CONFIG_H -I. -I../../include  -DTA_GEN_CODE -I../ta_common/ -Iframes/   -g -O2 -MT libta_abstract_gc_la-table_k.lo -MD -MP -MF .deps/libta_abstract_gc_la-table_k.Tpo -c -o libta_abstract_gc_la-table_k.lo `test -f 'tables/table_k.c' || echo './'`tables/table_k.c\n",
            " gcc -DHAVE_CONFIG_H -I. -I../../include -DTA_GEN_CODE -I../ta_common/ -Iframes/ -g -O2 -MT libta_abstract_gc_la-table_k.lo -MD -MP -MF .deps/libta_abstract_gc_la-table_k.Tpo -c tables/table_k.c  -fPIC -DPIC -o .libs/libta_abstract_gc_la-table_k.o\n",
            " gcc -DHAVE_CONFIG_H -I. -I../../include -DTA_GEN_CODE -I../ta_common/ -Iframes/ -g -O2 -MT libta_abstract_gc_la-table_k.lo -MD -MP -MF .deps/libta_abstract_gc_la-table_k.Tpo -c tables/table_k.c -o libta_abstract_gc_la-table_k.o >/dev/null 2>&1\n",
            "mv -f .deps/libta_abstract_gc_la-table_k.Tpo .deps/libta_abstract_gc_la-table_k.Plo\n",
            "/bin/bash ../../libtool --tag=CC   --mode=compile gcc -DHAVE_CONFIG_H -I. -I../../include  -DTA_GEN_CODE -I../ta_common/ -Iframes/   -g -O2 -MT libta_abstract_gc_la-table_l.lo -MD -MP -MF .deps/libta_abstract_gc_la-table_l.Tpo -c -o libta_abstract_gc_la-table_l.lo `test -f 'tables/table_l.c' || echo './'`tables/table_l.c\n",
            " gcc -DHAVE_CONFIG_H -I. -I../../include -DTA_GEN_CODE -I../ta_common/ -Iframes/ -g -O2 -MT libta_abstract_gc_la-table_l.lo -MD -MP -MF .deps/libta_abstract_gc_la-table_l.Tpo -c tables/table_l.c  -fPIC -DPIC -o .libs/libta_abstract_gc_la-table_l.o\n",
            " gcc -DHAVE_CONFIG_H -I. -I../../include -DTA_GEN_CODE -I../ta_common/ -Iframes/ -g -O2 -MT libta_abstract_gc_la-table_l.lo -MD -MP -MF .deps/libta_abstract_gc_la-table_l.Tpo -c tables/table_l.c -o libta_abstract_gc_la-table_l.o >/dev/null 2>&1\n",
            "mv -f .deps/libta_abstract_gc_la-table_l.Tpo .deps/libta_abstract_gc_la-table_l.Plo\n",
            "/bin/bash ../../libtool --tag=CC   --mode=compile gcc -DHAVE_CONFIG_H -I. -I../../include  -DTA_GEN_CODE -I../ta_common/ -Iframes/   -g -O2 -MT libta_abstract_gc_la-table_m.lo -MD -MP -MF .deps/libta_abstract_gc_la-table_m.Tpo -c -o libta_abstract_gc_la-table_m.lo `test -f 'tables/table_m.c' || echo './'`tables/table_m.c\n",
            " gcc -DHAVE_CONFIG_H -I. -I../../include -DTA_GEN_CODE -I../ta_common/ -Iframes/ -g -O2 -MT libta_abstract_gc_la-table_m.lo -MD -MP -MF .deps/libta_abstract_gc_la-table_m.Tpo -c tables/table_m.c  -fPIC -DPIC -o .libs/libta_abstract_gc_la-table_m.o\n",
            " gcc -DHAVE_CONFIG_H -I. -I../../include -DTA_GEN_CODE -I../ta_common/ -Iframes/ -g -O2 -MT libta_abstract_gc_la-table_m.lo -MD -MP -MF .deps/libta_abstract_gc_la-table_m.Tpo -c tables/table_m.c -o libta_abstract_gc_la-table_m.o >/dev/null 2>&1\n",
            "mv -f .deps/libta_abstract_gc_la-table_m.Tpo .deps/libta_abstract_gc_la-table_m.Plo\n",
            "/bin/bash ../../libtool --tag=CC   --mode=compile gcc -DHAVE_CONFIG_H -I. -I../../include  -DTA_GEN_CODE -I../ta_common/ -Iframes/   -g -O2 -MT libta_abstract_gc_la-table_n.lo -MD -MP -MF .deps/libta_abstract_gc_la-table_n.Tpo -c -o libta_abstract_gc_la-table_n.lo `test -f 'tables/table_n.c' || echo './'`tables/table_n.c\n",
            " gcc -DHAVE_CONFIG_H -I. -I../../include -DTA_GEN_CODE -I../ta_common/ -Iframes/ -g -O2 -MT libta_abstract_gc_la-table_n.lo -MD -MP -MF .deps/libta_abstract_gc_la-table_n.Tpo -c tables/table_n.c  -fPIC -DPIC -o .libs/libta_abstract_gc_la-table_n.o\n",
            " gcc -DHAVE_CONFIG_H -I. -I../../include -DTA_GEN_CODE -I../ta_common/ -Iframes/ -g -O2 -MT libta_abstract_gc_la-table_n.lo -MD -MP -MF .deps/libta_abstract_gc_la-table_n.Tpo -c tables/table_n.c -o libta_abstract_gc_la-table_n.o >/dev/null 2>&1\n",
            "mv -f .deps/libta_abstract_gc_la-table_n.Tpo .deps/libta_abstract_gc_la-table_n.Plo\n",
            "/bin/bash ../../libtool --tag=CC   --mode=compile gcc -DHAVE_CONFIG_H -I. -I../../include  -DTA_GEN_CODE -I../ta_common/ -Iframes/   -g -O2 -MT libta_abstract_gc_la-table_o.lo -MD -MP -MF .deps/libta_abstract_gc_la-table_o.Tpo -c -o libta_abstract_gc_la-table_o.lo `test -f 'tables/table_o.c' || echo './'`tables/table_o.c\n",
            " gcc -DHAVE_CONFIG_H -I. -I../../include -DTA_GEN_CODE -I../ta_common/ -Iframes/ -g -O2 -MT libta_abstract_gc_la-table_o.lo -MD -MP -MF .deps/libta_abstract_gc_la-table_o.Tpo -c tables/table_o.c  -fPIC -DPIC -o .libs/libta_abstract_gc_la-table_o.o\n",
            " gcc -DHAVE_CONFIG_H -I. -I../../include -DTA_GEN_CODE -I../ta_common/ -Iframes/ -g -O2 -MT libta_abstract_gc_la-table_o.lo -MD -MP -MF .deps/libta_abstract_gc_la-table_o.Tpo -c tables/table_o.c -o libta_abstract_gc_la-table_o.o >/dev/null 2>&1\n",
            "mv -f .deps/libta_abstract_gc_la-table_o.Tpo .deps/libta_abstract_gc_la-table_o.Plo\n",
            "/bin/bash ../../libtool --tag=CC   --mode=compile gcc -DHAVE_CONFIG_H -I. -I../../include  -DTA_GEN_CODE -I../ta_common/ -Iframes/   -g -O2 -MT libta_abstract_gc_la-table_p.lo -MD -MP -MF .deps/libta_abstract_gc_la-table_p.Tpo -c -o libta_abstract_gc_la-table_p.lo `test -f 'tables/table_p.c' || echo './'`tables/table_p.c\n",
            " gcc -DHAVE_CONFIG_H -I. -I../../include -DTA_GEN_CODE -I../ta_common/ -Iframes/ -g -O2 -MT libta_abstract_gc_la-table_p.lo -MD -MP -MF .deps/libta_abstract_gc_la-table_p.Tpo -c tables/table_p.c  -fPIC -DPIC -o .libs/libta_abstract_gc_la-table_p.o\n",
            " gcc -DHAVE_CONFIG_H -I. -I../../include -DTA_GEN_CODE -I../ta_common/ -Iframes/ -g -O2 -MT libta_abstract_gc_la-table_p.lo -MD -MP -MF .deps/libta_abstract_gc_la-table_p.Tpo -c tables/table_p.c -o libta_abstract_gc_la-table_p.o >/dev/null 2>&1\n",
            "mv -f .deps/libta_abstract_gc_la-table_p.Tpo .deps/libta_abstract_gc_la-table_p.Plo\n",
            "/bin/bash ../../libtool --tag=CC   --mode=compile gcc -DHAVE_CONFIG_H -I. -I../../include  -DTA_GEN_CODE -I../ta_common/ -Iframes/   -g -O2 -MT libta_abstract_gc_la-table_q.lo -MD -MP -MF .deps/libta_abstract_gc_la-table_q.Tpo -c -o libta_abstract_gc_la-table_q.lo `test -f 'tables/table_q.c' || echo './'`tables/table_q.c\n",
            " gcc -DHAVE_CONFIG_H -I. -I../../include -DTA_GEN_CODE -I../ta_common/ -Iframes/ -g -O2 -MT libta_abstract_gc_la-table_q.lo -MD -MP -MF .deps/libta_abstract_gc_la-table_q.Tpo -c tables/table_q.c  -fPIC -DPIC -o .libs/libta_abstract_gc_la-table_q.o\n",
            " gcc -DHAVE_CONFIG_H -I. -I../../include -DTA_GEN_CODE -I../ta_common/ -Iframes/ -g -O2 -MT libta_abstract_gc_la-table_q.lo -MD -MP -MF .deps/libta_abstract_gc_la-table_q.Tpo -c tables/table_q.c -o libta_abstract_gc_la-table_q.o >/dev/null 2>&1\n",
            "mv -f .deps/libta_abstract_gc_la-table_q.Tpo .deps/libta_abstract_gc_la-table_q.Plo\n",
            "/bin/bash ../../libtool --tag=CC   --mode=compile gcc -DHAVE_CONFIG_H -I. -I../../include  -DTA_GEN_CODE -I../ta_common/ -Iframes/   -g -O2 -MT libta_abstract_gc_la-table_r.lo -MD -MP -MF .deps/libta_abstract_gc_la-table_r.Tpo -c -o libta_abstract_gc_la-table_r.lo `test -f 'tables/table_r.c' || echo './'`tables/table_r.c\n",
            " gcc -DHAVE_CONFIG_H -I. -I../../include -DTA_GEN_CODE -I../ta_common/ -Iframes/ -g -O2 -MT libta_abstract_gc_la-table_r.lo -MD -MP -MF .deps/libta_abstract_gc_la-table_r.Tpo -c tables/table_r.c  -fPIC -DPIC -o .libs/libta_abstract_gc_la-table_r.o\n",
            " gcc -DHAVE_CONFIG_H -I. -I../../include -DTA_GEN_CODE -I../ta_common/ -Iframes/ -g -O2 -MT libta_abstract_gc_la-table_r.lo -MD -MP -MF .deps/libta_abstract_gc_la-table_r.Tpo -c tables/table_r.c -o libta_abstract_gc_la-table_r.o >/dev/null 2>&1\n",
            "mv -f .deps/libta_abstract_gc_la-table_r.Tpo .deps/libta_abstract_gc_la-table_r.Plo\n",
            "/bin/bash ../../libtool --tag=CC   --mode=compile gcc -DHAVE_CONFIG_H -I. -I../../include  -DTA_GEN_CODE -I../ta_common/ -Iframes/   -g -O2 -MT libta_abstract_gc_la-table_s.lo -MD -MP -MF .deps/libta_abstract_gc_la-table_s.Tpo -c -o libta_abstract_gc_la-table_s.lo `test -f 'tables/table_s.c' || echo './'`tables/table_s.c\n",
            " gcc -DHAVE_CONFIG_H -I. -I../../include -DTA_GEN_CODE -I../ta_common/ -Iframes/ -g -O2 -MT libta_abstract_gc_la-table_s.lo -MD -MP -MF .deps/libta_abstract_gc_la-table_s.Tpo -c tables/table_s.c  -fPIC -DPIC -o .libs/libta_abstract_gc_la-table_s.o\n",
            " gcc -DHAVE_CONFIG_H -I. -I../../include -DTA_GEN_CODE -I../ta_common/ -Iframes/ -g -O2 -MT libta_abstract_gc_la-table_s.lo -MD -MP -MF .deps/libta_abstract_gc_la-table_s.Tpo -c tables/table_s.c -o libta_abstract_gc_la-table_s.o >/dev/null 2>&1\n",
            "mv -f .deps/libta_abstract_gc_la-table_s.Tpo .deps/libta_abstract_gc_la-table_s.Plo\n",
            "/bin/bash ../../libtool --tag=CC   --mode=compile gcc -DHAVE_CONFIG_H -I. -I../../include  -DTA_GEN_CODE -I../ta_common/ -Iframes/   -g -O2 -MT libta_abstract_gc_la-table_t.lo -MD -MP -MF .deps/libta_abstract_gc_la-table_t.Tpo -c -o libta_abstract_gc_la-table_t.lo `test -f 'tables/table_t.c' || echo './'`tables/table_t.c\n",
            " gcc -DHAVE_CONFIG_H -I. -I../../include -DTA_GEN_CODE -I../ta_common/ -Iframes/ -g -O2 -MT libta_abstract_gc_la-table_t.lo -MD -MP -MF .deps/libta_abstract_gc_la-table_t.Tpo -c tables/table_t.c  -fPIC -DPIC -o .libs/libta_abstract_gc_la-table_t.o\n",
            " gcc -DHAVE_CONFIG_H -I. -I../../include -DTA_GEN_CODE -I../ta_common/ -Iframes/ -g -O2 -MT libta_abstract_gc_la-table_t.lo -MD -MP -MF .deps/libta_abstract_gc_la-table_t.Tpo -c tables/table_t.c -o libta_abstract_gc_la-table_t.o >/dev/null 2>&1\n",
            "mv -f .deps/libta_abstract_gc_la-table_t.Tpo .deps/libta_abstract_gc_la-table_t.Plo\n",
            "/bin/bash ../../libtool --tag=CC   --mode=compile gcc -DHAVE_CONFIG_H -I. -I../../include  -DTA_GEN_CODE -I../ta_common/ -Iframes/   -g -O2 -MT libta_abstract_gc_la-table_u.lo -MD -MP -MF .deps/libta_abstract_gc_la-table_u.Tpo -c -o libta_abstract_gc_la-table_u.lo `test -f 'tables/table_u.c' || echo './'`tables/table_u.c\n",
            " gcc -DHAVE_CONFIG_H -I. -I../../include -DTA_GEN_CODE -I../ta_common/ -Iframes/ -g -O2 -MT libta_abstract_gc_la-table_u.lo -MD -MP -MF .deps/libta_abstract_gc_la-table_u.Tpo -c tables/table_u.c  -fPIC -DPIC -o .libs/libta_abstract_gc_la-table_u.o\n",
            " gcc -DHAVE_CONFIG_H -I. -I../../include -DTA_GEN_CODE -I../ta_common/ -Iframes/ -g -O2 -MT libta_abstract_gc_la-table_u.lo -MD -MP -MF .deps/libta_abstract_gc_la-table_u.Tpo -c tables/table_u.c -o libta_abstract_gc_la-table_u.o >/dev/null 2>&1\n",
            "mv -f .deps/libta_abstract_gc_la-table_u.Tpo .deps/libta_abstract_gc_la-table_u.Plo\n",
            "/bin/bash ../../libtool --tag=CC   --mode=compile gcc -DHAVE_CONFIG_H -I. -I../../include  -DTA_GEN_CODE -I../ta_common/ -Iframes/   -g -O2 -MT libta_abstract_gc_la-table_v.lo -MD -MP -MF .deps/libta_abstract_gc_la-table_v.Tpo -c -o libta_abstract_gc_la-table_v.lo `test -f 'tables/table_v.c' || echo './'`tables/table_v.c\n",
            " gcc -DHAVE_CONFIG_H -I. -I../../include -DTA_GEN_CODE -I../ta_common/ -Iframes/ -g -O2 -MT libta_abstract_gc_la-table_v.lo -MD -MP -MF .deps/libta_abstract_gc_la-table_v.Tpo -c tables/table_v.c  -fPIC -DPIC -o .libs/libta_abstract_gc_la-table_v.o\n",
            " gcc -DHAVE_CONFIG_H -I. -I../../include -DTA_GEN_CODE -I../ta_common/ -Iframes/ -g -O2 -MT libta_abstract_gc_la-table_v.lo -MD -MP -MF .deps/libta_abstract_gc_la-table_v.Tpo -c tables/table_v.c -o libta_abstract_gc_la-table_v.o >/dev/null 2>&1\n",
            "mv -f .deps/libta_abstract_gc_la-table_v.Tpo .deps/libta_abstract_gc_la-table_v.Plo\n",
            "/bin/bash ../../libtool --tag=CC   --mode=compile gcc -DHAVE_CONFIG_H -I. -I../../include  -DTA_GEN_CODE -I../ta_common/ -Iframes/   -g -O2 -MT libta_abstract_gc_la-table_w.lo -MD -MP -MF .deps/libta_abstract_gc_la-table_w.Tpo -c -o libta_abstract_gc_la-table_w.lo `test -f 'tables/table_w.c' || echo './'`tables/table_w.c\n",
            " gcc -DHAVE_CONFIG_H -I. -I../../include -DTA_GEN_CODE -I../ta_common/ -Iframes/ -g -O2 -MT libta_abstract_gc_la-table_w.lo -MD -MP -MF .deps/libta_abstract_gc_la-table_w.Tpo -c tables/table_w.c  -fPIC -DPIC -o .libs/libta_abstract_gc_la-table_w.o\n",
            " gcc -DHAVE_CONFIG_H -I. -I../../include -DTA_GEN_CODE -I../ta_common/ -Iframes/ -g -O2 -MT libta_abstract_gc_la-table_w.lo -MD -MP -MF .deps/libta_abstract_gc_la-table_w.Tpo -c tables/table_w.c -o libta_abstract_gc_la-table_w.o >/dev/null 2>&1\n",
            "mv -f .deps/libta_abstract_gc_la-table_w.Tpo .deps/libta_abstract_gc_la-table_w.Plo\n",
            "/bin/bash ../../libtool --tag=CC   --mode=compile gcc -DHAVE_CONFIG_H -I. -I../../include  -DTA_GEN_CODE -I../ta_common/ -Iframes/   -g -O2 -MT libta_abstract_gc_la-table_x.lo -MD -MP -MF .deps/libta_abstract_gc_la-table_x.Tpo -c -o libta_abstract_gc_la-table_x.lo `test -f 'tables/table_x.c' || echo './'`tables/table_x.c\n",
            " gcc -DHAVE_CONFIG_H -I. -I../../include -DTA_GEN_CODE -I../ta_common/ -Iframes/ -g -O2 -MT libta_abstract_gc_la-table_x.lo -MD -MP -MF .deps/libta_abstract_gc_la-table_x.Tpo -c tables/table_x.c  -fPIC -DPIC -o .libs/libta_abstract_gc_la-table_x.o\n",
            " gcc -DHAVE_CONFIG_H -I. -I../../include -DTA_GEN_CODE -I../ta_common/ -Iframes/ -g -O2 -MT libta_abstract_gc_la-table_x.lo -MD -MP -MF .deps/libta_abstract_gc_la-table_x.Tpo -c tables/table_x.c -o libta_abstract_gc_la-table_x.o >/dev/null 2>&1\n",
            "mv -f .deps/libta_abstract_gc_la-table_x.Tpo .deps/libta_abstract_gc_la-table_x.Plo\n",
            "/bin/bash ../../libtool --tag=CC   --mode=compile gcc -DHAVE_CONFIG_H -I. -I../../include  -DTA_GEN_CODE -I../ta_common/ -Iframes/   -g -O2 -MT libta_abstract_gc_la-table_y.lo -MD -MP -MF .deps/libta_abstract_gc_la-table_y.Tpo -c -o libta_abstract_gc_la-table_y.lo `test -f 'tables/table_y.c' || echo './'`tables/table_y.c\n",
            " gcc -DHAVE_CONFIG_H -I. -I../../include -DTA_GEN_CODE -I../ta_common/ -Iframes/ -g -O2 -MT libta_abstract_gc_la-table_y.lo -MD -MP -MF .deps/libta_abstract_gc_la-table_y.Tpo -c tables/table_y.c  -fPIC -DPIC -o .libs/libta_abstract_gc_la-table_y.o\n",
            " gcc -DHAVE_CONFIG_H -I. -I../../include -DTA_GEN_CODE -I../ta_common/ -Iframes/ -g -O2 -MT libta_abstract_gc_la-table_y.lo -MD -MP -MF .deps/libta_abstract_gc_la-table_y.Tpo -c tables/table_y.c -o libta_abstract_gc_la-table_y.o >/dev/null 2>&1\n",
            "mv -f .deps/libta_abstract_gc_la-table_y.Tpo .deps/libta_abstract_gc_la-table_y.Plo\n",
            "/bin/bash ../../libtool --tag=CC   --mode=compile gcc -DHAVE_CONFIG_H -I. -I../../include  -DTA_GEN_CODE -I../ta_common/ -Iframes/   -g -O2 -MT libta_abstract_gc_la-table_z.lo -MD -MP -MF .deps/libta_abstract_gc_la-table_z.Tpo -c -o libta_abstract_gc_la-table_z.lo `test -f 'tables/table_z.c' || echo './'`tables/table_z.c\n",
            " gcc -DHAVE_CONFIG_H -I. -I../../include -DTA_GEN_CODE -I../ta_common/ -Iframes/ -g -O2 -MT libta_abstract_gc_la-table_z.lo -MD -MP -MF .deps/libta_abstract_gc_la-table_z.Tpo -c tables/table_z.c  -fPIC -DPIC -o .libs/libta_abstract_gc_la-table_z.o\n",
            " gcc -DHAVE_CONFIG_H -I. -I../../include -DTA_GEN_CODE -I../ta_common/ -Iframes/ -g -O2 -MT libta_abstract_gc_la-table_z.lo -MD -MP -MF .deps/libta_abstract_gc_la-table_z.Tpo -c tables/table_z.c -o libta_abstract_gc_la-table_z.o >/dev/null 2>&1\n",
            "mv -f .deps/libta_abstract_gc_la-table_z.Tpo .deps/libta_abstract_gc_la-table_z.Plo\n",
            "/bin/bash ../../libtool --tag=CC   --mode=link gcc  -g -O2 -version-info 0:0:0  -o libta_abstract_gc.la  libta_abstract_gc_la-ta_group_idx.lo libta_abstract_gc_la-ta_def_ui.lo libta_abstract_gc_la-ta_abstract.lo libta_abstract_gc_la-ta_func_api.lo libta_abstract_gc_la-ta_frame.lo libta_abstract_gc_la-table_a.lo libta_abstract_gc_la-table_b.lo libta_abstract_gc_la-table_c.lo libta_abstract_gc_la-table_d.lo libta_abstract_gc_la-table_e.lo libta_abstract_gc_la-table_f.lo libta_abstract_gc_la-table_g.lo libta_abstract_gc_la-table_h.lo libta_abstract_gc_la-table_i.lo libta_abstract_gc_la-table_j.lo libta_abstract_gc_la-table_k.lo libta_abstract_gc_la-table_l.lo libta_abstract_gc_la-table_m.lo libta_abstract_gc_la-table_n.lo libta_abstract_gc_la-table_o.lo libta_abstract_gc_la-table_p.lo libta_abstract_gc_la-table_q.lo libta_abstract_gc_la-table_r.lo libta_abstract_gc_la-table_s.lo libta_abstract_gc_la-table_t.lo libta_abstract_gc_la-table_u.lo libta_abstract_gc_la-table_v.lo libta_abstract_gc_la-table_w.lo libta_abstract_gc_la-table_x.lo libta_abstract_gc_la-table_y.lo libta_abstract_gc_la-table_z.lo  -lpthread -ldl \n",
            "libtool: link: warning: `-version-info/-version-number' is ignored for convenience libraries\n",
            "ar cru .libs/libta_abstract_gc.a .libs/libta_abstract_gc_la-ta_group_idx.o .libs/libta_abstract_gc_la-ta_def_ui.o .libs/libta_abstract_gc_la-ta_abstract.o .libs/libta_abstract_gc_la-ta_func_api.o .libs/libta_abstract_gc_la-ta_frame.o .libs/libta_abstract_gc_la-table_a.o .libs/libta_abstract_gc_la-table_b.o .libs/libta_abstract_gc_la-table_c.o .libs/libta_abstract_gc_la-table_d.o .libs/libta_abstract_gc_la-table_e.o .libs/libta_abstract_gc_la-table_f.o .libs/libta_abstract_gc_la-table_g.o .libs/libta_abstract_gc_la-table_h.o .libs/libta_abstract_gc_la-table_i.o .libs/libta_abstract_gc_la-table_j.o .libs/libta_abstract_gc_la-table_k.o .libs/libta_abstract_gc_la-table_l.o .libs/libta_abstract_gc_la-table_m.o .libs/libta_abstract_gc_la-table_n.o .libs/libta_abstract_gc_la-table_o.o .libs/libta_abstract_gc_la-table_p.o .libs/libta_abstract_gc_la-table_q.o .libs/libta_abstract_gc_la-table_r.o .libs/libta_abstract_gc_la-table_s.o .libs/libta_abstract_gc_la-table_t.o .libs/libta_abstract_gc_la-table_u.o .libs/libta_abstract_gc_la-table_v.o .libs/libta_abstract_gc_la-table_w.o .libs/libta_abstract_gc_la-table_x.o .libs/libta_abstract_gc_la-table_y.o .libs/libta_abstract_gc_la-table_z.o\n",
            "ar: `u' modifier ignored since `D' is the default (see `U')\n",
            "ranlib .libs/libta_abstract_gc.a\n",
            "creating libta_abstract_gc.la\n",
            "(cd .libs && rm -f libta_abstract_gc.la && ln -s ../libta_abstract_gc.la libta_abstract_gc.la)\n",
            "make[2]: Leaving directory '/content/ta-lib/ta-lib/ta-lib/src/ta_abstract'\n",
            "Making all in ta_common\n",
            "make[2]: Entering directory '/content/ta-lib/ta-lib/ta-lib/src/ta_common'\n",
            "/bin/bash ../../libtool --tag=CC   --mode=compile gcc -DHAVE_CONFIG_H -I. -I../../include  -I../ta_common/   -g -O2 -MT ta_global.lo -MD -MP -MF .deps/ta_global.Tpo -c -o ta_global.lo ta_global.c\n",
            "mkdir .libs\n",
            " gcc -DHAVE_CONFIG_H -I. -I../../include -I../ta_common/ -g -O2 -MT ta_global.lo -MD -MP -MF .deps/ta_global.Tpo -c ta_global.c  -fPIC -DPIC -o .libs/ta_global.o\n",
            " gcc -DHAVE_CONFIG_H -I. -I../../include -I../ta_common/ -g -O2 -MT ta_global.lo -MD -MP -MF .deps/ta_global.Tpo -c ta_global.c -o ta_global.o >/dev/null 2>&1\n",
            "mv -f .deps/ta_global.Tpo .deps/ta_global.Plo\n",
            "/bin/bash ../../libtool --tag=CC   --mode=compile gcc -DHAVE_CONFIG_H -I. -I../../include  -I../ta_common/   -g -O2 -MT ta_retcode.lo -MD -MP -MF .deps/ta_retcode.Tpo -c -o ta_retcode.lo ta_retcode.c\n",
            " gcc -DHAVE_CONFIG_H -I. -I../../include -I../ta_common/ -g -O2 -MT ta_retcode.lo -MD -MP -MF .deps/ta_retcode.Tpo -c ta_retcode.c  -fPIC -DPIC -o .libs/ta_retcode.o\n",
            " gcc -DHAVE_CONFIG_H -I. -I../../include -I../ta_common/ -g -O2 -MT ta_retcode.lo -MD -MP -MF .deps/ta_retcode.Tpo -c ta_retcode.c -o ta_retcode.o >/dev/null 2>&1\n",
            "mv -f .deps/ta_retcode.Tpo .deps/ta_retcode.Plo\n",
            "/bin/bash ../../libtool --tag=CC   --mode=compile gcc -DHAVE_CONFIG_H -I. -I../../include  -I../ta_common/   -g -O2 -MT ta_version.lo -MD -MP -MF .deps/ta_version.Tpo -c -o ta_version.lo ta_version.c\n",
            " gcc -DHAVE_CONFIG_H -I. -I../../include -I../ta_common/ -g -O2 -MT ta_version.lo -MD -MP -MF .deps/ta_version.Tpo -c ta_version.c  -fPIC -DPIC -o .libs/ta_version.o\n",
            " gcc -DHAVE_CONFIG_H -I. -I../../include -I../ta_common/ -g -O2 -MT ta_version.lo -MD -MP -MF .deps/ta_version.Tpo -c ta_version.c -o ta_version.o >/dev/null 2>&1\n",
            "mv -f .deps/ta_version.Tpo .deps/ta_version.Plo\n",
            "/bin/bash ../../libtool --tag=CC   --mode=link gcc  -g -O2 -version-info 0:0:0  -o libta_common.la  ta_global.lo ta_retcode.lo ta_version.lo  -lpthread -ldl \n",
            "libtool: link: warning: `-version-info/-version-number' is ignored for convenience libraries\n",
            "ar cru .libs/libta_common.a .libs/ta_global.o .libs/ta_retcode.o .libs/ta_version.o\n",
            "ar: `u' modifier ignored since `D' is the default (see `U')\n",
            "ranlib .libs/libta_common.a\n",
            "creating libta_common.la\n",
            "(cd .libs && rm -f libta_common.la && ln -s ../libta_common.la libta_common.la)\n",
            "make[2]: Leaving directory '/content/ta-lib/ta-lib/ta-lib/src/ta_common'\n",
            "Making all in ta_func\n",
            "make[2]: Entering directory '/content/ta-lib/ta-lib/ta-lib/src/ta_func'\n",
            "/bin/bash ../../libtool --tag=CC   --mode=compile gcc -DHAVE_CONFIG_H -I. -I../../include  -I../ta_common/   -g -O2 -MT ta_utility.lo -MD -MP -MF .deps/ta_utility.Tpo -c -o ta_utility.lo ta_utility.c\n",
            "mkdir .libs\n",
            " gcc -DHAVE_CONFIG_H -I. -I../../include -I../ta_common/ -g -O2 -MT ta_utility.lo -MD -MP -MF .deps/ta_utility.Tpo -c ta_utility.c  -fPIC -DPIC -o .libs/ta_utility.o\n",
            " gcc -DHAVE_CONFIG_H -I. -I../../include -I../ta_common/ -g -O2 -MT ta_utility.lo -MD -MP -MF .deps/ta_utility.Tpo -c ta_utility.c -o ta_utility.o >/dev/null 2>&1\n",
            "mv -f .deps/ta_utility.Tpo .deps/ta_utility.Plo\n",
            "/bin/bash ../../libtool --tag=CC   --mode=compile gcc -DHAVE_CONFIG_H -I. -I../../include  -I../ta_common/   -g -O2 -MT ta_ACOS.lo -MD -MP -MF .deps/ta_ACOS.Tpo -c -o ta_ACOS.lo ta_ACOS.c\n",
            " gcc -DHAVE_CONFIG_H -I. -I../../include -I../ta_common/ -g -O2 -MT ta_ACOS.lo -MD -MP -MF .deps/ta_ACOS.Tpo -c ta_ACOS.c  -fPIC -DPIC -o .libs/ta_ACOS.o\n",
            " gcc -DHAVE_CONFIG_H -I. -I../../include -I../ta_common/ -g -O2 -MT ta_ACOS.lo -MD -MP -MF .deps/ta_ACOS.Tpo -c ta_ACOS.c -o ta_ACOS.o >/dev/null 2>&1\n",
            "mv -f .deps/ta_ACOS.Tpo .deps/ta_ACOS.Plo\n",
            "/bin/bash ../../libtool --tag=CC   --mode=compile gcc -DHAVE_CONFIG_H -I. -I../../include  -I../ta_common/   -g -O2 -MT ta_AD.lo -MD -MP -MF .deps/ta_AD.Tpo -c -o ta_AD.lo ta_AD.c\n",
            " gcc -DHAVE_CONFIG_H -I. -I../../include -I../ta_common/ -g -O2 -MT ta_AD.lo -MD -MP -MF .deps/ta_AD.Tpo -c ta_AD.c  -fPIC -DPIC -o .libs/ta_AD.o\n",
            " gcc -DHAVE_CONFIG_H -I. -I../../include -I../ta_common/ -g -O2 -MT ta_AD.lo -MD -MP -MF .deps/ta_AD.Tpo -c ta_AD.c -o ta_AD.o >/dev/null 2>&1\n",
            "mv -f .deps/ta_AD.Tpo .deps/ta_AD.Plo\n",
            "/bin/bash ../../libtool --tag=CC   --mode=compile gcc -DHAVE_CONFIG_H -I. -I../../include  -I../ta_common/   -g -O2 -MT ta_ADD.lo -MD -MP -MF .deps/ta_ADD.Tpo -c -o ta_ADD.lo ta_ADD.c\n",
            " gcc -DHAVE_CONFIG_H -I. -I../../include -I../ta_common/ -g -O2 -MT ta_ADD.lo -MD -MP -MF .deps/ta_ADD.Tpo -c ta_ADD.c  -fPIC -DPIC -o .libs/ta_ADD.o\n",
            " gcc -DHAVE_CONFIG_H -I. -I../../include -I../ta_common/ -g -O2 -MT ta_ADD.lo -MD -MP -MF .deps/ta_ADD.Tpo -c ta_ADD.c -o ta_ADD.o >/dev/null 2>&1\n",
            "mv -f .deps/ta_ADD.Tpo .deps/ta_ADD.Plo\n",
            "/bin/bash ../../libtool --tag=CC   --mode=compile gcc -DHAVE_CONFIG_H -I. -I../../include  -I../ta_common/   -g -O2 -MT ta_ADOSC.lo -MD -MP -MF .deps/ta_ADOSC.Tpo -c -o ta_ADOSC.lo ta_ADOSC.c\n",
            " gcc -DHAVE_CONFIG_H -I. -I../../include -I../ta_common/ -g -O2 -MT ta_ADOSC.lo -MD -MP -MF .deps/ta_ADOSC.Tpo -c ta_ADOSC.c  -fPIC -DPIC -o .libs/ta_ADOSC.o\n",
            " gcc -DHAVE_CONFIG_H -I. -I../../include -I../ta_common/ -g -O2 -MT ta_ADOSC.lo -MD -MP -MF .deps/ta_ADOSC.Tpo -c ta_ADOSC.c -o ta_ADOSC.o >/dev/null 2>&1\n",
            "mv -f .deps/ta_ADOSC.Tpo .deps/ta_ADOSC.Plo\n",
            "/bin/bash ../../libtool --tag=CC   --mode=compile gcc -DHAVE_CONFIG_H -I. -I../../include  -I../ta_common/   -g -O2 -MT ta_ADX.lo -MD -MP -MF .deps/ta_ADX.Tpo -c -o ta_ADX.lo ta_ADX.c\n",
            " gcc -DHAVE_CONFIG_H -I. -I../../include -I../ta_common/ -g -O2 -MT ta_ADX.lo -MD -MP -MF .deps/ta_ADX.Tpo -c ta_ADX.c  -fPIC -DPIC -o .libs/ta_ADX.o\n",
            " gcc -DHAVE_CONFIG_H -I. -I../../include -I../ta_common/ -g -O2 -MT ta_ADX.lo -MD -MP -MF .deps/ta_ADX.Tpo -c ta_ADX.c -o ta_ADX.o >/dev/null 2>&1\n",
            "mv -f .deps/ta_ADX.Tpo .deps/ta_ADX.Plo\n",
            "/bin/bash ../../libtool --tag=CC   --mode=compile gcc -DHAVE_CONFIG_H -I. -I../../include  -I../ta_common/   -g -O2 -MT ta_ADXR.lo -MD -MP -MF .deps/ta_ADXR.Tpo -c -o ta_ADXR.lo ta_ADXR.c\n",
            " gcc -DHAVE_CONFIG_H -I. -I../../include -I../ta_common/ -g -O2 -MT ta_ADXR.lo -MD -MP -MF .deps/ta_ADXR.Tpo -c ta_ADXR.c  -fPIC -DPIC -o .libs/ta_ADXR.o\n",
            " gcc -DHAVE_CONFIG_H -I. -I../../include -I../ta_common/ -g -O2 -MT ta_ADXR.lo -MD -MP -MF .deps/ta_ADXR.Tpo -c ta_ADXR.c -o ta_ADXR.o >/dev/null 2>&1\n",
            "mv -f .deps/ta_ADXR.Tpo .deps/ta_ADXR.Plo\n",
            "/bin/bash ../../libtool --tag=CC   --mode=compile gcc -DHAVE_CONFIG_H -I. -I../../include  -I../ta_common/   -g -O2 -MT ta_APO.lo -MD -MP -MF .deps/ta_APO.Tpo -c -o ta_APO.lo ta_APO.c\n",
            " gcc -DHAVE_CONFIG_H -I. -I../../include -I../ta_common/ -g -O2 -MT ta_APO.lo -MD -MP -MF .deps/ta_APO.Tpo -c ta_APO.c  -fPIC -DPIC -o .libs/ta_APO.o\n",
            " gcc -DHAVE_CONFIG_H -I. -I../../include -I../ta_common/ -g -O2 -MT ta_APO.lo -MD -MP -MF .deps/ta_APO.Tpo -c ta_APO.c -o ta_APO.o >/dev/null 2>&1\n",
            "mv -f .deps/ta_APO.Tpo .deps/ta_APO.Plo\n",
            "/bin/bash ../../libtool --tag=CC   --mode=compile gcc -DHAVE_CONFIG_H -I. -I../../include  -I../ta_common/   -g -O2 -MT ta_AROON.lo -MD -MP -MF .deps/ta_AROON.Tpo -c -o ta_AROON.lo ta_AROON.c\n",
            " gcc -DHAVE_CONFIG_H -I. -I../../include -I../ta_common/ -g -O2 -MT ta_AROON.lo -MD -MP -MF .deps/ta_AROON.Tpo -c ta_AROON.c  -fPIC -DPIC -o .libs/ta_AROON.o\n",
            " gcc -DHAVE_CONFIG_H -I. -I../../include -I../ta_common/ -g -O2 -MT ta_AROON.lo -MD -MP -MF .deps/ta_AROON.Tpo -c ta_AROON.c -o ta_AROON.o >/dev/null 2>&1\n",
            "mv -f .deps/ta_AROON.Tpo .deps/ta_AROON.Plo\n",
            "/bin/bash ../../libtool --tag=CC   --mode=compile gcc -DHAVE_CONFIG_H -I. -I../../include  -I../ta_common/   -g -O2 -MT ta_AROONOSC.lo -MD -MP -MF .deps/ta_AROONOSC.Tpo -c -o ta_AROONOSC.lo ta_AROONOSC.c\n",
            " gcc -DHAVE_CONFIG_H -I. -I../../include -I../ta_common/ -g -O2 -MT ta_AROONOSC.lo -MD -MP -MF .deps/ta_AROONOSC.Tpo -c ta_AROONOSC.c  -fPIC -DPIC -o .libs/ta_AROONOSC.o\n",
            " gcc -DHAVE_CONFIG_H -I. -I../../include -I../ta_common/ -g -O2 -MT ta_AROONOSC.lo -MD -MP -MF .deps/ta_AROONOSC.Tpo -c ta_AROONOSC.c -o ta_AROONOSC.o >/dev/null 2>&1\n",
            "mv -f .deps/ta_AROONOSC.Tpo .deps/ta_AROONOSC.Plo\n",
            "/bin/bash ../../libtool --tag=CC   --mode=compile gcc -DHAVE_CONFIG_H -I. -I../../include  -I../ta_common/   -g -O2 -MT ta_ASIN.lo -MD -MP -MF .deps/ta_ASIN.Tpo -c -o ta_ASIN.lo ta_ASIN.c\n",
            " gcc -DHAVE_CONFIG_H -I. -I../../include -I../ta_common/ -g -O2 -MT ta_ASIN.lo -MD -MP -MF .deps/ta_ASIN.Tpo -c ta_ASIN.c  -fPIC -DPIC -o .libs/ta_ASIN.o\n",
            " gcc -DHAVE_CONFIG_H -I. -I../../include -I../ta_common/ -g -O2 -MT ta_ASIN.lo -MD -MP -MF .deps/ta_ASIN.Tpo -c ta_ASIN.c -o ta_ASIN.o >/dev/null 2>&1\n",
            "mv -f .deps/ta_ASIN.Tpo .deps/ta_ASIN.Plo\n",
            "/bin/bash ../../libtool --tag=CC   --mode=compile gcc -DHAVE_CONFIG_H -I. -I../../include  -I../ta_common/   -g -O2 -MT ta_ATAN.lo -MD -MP -MF .deps/ta_ATAN.Tpo -c -o ta_ATAN.lo ta_ATAN.c\n",
            " gcc -DHAVE_CONFIG_H -I. -I../../include -I../ta_common/ -g -O2 -MT ta_ATAN.lo -MD -MP -MF .deps/ta_ATAN.Tpo -c ta_ATAN.c  -fPIC -DPIC -o .libs/ta_ATAN.o\n",
            " gcc -DHAVE_CONFIG_H -I. -I../../include -I../ta_common/ -g -O2 -MT ta_ATAN.lo -MD -MP -MF .deps/ta_ATAN.Tpo -c ta_ATAN.c -o ta_ATAN.o >/dev/null 2>&1\n",
            "mv -f .deps/ta_ATAN.Tpo .deps/ta_ATAN.Plo\n",
            "/bin/bash ../../libtool --tag=CC   --mode=compile gcc -DHAVE_CONFIG_H -I. -I../../include  -I../ta_common/   -g -O2 -MT ta_ATR.lo -MD -MP -MF .deps/ta_ATR.Tpo -c -o ta_ATR.lo ta_ATR.c\n",
            " gcc -DHAVE_CONFIG_H -I. -I../../include -I../ta_common/ -g -O2 -MT ta_ATR.lo -MD -MP -MF .deps/ta_ATR.Tpo -c ta_ATR.c  -fPIC -DPIC -o .libs/ta_ATR.o\n",
            " gcc -DHAVE_CONFIG_H -I. -I../../include -I../ta_common/ -g -O2 -MT ta_ATR.lo -MD -MP -MF .deps/ta_ATR.Tpo -c ta_ATR.c -o ta_ATR.o >/dev/null 2>&1\n",
            "mv -f .deps/ta_ATR.Tpo .deps/ta_ATR.Plo\n",
            "/bin/bash ../../libtool --tag=CC   --mode=compile gcc -DHAVE_CONFIG_H -I. -I../../include  -I../ta_common/   -g -O2 -MT ta_AVGPRICE.lo -MD -MP -MF .deps/ta_AVGPRICE.Tpo -c -o ta_AVGPRICE.lo ta_AVGPRICE.c\n",
            " gcc -DHAVE_CONFIG_H -I. -I../../include -I../ta_common/ -g -O2 -MT ta_AVGPRICE.lo -MD -MP -MF .deps/ta_AVGPRICE.Tpo -c ta_AVGPRICE.c  -fPIC -DPIC -o .libs/ta_AVGPRICE.o\n",
            " gcc -DHAVE_CONFIG_H -I. -I../../include -I../ta_common/ -g -O2 -MT ta_AVGPRICE.lo -MD -MP -MF .deps/ta_AVGPRICE.Tpo -c ta_AVGPRICE.c -o ta_AVGPRICE.o >/dev/null 2>&1\n",
            "mv -f .deps/ta_AVGPRICE.Tpo .deps/ta_AVGPRICE.Plo\n",
            "/bin/bash ../../libtool --tag=CC   --mode=compile gcc -DHAVE_CONFIG_H -I. -I../../include  -I../ta_common/   -g -O2 -MT ta_BBANDS.lo -MD -MP -MF .deps/ta_BBANDS.Tpo -c -o ta_BBANDS.lo ta_BBANDS.c\n",
            " gcc -DHAVE_CONFIG_H -I. -I../../include -I../ta_common/ -g -O2 -MT ta_BBANDS.lo -MD -MP -MF .deps/ta_BBANDS.Tpo -c ta_BBANDS.c  -fPIC -DPIC -o .libs/ta_BBANDS.o\n",
            " gcc -DHAVE_CONFIG_H -I. -I../../include -I../ta_common/ -g -O2 -MT ta_BBANDS.lo -MD -MP -MF .deps/ta_BBANDS.Tpo -c ta_BBANDS.c -o ta_BBANDS.o >/dev/null 2>&1\n",
            "mv -f .deps/ta_BBANDS.Tpo .deps/ta_BBANDS.Plo\n",
            "/bin/bash ../../libtool --tag=CC   --mode=compile gcc -DHAVE_CONFIG_H -I. -I../../include  -I../ta_common/   -g -O2 -MT ta_BETA.lo -MD -MP -MF .deps/ta_BETA.Tpo -c -o ta_BETA.lo ta_BETA.c\n",
            " gcc -DHAVE_CONFIG_H -I. -I../../include -I../ta_common/ -g -O2 -MT ta_BETA.lo -MD -MP -MF .deps/ta_BETA.Tpo -c ta_BETA.c  -fPIC -DPIC -o .libs/ta_BETA.o\n",
            " gcc -DHAVE_CONFIG_H -I. -I../../include -I../ta_common/ -g -O2 -MT ta_BETA.lo -MD -MP -MF .deps/ta_BETA.Tpo -c ta_BETA.c -o ta_BETA.o >/dev/null 2>&1\n",
            "mv -f .deps/ta_BETA.Tpo .deps/ta_BETA.Plo\n",
            "/bin/bash ../../libtool --tag=CC   --mode=compile gcc -DHAVE_CONFIG_H -I. -I../../include  -I../ta_common/   -g -O2 -MT ta_BOP.lo -MD -MP -MF .deps/ta_BOP.Tpo -c -o ta_BOP.lo ta_BOP.c\n",
            " gcc -DHAVE_CONFIG_H -I. -I../../include -I../ta_common/ -g -O2 -MT ta_BOP.lo -MD -MP -MF .deps/ta_BOP.Tpo -c ta_BOP.c  -fPIC -DPIC -o .libs/ta_BOP.o\n",
            " gcc -DHAVE_CONFIG_H -I. -I../../include -I../ta_common/ -g -O2 -MT ta_BOP.lo -MD -MP -MF .deps/ta_BOP.Tpo -c ta_BOP.c -o ta_BOP.o >/dev/null 2>&1\n",
            "mv -f .deps/ta_BOP.Tpo .deps/ta_BOP.Plo\n",
            "/bin/bash ../../libtool --tag=CC   --mode=compile gcc -DHAVE_CONFIG_H -I. -I../../include  -I../ta_common/   -g -O2 -MT ta_CCI.lo -MD -MP -MF .deps/ta_CCI.Tpo -c -o ta_CCI.lo ta_CCI.c\n",
            " gcc -DHAVE_CONFIG_H -I. -I../../include -I../ta_common/ -g -O2 -MT ta_CCI.lo -MD -MP -MF .deps/ta_CCI.Tpo -c ta_CCI.c  -fPIC -DPIC -o .libs/ta_CCI.o\n",
            " gcc -DHAVE_CONFIG_H -I. -I../../include -I../ta_common/ -g -O2 -MT ta_CCI.lo -MD -MP -MF .deps/ta_CCI.Tpo -c ta_CCI.c -o ta_CCI.o >/dev/null 2>&1\n",
            "mv -f .deps/ta_CCI.Tpo .deps/ta_CCI.Plo\n",
            "/bin/bash ../../libtool --tag=CC   --mode=compile gcc -DHAVE_CONFIG_H -I. -I../../include  -I../ta_common/   -g -O2 -MT ta_CDL2CROWS.lo -MD -MP -MF .deps/ta_CDL2CROWS.Tpo -c -o ta_CDL2CROWS.lo ta_CDL2CROWS.c\n",
            " gcc -DHAVE_CONFIG_H -I. -I../../include -I../ta_common/ -g -O2 -MT ta_CDL2CROWS.lo -MD -MP -MF .deps/ta_CDL2CROWS.Tpo -c ta_CDL2CROWS.c  -fPIC -DPIC -o .libs/ta_CDL2CROWS.o\n",
            " gcc -DHAVE_CONFIG_H -I. -I../../include -I../ta_common/ -g -O2 -MT ta_CDL2CROWS.lo -MD -MP -MF .deps/ta_CDL2CROWS.Tpo -c ta_CDL2CROWS.c -o ta_CDL2CROWS.o >/dev/null 2>&1\n",
            "mv -f .deps/ta_CDL2CROWS.Tpo .deps/ta_CDL2CROWS.Plo\n",
            "/bin/bash ../../libtool --tag=CC   --mode=compile gcc -DHAVE_CONFIG_H -I. -I../../include  -I../ta_common/   -g -O2 -MT ta_CDL3BLACKCROWS.lo -MD -MP -MF .deps/ta_CDL3BLACKCROWS.Tpo -c -o ta_CDL3BLACKCROWS.lo ta_CDL3BLACKCROWS.c\n",
            " gcc -DHAVE_CONFIG_H -I. -I../../include -I../ta_common/ -g -O2 -MT ta_CDL3BLACKCROWS.lo -MD -MP -MF .deps/ta_CDL3BLACKCROWS.Tpo -c ta_CDL3BLACKCROWS.c  -fPIC -DPIC -o .libs/ta_CDL3BLACKCROWS.o\n",
            " gcc -DHAVE_CONFIG_H -I. -I../../include -I../ta_common/ -g -O2 -MT ta_CDL3BLACKCROWS.lo -MD -MP -MF .deps/ta_CDL3BLACKCROWS.Tpo -c ta_CDL3BLACKCROWS.c -o ta_CDL3BLACKCROWS.o >/dev/null 2>&1\n",
            "mv -f .deps/ta_CDL3BLACKCROWS.Tpo .deps/ta_CDL3BLACKCROWS.Plo\n",
            "/bin/bash ../../libtool --tag=CC   --mode=compile gcc -DHAVE_CONFIG_H -I. -I../../include  -I../ta_common/   -g -O2 -MT ta_CDL3INSIDE.lo -MD -MP -MF .deps/ta_CDL3INSIDE.Tpo -c -o ta_CDL3INSIDE.lo ta_CDL3INSIDE.c\n",
            " gcc -DHAVE_CONFIG_H -I. -I../../include -I../ta_common/ -g -O2 -MT ta_CDL3INSIDE.lo -MD -MP -MF .deps/ta_CDL3INSIDE.Tpo -c ta_CDL3INSIDE.c  -fPIC -DPIC -o .libs/ta_CDL3INSIDE.o\n",
            " gcc -DHAVE_CONFIG_H -I. -I../../include -I../ta_common/ -g -O2 -MT ta_CDL3INSIDE.lo -MD -MP -MF .deps/ta_CDL3INSIDE.Tpo -c ta_CDL3INSIDE.c -o ta_CDL3INSIDE.o >/dev/null 2>&1\n",
            "mv -f .deps/ta_CDL3INSIDE.Tpo .deps/ta_CDL3INSIDE.Plo\n",
            "/bin/bash ../../libtool --tag=CC   --mode=compile gcc -DHAVE_CONFIG_H -I. -I../../include  -I../ta_common/   -g -O2 -MT ta_CDL3LINESTRIKE.lo -MD -MP -MF .deps/ta_CDL3LINESTRIKE.Tpo -c -o ta_CDL3LINESTRIKE.lo ta_CDL3LINESTRIKE.c\n",
            " gcc -DHAVE_CONFIG_H -I. -I../../include -I../ta_common/ -g -O2 -MT ta_CDL3LINESTRIKE.lo -MD -MP -MF .deps/ta_CDL3LINESTRIKE.Tpo -c ta_CDL3LINESTRIKE.c  -fPIC -DPIC -o .libs/ta_CDL3LINESTRIKE.o\n",
            " gcc -DHAVE_CONFIG_H -I. -I../../include -I../ta_common/ -g -O2 -MT ta_CDL3LINESTRIKE.lo -MD -MP -MF .deps/ta_CDL3LINESTRIKE.Tpo -c ta_CDL3LINESTRIKE.c -o ta_CDL3LINESTRIKE.o >/dev/null 2>&1\n",
            "mv -f .deps/ta_CDL3LINESTRIKE.Tpo .deps/ta_CDL3LINESTRIKE.Plo\n",
            "/bin/bash ../../libtool --tag=CC   --mode=compile gcc -DHAVE_CONFIG_H -I. -I../../include  -I../ta_common/   -g -O2 -MT ta_CDL3OUTSIDE.lo -MD -MP -MF .deps/ta_CDL3OUTSIDE.Tpo -c -o ta_CDL3OUTSIDE.lo ta_CDL3OUTSIDE.c\n",
            " gcc -DHAVE_CONFIG_H -I. -I../../include -I../ta_common/ -g -O2 -MT ta_CDL3OUTSIDE.lo -MD -MP -MF .deps/ta_CDL3OUTSIDE.Tpo -c ta_CDL3OUTSIDE.c  -fPIC -DPIC -o .libs/ta_CDL3OUTSIDE.o\n",
            " gcc -DHAVE_CONFIG_H -I. -I../../include -I../ta_common/ -g -O2 -MT ta_CDL3OUTSIDE.lo -MD -MP -MF .deps/ta_CDL3OUTSIDE.Tpo -c ta_CDL3OUTSIDE.c -o ta_CDL3OUTSIDE.o >/dev/null 2>&1\n",
            "mv -f .deps/ta_CDL3OUTSIDE.Tpo .deps/ta_CDL3OUTSIDE.Plo\n",
            "/bin/bash ../../libtool --tag=CC   --mode=compile gcc -DHAVE_CONFIG_H -I. -I../../include  -I../ta_common/   -g -O2 -MT ta_CDL3STARSINSOUTH.lo -MD -MP -MF .deps/ta_CDL3STARSINSOUTH.Tpo -c -o ta_CDL3STARSINSOUTH.lo ta_CDL3STARSINSOUTH.c\n",
            " gcc -DHAVE_CONFIG_H -I. -I../../include -I../ta_common/ -g -O2 -MT ta_CDL3STARSINSOUTH.lo -MD -MP -MF .deps/ta_CDL3STARSINSOUTH.Tpo -c ta_CDL3STARSINSOUTH.c  -fPIC -DPIC -o .libs/ta_CDL3STARSINSOUTH.o\n",
            " gcc -DHAVE_CONFIG_H -I. -I../../include -I../ta_common/ -g -O2 -MT ta_CDL3STARSINSOUTH.lo -MD -MP -MF .deps/ta_CDL3STARSINSOUTH.Tpo -c ta_CDL3STARSINSOUTH.c -o ta_CDL3STARSINSOUTH.o >/dev/null 2>&1\n",
            "mv -f .deps/ta_CDL3STARSINSOUTH.Tpo .deps/ta_CDL3STARSINSOUTH.Plo\n",
            "/bin/bash ../../libtool --tag=CC   --mode=compile gcc -DHAVE_CONFIG_H -I. -I../../include  -I../ta_common/   -g -O2 -MT ta_CDL3WHITESOLDIERS.lo -MD -MP -MF .deps/ta_CDL3WHITESOLDIERS.Tpo -c -o ta_CDL3WHITESOLDIERS.lo ta_CDL3WHITESOLDIERS.c\n",
            " gcc -DHAVE_CONFIG_H -I. -I../../include -I../ta_common/ -g -O2 -MT ta_CDL3WHITESOLDIERS.lo -MD -MP -MF .deps/ta_CDL3WHITESOLDIERS.Tpo -c ta_CDL3WHITESOLDIERS.c  -fPIC -DPIC -o .libs/ta_CDL3WHITESOLDIERS.o\n",
            " gcc -DHAVE_CONFIG_H -I. -I../../include -I../ta_common/ -g -O2 -MT ta_CDL3WHITESOLDIERS.lo -MD -MP -MF .deps/ta_CDL3WHITESOLDIERS.Tpo -c ta_CDL3WHITESOLDIERS.c -o ta_CDL3WHITESOLDIERS.o >/dev/null 2>&1\n",
            "mv -f .deps/ta_CDL3WHITESOLDIERS.Tpo .deps/ta_CDL3WHITESOLDIERS.Plo\n",
            "/bin/bash ../../libtool --tag=CC   --mode=compile gcc -DHAVE_CONFIG_H -I. -I../../include  -I../ta_common/   -g -O2 -MT ta_CDLABANDONEDBABY.lo -MD -MP -MF .deps/ta_CDLABANDONEDBABY.Tpo -c -o ta_CDLABANDONEDBABY.lo ta_CDLABANDONEDBABY.c\n",
            " gcc -DHAVE_CONFIG_H -I. -I../../include -I../ta_common/ -g -O2 -MT ta_CDLABANDONEDBABY.lo -MD -MP -MF .deps/ta_CDLABANDONEDBABY.Tpo -c ta_CDLABANDONEDBABY.c  -fPIC -DPIC -o .libs/ta_CDLABANDONEDBABY.o\n",
            " gcc -DHAVE_CONFIG_H -I. -I../../include -I../ta_common/ -g -O2 -MT ta_CDLABANDONEDBABY.lo -MD -MP -MF .deps/ta_CDLABANDONEDBABY.Tpo -c ta_CDLABANDONEDBABY.c -o ta_CDLABANDONEDBABY.o >/dev/null 2>&1\n",
            "mv -f .deps/ta_CDLABANDONEDBABY.Tpo .deps/ta_CDLABANDONEDBABY.Plo\n",
            "/bin/bash ../../libtool --tag=CC   --mode=compile gcc -DHAVE_CONFIG_H -I. -I../../include  -I../ta_common/   -g -O2 -MT ta_CDLADVANCEBLOCK.lo -MD -MP -MF .deps/ta_CDLADVANCEBLOCK.Tpo -c -o ta_CDLADVANCEBLOCK.lo ta_CDLADVANCEBLOCK.c\n",
            " gcc -DHAVE_CONFIG_H -I. -I../../include -I../ta_common/ -g -O2 -MT ta_CDLADVANCEBLOCK.lo -MD -MP -MF .deps/ta_CDLADVANCEBLOCK.Tpo -c ta_CDLADVANCEBLOCK.c  -fPIC -DPIC -o .libs/ta_CDLADVANCEBLOCK.o\n",
            " gcc -DHAVE_CONFIG_H -I. -I../../include -I../ta_common/ -g -O2 -MT ta_CDLADVANCEBLOCK.lo -MD -MP -MF .deps/ta_CDLADVANCEBLOCK.Tpo -c ta_CDLADVANCEBLOCK.c -o ta_CDLADVANCEBLOCK.o >/dev/null 2>&1\n",
            "mv -f .deps/ta_CDLADVANCEBLOCK.Tpo .deps/ta_CDLADVANCEBLOCK.Plo\n",
            "/bin/bash ../../libtool --tag=CC   --mode=compile gcc -DHAVE_CONFIG_H -I. -I../../include  -I../ta_common/   -g -O2 -MT ta_CDLBELTHOLD.lo -MD -MP -MF .deps/ta_CDLBELTHOLD.Tpo -c -o ta_CDLBELTHOLD.lo ta_CDLBELTHOLD.c\n",
            " gcc -DHAVE_CONFIG_H -I. -I../../include -I../ta_common/ -g -O2 -MT ta_CDLBELTHOLD.lo -MD -MP -MF .deps/ta_CDLBELTHOLD.Tpo -c ta_CDLBELTHOLD.c  -fPIC -DPIC -o .libs/ta_CDLBELTHOLD.o\n",
            " gcc -DHAVE_CONFIG_H -I. -I../../include -I../ta_common/ -g -O2 -MT ta_CDLBELTHOLD.lo -MD -MP -MF .deps/ta_CDLBELTHOLD.Tpo -c ta_CDLBELTHOLD.c -o ta_CDLBELTHOLD.o >/dev/null 2>&1\n",
            "mv -f .deps/ta_CDLBELTHOLD.Tpo .deps/ta_CDLBELTHOLD.Plo\n",
            "/bin/bash ../../libtool --tag=CC   --mode=compile gcc -DHAVE_CONFIG_H -I. -I../../include  -I../ta_common/   -g -O2 -MT ta_CDLBREAKAWAY.lo -MD -MP -MF .deps/ta_CDLBREAKAWAY.Tpo -c -o ta_CDLBREAKAWAY.lo ta_CDLBREAKAWAY.c\n",
            " gcc -DHAVE_CONFIG_H -I. -I../../include -I../ta_common/ -g -O2 -MT ta_CDLBREAKAWAY.lo -MD -MP -MF .deps/ta_CDLBREAKAWAY.Tpo -c ta_CDLBREAKAWAY.c  -fPIC -DPIC -o .libs/ta_CDLBREAKAWAY.o\n",
            " gcc -DHAVE_CONFIG_H -I. -I../../include -I../ta_common/ -g -O2 -MT ta_CDLBREAKAWAY.lo -MD -MP -MF .deps/ta_CDLBREAKAWAY.Tpo -c ta_CDLBREAKAWAY.c -o ta_CDLBREAKAWAY.o >/dev/null 2>&1\n",
            "mv -f .deps/ta_CDLBREAKAWAY.Tpo .deps/ta_CDLBREAKAWAY.Plo\n",
            "/bin/bash ../../libtool --tag=CC   --mode=compile gcc -DHAVE_CONFIG_H -I. -I../../include  -I../ta_common/   -g -O2 -MT ta_CDLCLOSINGMARUBOZU.lo -MD -MP -MF .deps/ta_CDLCLOSINGMARUBOZU.Tpo -c -o ta_CDLCLOSINGMARUBOZU.lo ta_CDLCLOSINGMARUBOZU.c\n",
            " gcc -DHAVE_CONFIG_H -I. -I../../include -I../ta_common/ -g -O2 -MT ta_CDLCLOSINGMARUBOZU.lo -MD -MP -MF .deps/ta_CDLCLOSINGMARUBOZU.Tpo -c ta_CDLCLOSINGMARUBOZU.c  -fPIC -DPIC -o .libs/ta_CDLCLOSINGMARUBOZU.o\n",
            " gcc -DHAVE_CONFIG_H -I. -I../../include -I../ta_common/ -g -O2 -MT ta_CDLCLOSINGMARUBOZU.lo -MD -MP -MF .deps/ta_CDLCLOSINGMARUBOZU.Tpo -c ta_CDLCLOSINGMARUBOZU.c -o ta_CDLCLOSINGMARUBOZU.o >/dev/null 2>&1\n",
            "mv -f .deps/ta_CDLCLOSINGMARUBOZU.Tpo .deps/ta_CDLCLOSINGMARUBOZU.Plo\n",
            "/bin/bash ../../libtool --tag=CC   --mode=compile gcc -DHAVE_CONFIG_H -I. -I../../include  -I../ta_common/   -g -O2 -MT ta_CDLCONCEALBABYSWALL.lo -MD -MP -MF .deps/ta_CDLCONCEALBABYSWALL.Tpo -c -o ta_CDLCONCEALBABYSWALL.lo ta_CDLCONCEALBABYSWALL.c\n",
            " gcc -DHAVE_CONFIG_H -I. -I../../include -I../ta_common/ -g -O2 -MT ta_CDLCONCEALBABYSWALL.lo -MD -MP -MF .deps/ta_CDLCONCEALBABYSWALL.Tpo -c ta_CDLCONCEALBABYSWALL.c  -fPIC -DPIC -o .libs/ta_CDLCONCEALBABYSWALL.o\n",
            " gcc -DHAVE_CONFIG_H -I. -I../../include -I../ta_common/ -g -O2 -MT ta_CDLCONCEALBABYSWALL.lo -MD -MP -MF .deps/ta_CDLCONCEALBABYSWALL.Tpo -c ta_CDLCONCEALBABYSWALL.c -o ta_CDLCONCEALBABYSWALL.o >/dev/null 2>&1\n",
            "mv -f .deps/ta_CDLCONCEALBABYSWALL.Tpo .deps/ta_CDLCONCEALBABYSWALL.Plo\n",
            "/bin/bash ../../libtool --tag=CC   --mode=compile gcc -DHAVE_CONFIG_H -I. -I../../include  -I../ta_common/   -g -O2 -MT ta_CDLCOUNTERATTACK.lo -MD -MP -MF .deps/ta_CDLCOUNTERATTACK.Tpo -c -o ta_CDLCOUNTERATTACK.lo ta_CDLCOUNTERATTACK.c\n",
            " gcc -DHAVE_CONFIG_H -I. -I../../include -I../ta_common/ -g -O2 -MT ta_CDLCOUNTERATTACK.lo -MD -MP -MF .deps/ta_CDLCOUNTERATTACK.Tpo -c ta_CDLCOUNTERATTACK.c  -fPIC -DPIC -o .libs/ta_CDLCOUNTERATTACK.o\n",
            " gcc -DHAVE_CONFIG_H -I. -I../../include -I../ta_common/ -g -O2 -MT ta_CDLCOUNTERATTACK.lo -MD -MP -MF .deps/ta_CDLCOUNTERATTACK.Tpo -c ta_CDLCOUNTERATTACK.c -o ta_CDLCOUNTERATTACK.o >/dev/null 2>&1\n",
            "mv -f .deps/ta_CDLCOUNTERATTACK.Tpo .deps/ta_CDLCOUNTERATTACK.Plo\n",
            "/bin/bash ../../libtool --tag=CC   --mode=compile gcc -DHAVE_CONFIG_H -I. -I../../include  -I../ta_common/   -g -O2 -MT ta_CDLDARKCLOUDCOVER.lo -MD -MP -MF .deps/ta_CDLDARKCLOUDCOVER.Tpo -c -o ta_CDLDARKCLOUDCOVER.lo ta_CDLDARKCLOUDCOVER.c\n",
            " gcc -DHAVE_CONFIG_H -I. -I../../include -I../ta_common/ -g -O2 -MT ta_CDLDARKCLOUDCOVER.lo -MD -MP -MF .deps/ta_CDLDARKCLOUDCOVER.Tpo -c ta_CDLDARKCLOUDCOVER.c  -fPIC -DPIC -o .libs/ta_CDLDARKCLOUDCOVER.o\n",
            " gcc -DHAVE_CONFIG_H -I. -I../../include -I../ta_common/ -g -O2 -MT ta_CDLDARKCLOUDCOVER.lo -MD -MP -MF .deps/ta_CDLDARKCLOUDCOVER.Tpo -c ta_CDLDARKCLOUDCOVER.c -o ta_CDLDARKCLOUDCOVER.o >/dev/null 2>&1\n",
            "mv -f .deps/ta_CDLDARKCLOUDCOVER.Tpo .deps/ta_CDLDARKCLOUDCOVER.Plo\n",
            "/bin/bash ../../libtool --tag=CC   --mode=compile gcc -DHAVE_CONFIG_H -I. -I../../include  -I../ta_common/   -g -O2 -MT ta_CDLDOJI.lo -MD -MP -MF .deps/ta_CDLDOJI.Tpo -c -o ta_CDLDOJI.lo ta_CDLDOJI.c\n",
            " gcc -DHAVE_CONFIG_H -I. -I../../include -I../ta_common/ -g -O2 -MT ta_CDLDOJI.lo -MD -MP -MF .deps/ta_CDLDOJI.Tpo -c ta_CDLDOJI.c  -fPIC -DPIC -o .libs/ta_CDLDOJI.o\n",
            " gcc -DHAVE_CONFIG_H -I. -I../../include -I../ta_common/ -g -O2 -MT ta_CDLDOJI.lo -MD -MP -MF .deps/ta_CDLDOJI.Tpo -c ta_CDLDOJI.c -o ta_CDLDOJI.o >/dev/null 2>&1\n",
            "mv -f .deps/ta_CDLDOJI.Tpo .deps/ta_CDLDOJI.Plo\n",
            "/bin/bash ../../libtool --tag=CC   --mode=compile gcc -DHAVE_CONFIG_H -I. -I../../include  -I../ta_common/   -g -O2 -MT ta_CDLDOJISTAR.lo -MD -MP -MF .deps/ta_CDLDOJISTAR.Tpo -c -o ta_CDLDOJISTAR.lo ta_CDLDOJISTAR.c\n",
            " gcc -DHAVE_CONFIG_H -I. -I../../include -I../ta_common/ -g -O2 -MT ta_CDLDOJISTAR.lo -MD -MP -MF .deps/ta_CDLDOJISTAR.Tpo -c ta_CDLDOJISTAR.c  -fPIC -DPIC -o .libs/ta_CDLDOJISTAR.o\n",
            " gcc -DHAVE_CONFIG_H -I. -I../../include -I../ta_common/ -g -O2 -MT ta_CDLDOJISTAR.lo -MD -MP -MF .deps/ta_CDLDOJISTAR.Tpo -c ta_CDLDOJISTAR.c -o ta_CDLDOJISTAR.o >/dev/null 2>&1\n",
            "mv -f .deps/ta_CDLDOJISTAR.Tpo .deps/ta_CDLDOJISTAR.Plo\n",
            "/bin/bash ../../libtool --tag=CC   --mode=compile gcc -DHAVE_CONFIG_H -I. -I../../include  -I../ta_common/   -g -O2 -MT ta_CDLDRAGONFLYDOJI.lo -MD -MP -MF .deps/ta_CDLDRAGONFLYDOJI.Tpo -c -o ta_CDLDRAGONFLYDOJI.lo ta_CDLDRAGONFLYDOJI.c\n",
            " gcc -DHAVE_CONFIG_H -I. -I../../include -I../ta_common/ -g -O2 -MT ta_CDLDRAGONFLYDOJI.lo -MD -MP -MF .deps/ta_CDLDRAGONFLYDOJI.Tpo -c ta_CDLDRAGONFLYDOJI.c  -fPIC -DPIC -o .libs/ta_CDLDRAGONFLYDOJI.o\n",
            " gcc -DHAVE_CONFIG_H -I. -I../../include -I../ta_common/ -g -O2 -MT ta_CDLDRAGONFLYDOJI.lo -MD -MP -MF .deps/ta_CDLDRAGONFLYDOJI.Tpo -c ta_CDLDRAGONFLYDOJI.c -o ta_CDLDRAGONFLYDOJI.o >/dev/null 2>&1\n",
            "mv -f .deps/ta_CDLDRAGONFLYDOJI.Tpo .deps/ta_CDLDRAGONFLYDOJI.Plo\n",
            "/bin/bash ../../libtool --tag=CC   --mode=compile gcc -DHAVE_CONFIG_H -I. -I../../include  -I../ta_common/   -g -O2 -MT ta_CDLENGULFING.lo -MD -MP -MF .deps/ta_CDLENGULFING.Tpo -c -o ta_CDLENGULFING.lo ta_CDLENGULFING.c\n",
            " gcc -DHAVE_CONFIG_H -I. -I../../include -I../ta_common/ -g -O2 -MT ta_CDLENGULFING.lo -MD -MP -MF .deps/ta_CDLENGULFING.Tpo -c ta_CDLENGULFING.c  -fPIC -DPIC -o .libs/ta_CDLENGULFING.o\n",
            " gcc -DHAVE_CONFIG_H -I. -I../../include -I../ta_common/ -g -O2 -MT ta_CDLENGULFING.lo -MD -MP -MF .deps/ta_CDLENGULFING.Tpo -c ta_CDLENGULFING.c -o ta_CDLENGULFING.o >/dev/null 2>&1\n",
            "mv -f .deps/ta_CDLENGULFING.Tpo .deps/ta_CDLENGULFING.Plo\n",
            "/bin/bash ../../libtool --tag=CC   --mode=compile gcc -DHAVE_CONFIG_H -I. -I../../include  -I../ta_common/   -g -O2 -MT ta_CDLEVENINGDOJISTAR.lo -MD -MP -MF .deps/ta_CDLEVENINGDOJISTAR.Tpo -c -o ta_CDLEVENINGDOJISTAR.lo ta_CDLEVENINGDOJISTAR.c\n",
            " gcc -DHAVE_CONFIG_H -I. -I../../include -I../ta_common/ -g -O2 -MT ta_CDLEVENINGDOJISTAR.lo -MD -MP -MF .deps/ta_CDLEVENINGDOJISTAR.Tpo -c ta_CDLEVENINGDOJISTAR.c  -fPIC -DPIC -o .libs/ta_CDLEVENINGDOJISTAR.o\n",
            " gcc -DHAVE_CONFIG_H -I. -I../../include -I../ta_common/ -g -O2 -MT ta_CDLEVENINGDOJISTAR.lo -MD -MP -MF .deps/ta_CDLEVENINGDOJISTAR.Tpo -c ta_CDLEVENINGDOJISTAR.c -o ta_CDLEVENINGDOJISTAR.o >/dev/null 2>&1\n",
            "mv -f .deps/ta_CDLEVENINGDOJISTAR.Tpo .deps/ta_CDLEVENINGDOJISTAR.Plo\n",
            "/bin/bash ../../libtool --tag=CC   --mode=compile gcc -DHAVE_CONFIG_H -I. -I../../include  -I../ta_common/   -g -O2 -MT ta_CDLEVENINGSTAR.lo -MD -MP -MF .deps/ta_CDLEVENINGSTAR.Tpo -c -o ta_CDLEVENINGSTAR.lo ta_CDLEVENINGSTAR.c\n",
            " gcc -DHAVE_CONFIG_H -I. -I../../include -I../ta_common/ -g -O2 -MT ta_CDLEVENINGSTAR.lo -MD -MP -MF .deps/ta_CDLEVENINGSTAR.Tpo -c ta_CDLEVENINGSTAR.c  -fPIC -DPIC -o .libs/ta_CDLEVENINGSTAR.o\n",
            " gcc -DHAVE_CONFIG_H -I. -I../../include -I../ta_common/ -g -O2 -MT ta_CDLEVENINGSTAR.lo -MD -MP -MF .deps/ta_CDLEVENINGSTAR.Tpo -c ta_CDLEVENINGSTAR.c -o ta_CDLEVENINGSTAR.o >/dev/null 2>&1\n",
            "mv -f .deps/ta_CDLEVENINGSTAR.Tpo .deps/ta_CDLEVENINGSTAR.Plo\n",
            "/bin/bash ../../libtool --tag=CC   --mode=compile gcc -DHAVE_CONFIG_H -I. -I../../include  -I../ta_common/   -g -O2 -MT ta_CDLGAPSIDESIDEWHITE.lo -MD -MP -MF .deps/ta_CDLGAPSIDESIDEWHITE.Tpo -c -o ta_CDLGAPSIDESIDEWHITE.lo ta_CDLGAPSIDESIDEWHITE.c\n",
            " gcc -DHAVE_CONFIG_H -I. -I../../include -I../ta_common/ -g -O2 -MT ta_CDLGAPSIDESIDEWHITE.lo -MD -MP -MF .deps/ta_CDLGAPSIDESIDEWHITE.Tpo -c ta_CDLGAPSIDESIDEWHITE.c  -fPIC -DPIC -o .libs/ta_CDLGAPSIDESIDEWHITE.o\n",
            " gcc -DHAVE_CONFIG_H -I. -I../../include -I../ta_common/ -g -O2 -MT ta_CDLGAPSIDESIDEWHITE.lo -MD -MP -MF .deps/ta_CDLGAPSIDESIDEWHITE.Tpo -c ta_CDLGAPSIDESIDEWHITE.c -o ta_CDLGAPSIDESIDEWHITE.o >/dev/null 2>&1\n",
            "mv -f .deps/ta_CDLGAPSIDESIDEWHITE.Tpo .deps/ta_CDLGAPSIDESIDEWHITE.Plo\n",
            "/bin/bash ../../libtool --tag=CC   --mode=compile gcc -DHAVE_CONFIG_H -I. -I../../include  -I../ta_common/   -g -O2 -MT ta_CDLGRAVESTONEDOJI.lo -MD -MP -MF .deps/ta_CDLGRAVESTONEDOJI.Tpo -c -o ta_CDLGRAVESTONEDOJI.lo ta_CDLGRAVESTONEDOJI.c\n",
            " gcc -DHAVE_CONFIG_H -I. -I../../include -I../ta_common/ -g -O2 -MT ta_CDLGRAVESTONEDOJI.lo -MD -MP -MF .deps/ta_CDLGRAVESTONEDOJI.Tpo -c ta_CDLGRAVESTONEDOJI.c  -fPIC -DPIC -o .libs/ta_CDLGRAVESTONEDOJI.o\n",
            " gcc -DHAVE_CONFIG_H -I. -I../../include -I../ta_common/ -g -O2 -MT ta_CDLGRAVESTONEDOJI.lo -MD -MP -MF .deps/ta_CDLGRAVESTONEDOJI.Tpo -c ta_CDLGRAVESTONEDOJI.c -o ta_CDLGRAVESTONEDOJI.o >/dev/null 2>&1\n",
            "mv -f .deps/ta_CDLGRAVESTONEDOJI.Tpo .deps/ta_CDLGRAVESTONEDOJI.Plo\n",
            "/bin/bash ../../libtool --tag=CC   --mode=compile gcc -DHAVE_CONFIG_H -I. -I../../include  -I../ta_common/   -g -O2 -MT ta_CDLHAMMER.lo -MD -MP -MF .deps/ta_CDLHAMMER.Tpo -c -o ta_CDLHAMMER.lo ta_CDLHAMMER.c\n",
            " gcc -DHAVE_CONFIG_H -I. -I../../include -I../ta_common/ -g -O2 -MT ta_CDLHAMMER.lo -MD -MP -MF .deps/ta_CDLHAMMER.Tpo -c ta_CDLHAMMER.c  -fPIC -DPIC -o .libs/ta_CDLHAMMER.o\n",
            " gcc -DHAVE_CONFIG_H -I. -I../../include -I../ta_common/ -g -O2 -MT ta_CDLHAMMER.lo -MD -MP -MF .deps/ta_CDLHAMMER.Tpo -c ta_CDLHAMMER.c -o ta_CDLHAMMER.o >/dev/null 2>&1\n",
            "mv -f .deps/ta_CDLHAMMER.Tpo .deps/ta_CDLHAMMER.Plo\n",
            "/bin/bash ../../libtool --tag=CC   --mode=compile gcc -DHAVE_CONFIG_H -I. -I../../include  -I../ta_common/   -g -O2 -MT ta_CDLHANGINGMAN.lo -MD -MP -MF .deps/ta_CDLHANGINGMAN.Tpo -c -o ta_CDLHANGINGMAN.lo ta_CDLHANGINGMAN.c\n",
            " gcc -DHAVE_CONFIG_H -I. -I../../include -I../ta_common/ -g -O2 -MT ta_CDLHANGINGMAN.lo -MD -MP -MF .deps/ta_CDLHANGINGMAN.Tpo -c ta_CDLHANGINGMAN.c  -fPIC -DPIC -o .libs/ta_CDLHANGINGMAN.o\n",
            " gcc -DHAVE_CONFIG_H -I. -I../../include -I../ta_common/ -g -O2 -MT ta_CDLHANGINGMAN.lo -MD -MP -MF .deps/ta_CDLHANGINGMAN.Tpo -c ta_CDLHANGINGMAN.c -o ta_CDLHANGINGMAN.o >/dev/null 2>&1\n",
            "mv -f .deps/ta_CDLHANGINGMAN.Tpo .deps/ta_CDLHANGINGMAN.Plo\n",
            "/bin/bash ../../libtool --tag=CC   --mode=compile gcc -DHAVE_CONFIG_H -I. -I../../include  -I../ta_common/   -g -O2 -MT ta_CDLHARAMI.lo -MD -MP -MF .deps/ta_CDLHARAMI.Tpo -c -o ta_CDLHARAMI.lo ta_CDLHARAMI.c\n",
            " gcc -DHAVE_CONFIG_H -I. -I../../include -I../ta_common/ -g -O2 -MT ta_CDLHARAMI.lo -MD -MP -MF .deps/ta_CDLHARAMI.Tpo -c ta_CDLHARAMI.c  -fPIC -DPIC -o .libs/ta_CDLHARAMI.o\n",
            " gcc -DHAVE_CONFIG_H -I. -I../../include -I../ta_common/ -g -O2 -MT ta_CDLHARAMI.lo -MD -MP -MF .deps/ta_CDLHARAMI.Tpo -c ta_CDLHARAMI.c -o ta_CDLHARAMI.o >/dev/null 2>&1\n",
            "mv -f .deps/ta_CDLHARAMI.Tpo .deps/ta_CDLHARAMI.Plo\n",
            "/bin/bash ../../libtool --tag=CC   --mode=compile gcc -DHAVE_CONFIG_H -I. -I../../include  -I../ta_common/   -g -O2 -MT ta_CDLHARAMICROSS.lo -MD -MP -MF .deps/ta_CDLHARAMICROSS.Tpo -c -o ta_CDLHARAMICROSS.lo ta_CDLHARAMICROSS.c\n",
            " gcc -DHAVE_CONFIG_H -I. -I../../include -I../ta_common/ -g -O2 -MT ta_CDLHARAMICROSS.lo -MD -MP -MF .deps/ta_CDLHARAMICROSS.Tpo -c ta_CDLHARAMICROSS.c  -fPIC -DPIC -o .libs/ta_CDLHARAMICROSS.o\n",
            " gcc -DHAVE_CONFIG_H -I. -I../../include -I../ta_common/ -g -O2 -MT ta_CDLHARAMICROSS.lo -MD -MP -MF .deps/ta_CDLHARAMICROSS.Tpo -c ta_CDLHARAMICROSS.c -o ta_CDLHARAMICROSS.o >/dev/null 2>&1\n",
            "mv -f .deps/ta_CDLHARAMICROSS.Tpo .deps/ta_CDLHARAMICROSS.Plo\n",
            "/bin/bash ../../libtool --tag=CC   --mode=compile gcc -DHAVE_CONFIG_H -I. -I../../include  -I../ta_common/   -g -O2 -MT ta_CDLHIGHWAVE.lo -MD -MP -MF .deps/ta_CDLHIGHWAVE.Tpo -c -o ta_CDLHIGHWAVE.lo ta_CDLHIGHWAVE.c\n",
            " gcc -DHAVE_CONFIG_H -I. -I../../include -I../ta_common/ -g -O2 -MT ta_CDLHIGHWAVE.lo -MD -MP -MF .deps/ta_CDLHIGHWAVE.Tpo -c ta_CDLHIGHWAVE.c  -fPIC -DPIC -o .libs/ta_CDLHIGHWAVE.o\n",
            " gcc -DHAVE_CONFIG_H -I. -I../../include -I../ta_common/ -g -O2 -MT ta_CDLHIGHWAVE.lo -MD -MP -MF .deps/ta_CDLHIGHWAVE.Tpo -c ta_CDLHIGHWAVE.c -o ta_CDLHIGHWAVE.o >/dev/null 2>&1\n",
            "mv -f .deps/ta_CDLHIGHWAVE.Tpo .deps/ta_CDLHIGHWAVE.Plo\n",
            "/bin/bash ../../libtool --tag=CC   --mode=compile gcc -DHAVE_CONFIG_H -I. -I../../include  -I../ta_common/   -g -O2 -MT ta_CDLHIKKAKE.lo -MD -MP -MF .deps/ta_CDLHIKKAKE.Tpo -c -o ta_CDLHIKKAKE.lo ta_CDLHIKKAKE.c\n",
            " gcc -DHAVE_CONFIG_H -I. -I../../include -I../ta_common/ -g -O2 -MT ta_CDLHIKKAKE.lo -MD -MP -MF .deps/ta_CDLHIKKAKE.Tpo -c ta_CDLHIKKAKE.c  -fPIC -DPIC -o .libs/ta_CDLHIKKAKE.o\n",
            " gcc -DHAVE_CONFIG_H -I. -I../../include -I../ta_common/ -g -O2 -MT ta_CDLHIKKAKE.lo -MD -MP -MF .deps/ta_CDLHIKKAKE.Tpo -c ta_CDLHIKKAKE.c -o ta_CDLHIKKAKE.o >/dev/null 2>&1\n",
            "mv -f .deps/ta_CDLHIKKAKE.Tpo .deps/ta_CDLHIKKAKE.Plo\n",
            "/bin/bash ../../libtool --tag=CC   --mode=compile gcc -DHAVE_CONFIG_H -I. -I../../include  -I../ta_common/   -g -O2 -MT ta_CDLHIKKAKEMOD.lo -MD -MP -MF .deps/ta_CDLHIKKAKEMOD.Tpo -c -o ta_CDLHIKKAKEMOD.lo ta_CDLHIKKAKEMOD.c\n",
            " gcc -DHAVE_CONFIG_H -I. -I../../include -I../ta_common/ -g -O2 -MT ta_CDLHIKKAKEMOD.lo -MD -MP -MF .deps/ta_CDLHIKKAKEMOD.Tpo -c ta_CDLHIKKAKEMOD.c  -fPIC -DPIC -o .libs/ta_CDLHIKKAKEMOD.o\n",
            " gcc -DHAVE_CONFIG_H -I. -I../../include -I../ta_common/ -g -O2 -MT ta_CDLHIKKAKEMOD.lo -MD -MP -MF .deps/ta_CDLHIKKAKEMOD.Tpo -c ta_CDLHIKKAKEMOD.c -o ta_CDLHIKKAKEMOD.o >/dev/null 2>&1\n",
            "mv -f .deps/ta_CDLHIKKAKEMOD.Tpo .deps/ta_CDLHIKKAKEMOD.Plo\n",
            "/bin/bash ../../libtool --tag=CC   --mode=compile gcc -DHAVE_CONFIG_H -I. -I../../include  -I../ta_common/   -g -O2 -MT ta_CDLHOMINGPIGEON.lo -MD -MP -MF .deps/ta_CDLHOMINGPIGEON.Tpo -c -o ta_CDLHOMINGPIGEON.lo ta_CDLHOMINGPIGEON.c\n",
            " gcc -DHAVE_CONFIG_H -I. -I../../include -I../ta_common/ -g -O2 -MT ta_CDLHOMINGPIGEON.lo -MD -MP -MF .deps/ta_CDLHOMINGPIGEON.Tpo -c ta_CDLHOMINGPIGEON.c  -fPIC -DPIC -o .libs/ta_CDLHOMINGPIGEON.o\n",
            " gcc -DHAVE_CONFIG_H -I. -I../../include -I../ta_common/ -g -O2 -MT ta_CDLHOMINGPIGEON.lo -MD -MP -MF .deps/ta_CDLHOMINGPIGEON.Tpo -c ta_CDLHOMINGPIGEON.c -o ta_CDLHOMINGPIGEON.o >/dev/null 2>&1\n",
            "mv -f .deps/ta_CDLHOMINGPIGEON.Tpo .deps/ta_CDLHOMINGPIGEON.Plo\n",
            "/bin/bash ../../libtool --tag=CC   --mode=compile gcc -DHAVE_CONFIG_H -I. -I../../include  -I../ta_common/   -g -O2 -MT ta_CDLIDENTICAL3CROWS.lo -MD -MP -MF .deps/ta_CDLIDENTICAL3CROWS.Tpo -c -o ta_CDLIDENTICAL3CROWS.lo ta_CDLIDENTICAL3CROWS.c\n",
            " gcc -DHAVE_CONFIG_H -I. -I../../include -I../ta_common/ -g -O2 -MT ta_CDLIDENTICAL3CROWS.lo -MD -MP -MF .deps/ta_CDLIDENTICAL3CROWS.Tpo -c ta_CDLIDENTICAL3CROWS.c  -fPIC -DPIC -o .libs/ta_CDLIDENTICAL3CROWS.o\n",
            " gcc -DHAVE_CONFIG_H -I. -I../../include -I../ta_common/ -g -O2 -MT ta_CDLIDENTICAL3CROWS.lo -MD -MP -MF .deps/ta_CDLIDENTICAL3CROWS.Tpo -c ta_CDLIDENTICAL3CROWS.c -o ta_CDLIDENTICAL3CROWS.o >/dev/null 2>&1\n",
            "mv -f .deps/ta_CDLIDENTICAL3CROWS.Tpo .deps/ta_CDLIDENTICAL3CROWS.Plo\n",
            "/bin/bash ../../libtool --tag=CC   --mode=compile gcc -DHAVE_CONFIG_H -I. -I../../include  -I../ta_common/   -g -O2 -MT ta_CDLINNECK.lo -MD -MP -MF .deps/ta_CDLINNECK.Tpo -c -o ta_CDLINNECK.lo ta_CDLINNECK.c\n",
            " gcc -DHAVE_CONFIG_H -I. -I../../include -I../ta_common/ -g -O2 -MT ta_CDLINNECK.lo -MD -MP -MF .deps/ta_CDLINNECK.Tpo -c ta_CDLINNECK.c  -fPIC -DPIC -o .libs/ta_CDLINNECK.o\n",
            " gcc -DHAVE_CONFIG_H -I. -I../../include -I../ta_common/ -g -O2 -MT ta_CDLINNECK.lo -MD -MP -MF .deps/ta_CDLINNECK.Tpo -c ta_CDLINNECK.c -o ta_CDLINNECK.o >/dev/null 2>&1\n",
            "mv -f .deps/ta_CDLINNECK.Tpo .deps/ta_CDLINNECK.Plo\n",
            "/bin/bash ../../libtool --tag=CC   --mode=compile gcc -DHAVE_CONFIG_H -I. -I../../include  -I../ta_common/   -g -O2 -MT ta_CDLINVERTEDHAMMER.lo -MD -MP -MF .deps/ta_CDLINVERTEDHAMMER.Tpo -c -o ta_CDLINVERTEDHAMMER.lo ta_CDLINVERTEDHAMMER.c\n",
            " gcc -DHAVE_CONFIG_H -I. -I../../include -I../ta_common/ -g -O2 -MT ta_CDLINVERTEDHAMMER.lo -MD -MP -MF .deps/ta_CDLINVERTEDHAMMER.Tpo -c ta_CDLINVERTEDHAMMER.c  -fPIC -DPIC -o .libs/ta_CDLINVERTEDHAMMER.o\n",
            " gcc -DHAVE_CONFIG_H -I. -I../../include -I../ta_common/ -g -O2 -MT ta_CDLINVERTEDHAMMER.lo -MD -MP -MF .deps/ta_CDLINVERTEDHAMMER.Tpo -c ta_CDLINVERTEDHAMMER.c -o ta_CDLINVERTEDHAMMER.o >/dev/null 2>&1\n",
            "mv -f .deps/ta_CDLINVERTEDHAMMER.Tpo .deps/ta_CDLINVERTEDHAMMER.Plo\n",
            "/bin/bash ../../libtool --tag=CC   --mode=compile gcc -DHAVE_CONFIG_H -I. -I../../include  -I../ta_common/   -g -O2 -MT ta_CDLKICKING.lo -MD -MP -MF .deps/ta_CDLKICKING.Tpo -c -o ta_CDLKICKING.lo ta_CDLKICKING.c\n",
            " gcc -DHAVE_CONFIG_H -I. -I../../include -I../ta_common/ -g -O2 -MT ta_CDLKICKING.lo -MD -MP -MF .deps/ta_CDLKICKING.Tpo -c ta_CDLKICKING.c  -fPIC -DPIC -o .libs/ta_CDLKICKING.o\n",
            " gcc -DHAVE_CONFIG_H -I. -I../../include -I../ta_common/ -g -O2 -MT ta_CDLKICKING.lo -MD -MP -MF .deps/ta_CDLKICKING.Tpo -c ta_CDLKICKING.c -o ta_CDLKICKING.o >/dev/null 2>&1\n",
            "mv -f .deps/ta_CDLKICKING.Tpo .deps/ta_CDLKICKING.Plo\n",
            "/bin/bash ../../libtool --tag=CC   --mode=compile gcc -DHAVE_CONFIG_H -I. -I../../include  -I../ta_common/   -g -O2 -MT ta_CDLKICKINGBYLENGTH.lo -MD -MP -MF .deps/ta_CDLKICKINGBYLENGTH.Tpo -c -o ta_CDLKICKINGBYLENGTH.lo ta_CDLKICKINGBYLENGTH.c\n",
            " gcc -DHAVE_CONFIG_H -I. -I../../include -I../ta_common/ -g -O2 -MT ta_CDLKICKINGBYLENGTH.lo -MD -MP -MF .deps/ta_CDLKICKINGBYLENGTH.Tpo -c ta_CDLKICKINGBYLENGTH.c  -fPIC -DPIC -o .libs/ta_CDLKICKINGBYLENGTH.o\n",
            " gcc -DHAVE_CONFIG_H -I. -I../../include -I../ta_common/ -g -O2 -MT ta_CDLKICKINGBYLENGTH.lo -MD -MP -MF .deps/ta_CDLKICKINGBYLENGTH.Tpo -c ta_CDLKICKINGBYLENGTH.c -o ta_CDLKICKINGBYLENGTH.o >/dev/null 2>&1\n",
            "mv -f .deps/ta_CDLKICKINGBYLENGTH.Tpo .deps/ta_CDLKICKINGBYLENGTH.Plo\n",
            "/bin/bash ../../libtool --tag=CC   --mode=compile gcc -DHAVE_CONFIG_H -I. -I../../include  -I../ta_common/   -g -O2 -MT ta_CDLLADDERBOTTOM.lo -MD -MP -MF .deps/ta_CDLLADDERBOTTOM.Tpo -c -o ta_CDLLADDERBOTTOM.lo ta_CDLLADDERBOTTOM.c\n",
            " gcc -DHAVE_CONFIG_H -I. -I../../include -I../ta_common/ -g -O2 -MT ta_CDLLADDERBOTTOM.lo -MD -MP -MF .deps/ta_CDLLADDERBOTTOM.Tpo -c ta_CDLLADDERBOTTOM.c  -fPIC -DPIC -o .libs/ta_CDLLADDERBOTTOM.o\n",
            " gcc -DHAVE_CONFIG_H -I. -I../../include -I../ta_common/ -g -O2 -MT ta_CDLLADDERBOTTOM.lo -MD -MP -MF .deps/ta_CDLLADDERBOTTOM.Tpo -c ta_CDLLADDERBOTTOM.c -o ta_CDLLADDERBOTTOM.o >/dev/null 2>&1\n",
            "mv -f .deps/ta_CDLLADDERBOTTOM.Tpo .deps/ta_CDLLADDERBOTTOM.Plo\n",
            "/bin/bash ../../libtool --tag=CC   --mode=compile gcc -DHAVE_CONFIG_H -I. -I../../include  -I../ta_common/   -g -O2 -MT ta_CDLLONGLEGGEDDOJI.lo -MD -MP -MF .deps/ta_CDLLONGLEGGEDDOJI.Tpo -c -o ta_CDLLONGLEGGEDDOJI.lo ta_CDLLONGLEGGEDDOJI.c\n",
            " gcc -DHAVE_CONFIG_H -I. -I../../include -I../ta_common/ -g -O2 -MT ta_CDLLONGLEGGEDDOJI.lo -MD -MP -MF .deps/ta_CDLLONGLEGGEDDOJI.Tpo -c ta_CDLLONGLEGGEDDOJI.c  -fPIC -DPIC -o .libs/ta_CDLLONGLEGGEDDOJI.o\n",
            " gcc -DHAVE_CONFIG_H -I. -I../../include -I../ta_common/ -g -O2 -MT ta_CDLLONGLEGGEDDOJI.lo -MD -MP -MF .deps/ta_CDLLONGLEGGEDDOJI.Tpo -c ta_CDLLONGLEGGEDDOJI.c -o ta_CDLLONGLEGGEDDOJI.o >/dev/null 2>&1\n",
            "mv -f .deps/ta_CDLLONGLEGGEDDOJI.Tpo .deps/ta_CDLLONGLEGGEDDOJI.Plo\n",
            "/bin/bash ../../libtool --tag=CC   --mode=compile gcc -DHAVE_CONFIG_H -I. -I../../include  -I../ta_common/   -g -O2 -MT ta_CDLLONGLINE.lo -MD -MP -MF .deps/ta_CDLLONGLINE.Tpo -c -o ta_CDLLONGLINE.lo ta_CDLLONGLINE.c\n",
            " gcc -DHAVE_CONFIG_H -I. -I../../include -I../ta_common/ -g -O2 -MT ta_CDLLONGLINE.lo -MD -MP -MF .deps/ta_CDLLONGLINE.Tpo -c ta_CDLLONGLINE.c  -fPIC -DPIC -o .libs/ta_CDLLONGLINE.o\n",
            " gcc -DHAVE_CONFIG_H -I. -I../../include -I../ta_common/ -g -O2 -MT ta_CDLLONGLINE.lo -MD -MP -MF .deps/ta_CDLLONGLINE.Tpo -c ta_CDLLONGLINE.c -o ta_CDLLONGLINE.o >/dev/null 2>&1\n",
            "mv -f .deps/ta_CDLLONGLINE.Tpo .deps/ta_CDLLONGLINE.Plo\n",
            "/bin/bash ../../libtool --tag=CC   --mode=compile gcc -DHAVE_CONFIG_H -I. -I../../include  -I../ta_common/   -g -O2 -MT ta_CDLMARUBOZU.lo -MD -MP -MF .deps/ta_CDLMARUBOZU.Tpo -c -o ta_CDLMARUBOZU.lo ta_CDLMARUBOZU.c\n",
            " gcc -DHAVE_CONFIG_H -I. -I../../include -I../ta_common/ -g -O2 -MT ta_CDLMARUBOZU.lo -MD -MP -MF .deps/ta_CDLMARUBOZU.Tpo -c ta_CDLMARUBOZU.c  -fPIC -DPIC -o .libs/ta_CDLMARUBOZU.o\n",
            " gcc -DHAVE_CONFIG_H -I. -I../../include -I../ta_common/ -g -O2 -MT ta_CDLMARUBOZU.lo -MD -MP -MF .deps/ta_CDLMARUBOZU.Tpo -c ta_CDLMARUBOZU.c -o ta_CDLMARUBOZU.o >/dev/null 2>&1\n",
            "mv -f .deps/ta_CDLMARUBOZU.Tpo .deps/ta_CDLMARUBOZU.Plo\n",
            "/bin/bash ../../libtool --tag=CC   --mode=compile gcc -DHAVE_CONFIG_H -I. -I../../include  -I../ta_common/   -g -O2 -MT ta_CDLMATCHINGLOW.lo -MD -MP -MF .deps/ta_CDLMATCHINGLOW.Tpo -c -o ta_CDLMATCHINGLOW.lo ta_CDLMATCHINGLOW.c\n",
            " gcc -DHAVE_CONFIG_H -I. -I../../include -I../ta_common/ -g -O2 -MT ta_CDLMATCHINGLOW.lo -MD -MP -MF .deps/ta_CDLMATCHINGLOW.Tpo -c ta_CDLMATCHINGLOW.c  -fPIC -DPIC -o .libs/ta_CDLMATCHINGLOW.o\n",
            " gcc -DHAVE_CONFIG_H -I. -I../../include -I../ta_common/ -g -O2 -MT ta_CDLMATCHINGLOW.lo -MD -MP -MF .deps/ta_CDLMATCHINGLOW.Tpo -c ta_CDLMATCHINGLOW.c -o ta_CDLMATCHINGLOW.o >/dev/null 2>&1\n",
            "mv -f .deps/ta_CDLMATCHINGLOW.Tpo .deps/ta_CDLMATCHINGLOW.Plo\n",
            "/bin/bash ../../libtool --tag=CC   --mode=compile gcc -DHAVE_CONFIG_H -I. -I../../include  -I../ta_common/   -g -O2 -MT ta_CDLMATHOLD.lo -MD -MP -MF .deps/ta_CDLMATHOLD.Tpo -c -o ta_CDLMATHOLD.lo ta_CDLMATHOLD.c\n",
            " gcc -DHAVE_CONFIG_H -I. -I../../include -I../ta_common/ -g -O2 -MT ta_CDLMATHOLD.lo -MD -MP -MF .deps/ta_CDLMATHOLD.Tpo -c ta_CDLMATHOLD.c  -fPIC -DPIC -o .libs/ta_CDLMATHOLD.o\n",
            " gcc -DHAVE_CONFIG_H -I. -I../../include -I../ta_common/ -g -O2 -MT ta_CDLMATHOLD.lo -MD -MP -MF .deps/ta_CDLMATHOLD.Tpo -c ta_CDLMATHOLD.c -o ta_CDLMATHOLD.o >/dev/null 2>&1\n",
            "mv -f .deps/ta_CDLMATHOLD.Tpo .deps/ta_CDLMATHOLD.Plo\n",
            "/bin/bash ../../libtool --tag=CC   --mode=compile gcc -DHAVE_CONFIG_H -I. -I../../include  -I../ta_common/   -g -O2 -MT ta_CDLMORNINGDOJISTAR.lo -MD -MP -MF .deps/ta_CDLMORNINGDOJISTAR.Tpo -c -o ta_CDLMORNINGDOJISTAR.lo ta_CDLMORNINGDOJISTAR.c\n",
            " gcc -DHAVE_CONFIG_H -I. -I../../include -I../ta_common/ -g -O2 -MT ta_CDLMORNINGDOJISTAR.lo -MD -MP -MF .deps/ta_CDLMORNINGDOJISTAR.Tpo -c ta_CDLMORNINGDOJISTAR.c  -fPIC -DPIC -o .libs/ta_CDLMORNINGDOJISTAR.o\n",
            " gcc -DHAVE_CONFIG_H -I. -I../../include -I../ta_common/ -g -O2 -MT ta_CDLMORNINGDOJISTAR.lo -MD -MP -MF .deps/ta_CDLMORNINGDOJISTAR.Tpo -c ta_CDLMORNINGDOJISTAR.c -o ta_CDLMORNINGDOJISTAR.o >/dev/null 2>&1\n",
            "mv -f .deps/ta_CDLMORNINGDOJISTAR.Tpo .deps/ta_CDLMORNINGDOJISTAR.Plo\n",
            "/bin/bash ../../libtool --tag=CC   --mode=compile gcc -DHAVE_CONFIG_H -I. -I../../include  -I../ta_common/   -g -O2 -MT ta_CDLMORNINGSTAR.lo -MD -MP -MF .deps/ta_CDLMORNINGSTAR.Tpo -c -o ta_CDLMORNINGSTAR.lo ta_CDLMORNINGSTAR.c\n",
            " gcc -DHAVE_CONFIG_H -I. -I../../include -I../ta_common/ -g -O2 -MT ta_CDLMORNINGSTAR.lo -MD -MP -MF .deps/ta_CDLMORNINGSTAR.Tpo -c ta_CDLMORNINGSTAR.c  -fPIC -DPIC -o .libs/ta_CDLMORNINGSTAR.o\n",
            " gcc -DHAVE_CONFIG_H -I. -I../../include -I../ta_common/ -g -O2 -MT ta_CDLMORNINGSTAR.lo -MD -MP -MF .deps/ta_CDLMORNINGSTAR.Tpo -c ta_CDLMORNINGSTAR.c -o ta_CDLMORNINGSTAR.o >/dev/null 2>&1\n",
            "mv -f .deps/ta_CDLMORNINGSTAR.Tpo .deps/ta_CDLMORNINGSTAR.Plo\n",
            "/bin/bash ../../libtool --tag=CC   --mode=compile gcc -DHAVE_CONFIG_H -I. -I../../include  -I../ta_common/   -g -O2 -MT ta_CDLONNECK.lo -MD -MP -MF .deps/ta_CDLONNECK.Tpo -c -o ta_CDLONNECK.lo ta_CDLONNECK.c\n",
            " gcc -DHAVE_CONFIG_H -I. -I../../include -I../ta_common/ -g -O2 -MT ta_CDLONNECK.lo -MD -MP -MF .deps/ta_CDLONNECK.Tpo -c ta_CDLONNECK.c  -fPIC -DPIC -o .libs/ta_CDLONNECK.o\n",
            " gcc -DHAVE_CONFIG_H -I. -I../../include -I../ta_common/ -g -O2 -MT ta_CDLONNECK.lo -MD -MP -MF .deps/ta_CDLONNECK.Tpo -c ta_CDLONNECK.c -o ta_CDLONNECK.o >/dev/null 2>&1\n",
            "mv -f .deps/ta_CDLONNECK.Tpo .deps/ta_CDLONNECK.Plo\n",
            "/bin/bash ../../libtool --tag=CC   --mode=compile gcc -DHAVE_CONFIG_H -I. -I../../include  -I../ta_common/   -g -O2 -MT ta_CDLPIERCING.lo -MD -MP -MF .deps/ta_CDLPIERCING.Tpo -c -o ta_CDLPIERCING.lo ta_CDLPIERCING.c\n",
            " gcc -DHAVE_CONFIG_H -I. -I../../include -I../ta_common/ -g -O2 -MT ta_CDLPIERCING.lo -MD -MP -MF .deps/ta_CDLPIERCING.Tpo -c ta_CDLPIERCING.c  -fPIC -DPIC -o .libs/ta_CDLPIERCING.o\n",
            " gcc -DHAVE_CONFIG_H -I. -I../../include -I../ta_common/ -g -O2 -MT ta_CDLPIERCING.lo -MD -MP -MF .deps/ta_CDLPIERCING.Tpo -c ta_CDLPIERCING.c -o ta_CDLPIERCING.o >/dev/null 2>&1\n",
            "mv -f .deps/ta_CDLPIERCING.Tpo .deps/ta_CDLPIERCING.Plo\n",
            "/bin/bash ../../libtool --tag=CC   --mode=compile gcc -DHAVE_CONFIG_H -I. -I../../include  -I../ta_common/   -g -O2 -MT ta_CDLRICKSHAWMAN.lo -MD -MP -MF .deps/ta_CDLRICKSHAWMAN.Tpo -c -o ta_CDLRICKSHAWMAN.lo ta_CDLRICKSHAWMAN.c\n",
            " gcc -DHAVE_CONFIG_H -I. -I../../include -I../ta_common/ -g -O2 -MT ta_CDLRICKSHAWMAN.lo -MD -MP -MF .deps/ta_CDLRICKSHAWMAN.Tpo -c ta_CDLRICKSHAWMAN.c  -fPIC -DPIC -o .libs/ta_CDLRICKSHAWMAN.o\n",
            " gcc -DHAVE_CONFIG_H -I. -I../../include -I../ta_common/ -g -O2 -MT ta_CDLRICKSHAWMAN.lo -MD -MP -MF .deps/ta_CDLRICKSHAWMAN.Tpo -c ta_CDLRICKSHAWMAN.c -o ta_CDLRICKSHAWMAN.o >/dev/null 2>&1\n",
            "mv -f .deps/ta_CDLRICKSHAWMAN.Tpo .deps/ta_CDLRICKSHAWMAN.Plo\n",
            "/bin/bash ../../libtool --tag=CC   --mode=compile gcc -DHAVE_CONFIG_H -I. -I../../include  -I../ta_common/   -g -O2 -MT ta_CDLRISEFALL3METHODS.lo -MD -MP -MF .deps/ta_CDLRISEFALL3METHODS.Tpo -c -o ta_CDLRISEFALL3METHODS.lo ta_CDLRISEFALL3METHODS.c\n",
            " gcc -DHAVE_CONFIG_H -I. -I../../include -I../ta_common/ -g -O2 -MT ta_CDLRISEFALL3METHODS.lo -MD -MP -MF .deps/ta_CDLRISEFALL3METHODS.Tpo -c ta_CDLRISEFALL3METHODS.c  -fPIC -DPIC -o .libs/ta_CDLRISEFALL3METHODS.o\n",
            " gcc -DHAVE_CONFIG_H -I. -I../../include -I../ta_common/ -g -O2 -MT ta_CDLRISEFALL3METHODS.lo -MD -MP -MF .deps/ta_CDLRISEFALL3METHODS.Tpo -c ta_CDLRISEFALL3METHODS.c -o ta_CDLRISEFALL3METHODS.o >/dev/null 2>&1\n",
            "mv -f .deps/ta_CDLRISEFALL3METHODS.Tpo .deps/ta_CDLRISEFALL3METHODS.Plo\n",
            "/bin/bash ../../libtool --tag=CC   --mode=compile gcc -DHAVE_CONFIG_H -I. -I../../include  -I../ta_common/   -g -O2 -MT ta_CDLSEPARATINGLINES.lo -MD -MP -MF .deps/ta_CDLSEPARATINGLINES.Tpo -c -o ta_CDLSEPARATINGLINES.lo ta_CDLSEPARATINGLINES.c\n",
            " gcc -DHAVE_CONFIG_H -I. -I../../include -I../ta_common/ -g -O2 -MT ta_CDLSEPARATINGLINES.lo -MD -MP -MF .deps/ta_CDLSEPARATINGLINES.Tpo -c ta_CDLSEPARATINGLINES.c  -fPIC -DPIC -o .libs/ta_CDLSEPARATINGLINES.o\n",
            " gcc -DHAVE_CONFIG_H -I. -I../../include -I../ta_common/ -g -O2 -MT ta_CDLSEPARATINGLINES.lo -MD -MP -MF .deps/ta_CDLSEPARATINGLINES.Tpo -c ta_CDLSEPARATINGLINES.c -o ta_CDLSEPARATINGLINES.o >/dev/null 2>&1\n",
            "mv -f .deps/ta_CDLSEPARATINGLINES.Tpo .deps/ta_CDLSEPARATINGLINES.Plo\n",
            "/bin/bash ../../libtool --tag=CC   --mode=compile gcc -DHAVE_CONFIG_H -I. -I../../include  -I../ta_common/   -g -O2 -MT ta_CDLSHOOTINGSTAR.lo -MD -MP -MF .deps/ta_CDLSHOOTINGSTAR.Tpo -c -o ta_CDLSHOOTINGSTAR.lo ta_CDLSHOOTINGSTAR.c\n",
            " gcc -DHAVE_CONFIG_H -I. -I../../include -I../ta_common/ -g -O2 -MT ta_CDLSHOOTINGSTAR.lo -MD -MP -MF .deps/ta_CDLSHOOTINGSTAR.Tpo -c ta_CDLSHOOTINGSTAR.c  -fPIC -DPIC -o .libs/ta_CDLSHOOTINGSTAR.o\n",
            " gcc -DHAVE_CONFIG_H -I. -I../../include -I../ta_common/ -g -O2 -MT ta_CDLSHOOTINGSTAR.lo -MD -MP -MF .deps/ta_CDLSHOOTINGSTAR.Tpo -c ta_CDLSHOOTINGSTAR.c -o ta_CDLSHOOTINGSTAR.o >/dev/null 2>&1\n",
            "mv -f .deps/ta_CDLSHOOTINGSTAR.Tpo .deps/ta_CDLSHOOTINGSTAR.Plo\n",
            "/bin/bash ../../libtool --tag=CC   --mode=compile gcc -DHAVE_CONFIG_H -I. -I../../include  -I../ta_common/   -g -O2 -MT ta_CDLSHORTLINE.lo -MD -MP -MF .deps/ta_CDLSHORTLINE.Tpo -c -o ta_CDLSHORTLINE.lo ta_CDLSHORTLINE.c\n",
            " gcc -DHAVE_CONFIG_H -I. -I../../include -I../ta_common/ -g -O2 -MT ta_CDLSHORTLINE.lo -MD -MP -MF .deps/ta_CDLSHORTLINE.Tpo -c ta_CDLSHORTLINE.c  -fPIC -DPIC -o .libs/ta_CDLSHORTLINE.o\n",
            " gcc -DHAVE_CONFIG_H -I. -I../../include -I../ta_common/ -g -O2 -MT ta_CDLSHORTLINE.lo -MD -MP -MF .deps/ta_CDLSHORTLINE.Tpo -c ta_CDLSHORTLINE.c -o ta_CDLSHORTLINE.o >/dev/null 2>&1\n",
            "mv -f .deps/ta_CDLSHORTLINE.Tpo .deps/ta_CDLSHORTLINE.Plo\n",
            "/bin/bash ../../libtool --tag=CC   --mode=compile gcc -DHAVE_CONFIG_H -I. -I../../include  -I../ta_common/   -g -O2 -MT ta_CDLSPINNINGTOP.lo -MD -MP -MF .deps/ta_CDLSPINNINGTOP.Tpo -c -o ta_CDLSPINNINGTOP.lo ta_CDLSPINNINGTOP.c\n",
            " gcc -DHAVE_CONFIG_H -I. -I../../include -I../ta_common/ -g -O2 -MT ta_CDLSPINNINGTOP.lo -MD -MP -MF .deps/ta_CDLSPINNINGTOP.Tpo -c ta_CDLSPINNINGTOP.c  -fPIC -DPIC -o .libs/ta_CDLSPINNINGTOP.o\n",
            " gcc -DHAVE_CONFIG_H -I. -I../../include -I../ta_common/ -g -O2 -MT ta_CDLSPINNINGTOP.lo -MD -MP -MF .deps/ta_CDLSPINNINGTOP.Tpo -c ta_CDLSPINNINGTOP.c -o ta_CDLSPINNINGTOP.o >/dev/null 2>&1\n",
            "mv -f .deps/ta_CDLSPINNINGTOP.Tpo .deps/ta_CDLSPINNINGTOP.Plo\n",
            "/bin/bash ../../libtool --tag=CC   --mode=compile gcc -DHAVE_CONFIG_H -I. -I../../include  -I../ta_common/   -g -O2 -MT ta_CDLSTALLEDPATTERN.lo -MD -MP -MF .deps/ta_CDLSTALLEDPATTERN.Tpo -c -o ta_CDLSTALLEDPATTERN.lo ta_CDLSTALLEDPATTERN.c\n",
            " gcc -DHAVE_CONFIG_H -I. -I../../include -I../ta_common/ -g -O2 -MT ta_CDLSTALLEDPATTERN.lo -MD -MP -MF .deps/ta_CDLSTALLEDPATTERN.Tpo -c ta_CDLSTALLEDPATTERN.c  -fPIC -DPIC -o .libs/ta_CDLSTALLEDPATTERN.o\n",
            " gcc -DHAVE_CONFIG_H -I. -I../../include -I../ta_common/ -g -O2 -MT ta_CDLSTALLEDPATTERN.lo -MD -MP -MF .deps/ta_CDLSTALLEDPATTERN.Tpo -c ta_CDLSTALLEDPATTERN.c -o ta_CDLSTALLEDPATTERN.o >/dev/null 2>&1\n",
            "mv -f .deps/ta_CDLSTALLEDPATTERN.Tpo .deps/ta_CDLSTALLEDPATTERN.Plo\n",
            "/bin/bash ../../libtool --tag=CC   --mode=compile gcc -DHAVE_CONFIG_H -I. -I../../include  -I../ta_common/   -g -O2 -MT ta_CDLSTICKSANDWICH.lo -MD -MP -MF .deps/ta_CDLSTICKSANDWICH.Tpo -c -o ta_CDLSTICKSANDWICH.lo ta_CDLSTICKSANDWICH.c\n",
            " gcc -DHAVE_CONFIG_H -I. -I../../include -I../ta_common/ -g -O2 -MT ta_CDLSTICKSANDWICH.lo -MD -MP -MF .deps/ta_CDLSTICKSANDWICH.Tpo -c ta_CDLSTICKSANDWICH.c  -fPIC -DPIC -o .libs/ta_CDLSTICKSANDWICH.o\n",
            " gcc -DHAVE_CONFIG_H -I. -I../../include -I../ta_common/ -g -O2 -MT ta_CDLSTICKSANDWICH.lo -MD -MP -MF .deps/ta_CDLSTICKSANDWICH.Tpo -c ta_CDLSTICKSANDWICH.c -o ta_CDLSTICKSANDWICH.o >/dev/null 2>&1\n",
            "mv -f .deps/ta_CDLSTICKSANDWICH.Tpo .deps/ta_CDLSTICKSANDWICH.Plo\n",
            "/bin/bash ../../libtool --tag=CC   --mode=compile gcc -DHAVE_CONFIG_H -I. -I../../include  -I../ta_common/   -g -O2 -MT ta_CDLTAKURI.lo -MD -MP -MF .deps/ta_CDLTAKURI.Tpo -c -o ta_CDLTAKURI.lo ta_CDLTAKURI.c\n",
            " gcc -DHAVE_CONFIG_H -I. -I../../include -I../ta_common/ -g -O2 -MT ta_CDLTAKURI.lo -MD -MP -MF .deps/ta_CDLTAKURI.Tpo -c ta_CDLTAKURI.c  -fPIC -DPIC -o .libs/ta_CDLTAKURI.o\n",
            " gcc -DHAVE_CONFIG_H -I. -I../../include -I../ta_common/ -g -O2 -MT ta_CDLTAKURI.lo -MD -MP -MF .deps/ta_CDLTAKURI.Tpo -c ta_CDLTAKURI.c -o ta_CDLTAKURI.o >/dev/null 2>&1\n",
            "mv -f .deps/ta_CDLTAKURI.Tpo .deps/ta_CDLTAKURI.Plo\n",
            "/bin/bash ../../libtool --tag=CC   --mode=compile gcc -DHAVE_CONFIG_H -I. -I../../include  -I../ta_common/   -g -O2 -MT ta_CDLTASUKIGAP.lo -MD -MP -MF .deps/ta_CDLTASUKIGAP.Tpo -c -o ta_CDLTASUKIGAP.lo ta_CDLTASUKIGAP.c\n",
            " gcc -DHAVE_CONFIG_H -I. -I../../include -I../ta_common/ -g -O2 -MT ta_CDLTASUKIGAP.lo -MD -MP -MF .deps/ta_CDLTASUKIGAP.Tpo -c ta_CDLTASUKIGAP.c  -fPIC -DPIC -o .libs/ta_CDLTASUKIGAP.o\n",
            " gcc -DHAVE_CONFIG_H -I. -I../../include -I../ta_common/ -g -O2 -MT ta_CDLTASUKIGAP.lo -MD -MP -MF .deps/ta_CDLTASUKIGAP.Tpo -c ta_CDLTASUKIGAP.c -o ta_CDLTASUKIGAP.o >/dev/null 2>&1\n",
            "mv -f .deps/ta_CDLTASUKIGAP.Tpo .deps/ta_CDLTASUKIGAP.Plo\n",
            "/bin/bash ../../libtool --tag=CC   --mode=compile gcc -DHAVE_CONFIG_H -I. -I../../include  -I../ta_common/   -g -O2 -MT ta_CDLTHRUSTING.lo -MD -MP -MF .deps/ta_CDLTHRUSTING.Tpo -c -o ta_CDLTHRUSTING.lo ta_CDLTHRUSTING.c\n",
            " gcc -DHAVE_CONFIG_H -I. -I../../include -I../ta_common/ -g -O2 -MT ta_CDLTHRUSTING.lo -MD -MP -MF .deps/ta_CDLTHRUSTING.Tpo -c ta_CDLTHRUSTING.c  -fPIC -DPIC -o .libs/ta_CDLTHRUSTING.o\n",
            " gcc -DHAVE_CONFIG_H -I. -I../../include -I../ta_common/ -g -O2 -MT ta_CDLTHRUSTING.lo -MD -MP -MF .deps/ta_CDLTHRUSTING.Tpo -c ta_CDLTHRUSTING.c -o ta_CDLTHRUSTING.o >/dev/null 2>&1\n",
            "mv -f .deps/ta_CDLTHRUSTING.Tpo .deps/ta_CDLTHRUSTING.Plo\n",
            "/bin/bash ../../libtool --tag=CC   --mode=compile gcc -DHAVE_CONFIG_H -I. -I../../include  -I../ta_common/   -g -O2 -MT ta_CDLTRISTAR.lo -MD -MP -MF .deps/ta_CDLTRISTAR.Tpo -c -o ta_CDLTRISTAR.lo ta_CDLTRISTAR.c\n",
            " gcc -DHAVE_CONFIG_H -I. -I../../include -I../ta_common/ -g -O2 -MT ta_CDLTRISTAR.lo -MD -MP -MF .deps/ta_CDLTRISTAR.Tpo -c ta_CDLTRISTAR.c  -fPIC -DPIC -o .libs/ta_CDLTRISTAR.o\n",
            " gcc -DHAVE_CONFIG_H -I. -I../../include -I../ta_common/ -g -O2 -MT ta_CDLTRISTAR.lo -MD -MP -MF .deps/ta_CDLTRISTAR.Tpo -c ta_CDLTRISTAR.c -o ta_CDLTRISTAR.o >/dev/null 2>&1\n",
            "mv -f .deps/ta_CDLTRISTAR.Tpo .deps/ta_CDLTRISTAR.Plo\n",
            "/bin/bash ../../libtool --tag=CC   --mode=compile gcc -DHAVE_CONFIG_H -I. -I../../include  -I../ta_common/   -g -O2 -MT ta_CDLUNIQUE3RIVER.lo -MD -MP -MF .deps/ta_CDLUNIQUE3RIVER.Tpo -c -o ta_CDLUNIQUE3RIVER.lo ta_CDLUNIQUE3RIVER.c\n",
            " gcc -DHAVE_CONFIG_H -I. -I../../include -I../ta_common/ -g -O2 -MT ta_CDLUNIQUE3RIVER.lo -MD -MP -MF .deps/ta_CDLUNIQUE3RIVER.Tpo -c ta_CDLUNIQUE3RIVER.c  -fPIC -DPIC -o .libs/ta_CDLUNIQUE3RIVER.o\n",
            " gcc -DHAVE_CONFIG_H -I. -I../../include -I../ta_common/ -g -O2 -MT ta_CDLUNIQUE3RIVER.lo -MD -MP -MF .deps/ta_CDLUNIQUE3RIVER.Tpo -c ta_CDLUNIQUE3RIVER.c -o ta_CDLUNIQUE3RIVER.o >/dev/null 2>&1\n",
            "mv -f .deps/ta_CDLUNIQUE3RIVER.Tpo .deps/ta_CDLUNIQUE3RIVER.Plo\n",
            "/bin/bash ../../libtool --tag=CC   --mode=compile gcc -DHAVE_CONFIG_H -I. -I../../include  -I../ta_common/   -g -O2 -MT ta_CDLUPSIDEGAP2CROWS.lo -MD -MP -MF .deps/ta_CDLUPSIDEGAP2CROWS.Tpo -c -o ta_CDLUPSIDEGAP2CROWS.lo ta_CDLUPSIDEGAP2CROWS.c\n",
            " gcc -DHAVE_CONFIG_H -I. -I../../include -I../ta_common/ -g -O2 -MT ta_CDLUPSIDEGAP2CROWS.lo -MD -MP -MF .deps/ta_CDLUPSIDEGAP2CROWS.Tpo -c ta_CDLUPSIDEGAP2CROWS.c  -fPIC -DPIC -o .libs/ta_CDLUPSIDEGAP2CROWS.o\n",
            " gcc -DHAVE_CONFIG_H -I. -I../../include -I../ta_common/ -g -O2 -MT ta_CDLUPSIDEGAP2CROWS.lo -MD -MP -MF .deps/ta_CDLUPSIDEGAP2CROWS.Tpo -c ta_CDLUPSIDEGAP2CROWS.c -o ta_CDLUPSIDEGAP2CROWS.o >/dev/null 2>&1\n",
            "mv -f .deps/ta_CDLUPSIDEGAP2CROWS.Tpo .deps/ta_CDLUPSIDEGAP2CROWS.Plo\n",
            "/bin/bash ../../libtool --tag=CC   --mode=compile gcc -DHAVE_CONFIG_H -I. -I../../include  -I../ta_common/   -g -O2 -MT ta_CDLXSIDEGAP3METHODS.lo -MD -MP -MF .deps/ta_CDLXSIDEGAP3METHODS.Tpo -c -o ta_CDLXSIDEGAP3METHODS.lo ta_CDLXSIDEGAP3METHODS.c\n",
            " gcc -DHAVE_CONFIG_H -I. -I../../include -I../ta_common/ -g -O2 -MT ta_CDLXSIDEGAP3METHODS.lo -MD -MP -MF .deps/ta_CDLXSIDEGAP3METHODS.Tpo -c ta_CDLXSIDEGAP3METHODS.c  -fPIC -DPIC -o .libs/ta_CDLXSIDEGAP3METHODS.o\n",
            " gcc -DHAVE_CONFIG_H -I. -I../../include -I../ta_common/ -g -O2 -MT ta_CDLXSIDEGAP3METHODS.lo -MD -MP -MF .deps/ta_CDLXSIDEGAP3METHODS.Tpo -c ta_CDLXSIDEGAP3METHODS.c -o ta_CDLXSIDEGAP3METHODS.o >/dev/null 2>&1\n",
            "mv -f .deps/ta_CDLXSIDEGAP3METHODS.Tpo .deps/ta_CDLXSIDEGAP3METHODS.Plo\n",
            "/bin/bash ../../libtool --tag=CC   --mode=compile gcc -DHAVE_CONFIG_H -I. -I../../include  -I../ta_common/   -g -O2 -MT ta_CEIL.lo -MD -MP -MF .deps/ta_CEIL.Tpo -c -o ta_CEIL.lo ta_CEIL.c\n",
            " gcc -DHAVE_CONFIG_H -I. -I../../include -I../ta_common/ -g -O2 -MT ta_CEIL.lo -MD -MP -MF .deps/ta_CEIL.Tpo -c ta_CEIL.c  -fPIC -DPIC -o .libs/ta_CEIL.o\n",
            " gcc -DHAVE_CONFIG_H -I. -I../../include -I../ta_common/ -g -O2 -MT ta_CEIL.lo -MD -MP -MF .deps/ta_CEIL.Tpo -c ta_CEIL.c -o ta_CEIL.o >/dev/null 2>&1\n",
            "mv -f .deps/ta_CEIL.Tpo .deps/ta_CEIL.Plo\n",
            "/bin/bash ../../libtool --tag=CC   --mode=compile gcc -DHAVE_CONFIG_H -I. -I../../include  -I../ta_common/   -g -O2 -MT ta_CMO.lo -MD -MP -MF .deps/ta_CMO.Tpo -c -o ta_CMO.lo ta_CMO.c\n",
            " gcc -DHAVE_CONFIG_H -I. -I../../include -I../ta_common/ -g -O2 -MT ta_CMO.lo -MD -MP -MF .deps/ta_CMO.Tpo -c ta_CMO.c  -fPIC -DPIC -o .libs/ta_CMO.o\n",
            " gcc -DHAVE_CONFIG_H -I. -I../../include -I../ta_common/ -g -O2 -MT ta_CMO.lo -MD -MP -MF .deps/ta_CMO.Tpo -c ta_CMO.c -o ta_CMO.o >/dev/null 2>&1\n",
            "mv -f .deps/ta_CMO.Tpo .deps/ta_CMO.Plo\n",
            "/bin/bash ../../libtool --tag=CC   --mode=compile gcc -DHAVE_CONFIG_H -I. -I../../include  -I../ta_common/   -g -O2 -MT ta_CORREL.lo -MD -MP -MF .deps/ta_CORREL.Tpo -c -o ta_CORREL.lo ta_CORREL.c\n",
            " gcc -DHAVE_CONFIG_H -I. -I../../include -I../ta_common/ -g -O2 -MT ta_CORREL.lo -MD -MP -MF .deps/ta_CORREL.Tpo -c ta_CORREL.c  -fPIC -DPIC -o .libs/ta_CORREL.o\n",
            " gcc -DHAVE_CONFIG_H -I. -I../../include -I../ta_common/ -g -O2 -MT ta_CORREL.lo -MD -MP -MF .deps/ta_CORREL.Tpo -c ta_CORREL.c -o ta_CORREL.o >/dev/null 2>&1\n",
            "mv -f .deps/ta_CORREL.Tpo .deps/ta_CORREL.Plo\n",
            "/bin/bash ../../libtool --tag=CC   --mode=compile gcc -DHAVE_CONFIG_H -I. -I../../include  -I../ta_common/   -g -O2 -MT ta_COS.lo -MD -MP -MF .deps/ta_COS.Tpo -c -o ta_COS.lo ta_COS.c\n",
            " gcc -DHAVE_CONFIG_H -I. -I../../include -I../ta_common/ -g -O2 -MT ta_COS.lo -MD -MP -MF .deps/ta_COS.Tpo -c ta_COS.c  -fPIC -DPIC -o .libs/ta_COS.o\n",
            " gcc -DHAVE_CONFIG_H -I. -I../../include -I../ta_common/ -g -O2 -MT ta_COS.lo -MD -MP -MF .deps/ta_COS.Tpo -c ta_COS.c -o ta_COS.o >/dev/null 2>&1\n",
            "mv -f .deps/ta_COS.Tpo .deps/ta_COS.Plo\n",
            "/bin/bash ../../libtool --tag=CC   --mode=compile gcc -DHAVE_CONFIG_H -I. -I../../include  -I../ta_common/   -g -O2 -MT ta_COSH.lo -MD -MP -MF .deps/ta_COSH.Tpo -c -o ta_COSH.lo ta_COSH.c\n",
            " gcc -DHAVE_CONFIG_H -I. -I../../include -I../ta_common/ -g -O2 -MT ta_COSH.lo -MD -MP -MF .deps/ta_COSH.Tpo -c ta_COSH.c  -fPIC -DPIC -o .libs/ta_COSH.o\n",
            " gcc -DHAVE_CONFIG_H -I. -I../../include -I../ta_common/ -g -O2 -MT ta_COSH.lo -MD -MP -MF .deps/ta_COSH.Tpo -c ta_COSH.c -o ta_COSH.o >/dev/null 2>&1\n",
            "mv -f .deps/ta_COSH.Tpo .deps/ta_COSH.Plo\n",
            "/bin/bash ../../libtool --tag=CC   --mode=compile gcc -DHAVE_CONFIG_H -I. -I../../include  -I../ta_common/   -g -O2 -MT ta_DEMA.lo -MD -MP -MF .deps/ta_DEMA.Tpo -c -o ta_DEMA.lo ta_DEMA.c\n",
            " gcc -DHAVE_CONFIG_H -I. -I../../include -I../ta_common/ -g -O2 -MT ta_DEMA.lo -MD -MP -MF .deps/ta_DEMA.Tpo -c ta_DEMA.c  -fPIC -DPIC -o .libs/ta_DEMA.o\n",
            " gcc -DHAVE_CONFIG_H -I. -I../../include -I../ta_common/ -g -O2 -MT ta_DEMA.lo -MD -MP -MF .deps/ta_DEMA.Tpo -c ta_DEMA.c -o ta_DEMA.o >/dev/null 2>&1\n",
            "mv -f .deps/ta_DEMA.Tpo .deps/ta_DEMA.Plo\n",
            "/bin/bash ../../libtool --tag=CC   --mode=compile gcc -DHAVE_CONFIG_H -I. -I../../include  -I../ta_common/   -g -O2 -MT ta_DIV.lo -MD -MP -MF .deps/ta_DIV.Tpo -c -o ta_DIV.lo ta_DIV.c\n",
            " gcc -DHAVE_CONFIG_H -I. -I../../include -I../ta_common/ -g -O2 -MT ta_DIV.lo -MD -MP -MF .deps/ta_DIV.Tpo -c ta_DIV.c  -fPIC -DPIC -o .libs/ta_DIV.o\n",
            " gcc -DHAVE_CONFIG_H -I. -I../../include -I../ta_common/ -g -O2 -MT ta_DIV.lo -MD -MP -MF .deps/ta_DIV.Tpo -c ta_DIV.c -o ta_DIV.o >/dev/null 2>&1\n",
            "mv -f .deps/ta_DIV.Tpo .deps/ta_DIV.Plo\n",
            "/bin/bash ../../libtool --tag=CC   --mode=compile gcc -DHAVE_CONFIG_H -I. -I../../include  -I../ta_common/   -g -O2 -MT ta_DX.lo -MD -MP -MF .deps/ta_DX.Tpo -c -o ta_DX.lo ta_DX.c\n",
            " gcc -DHAVE_CONFIG_H -I. -I../../include -I../ta_common/ -g -O2 -MT ta_DX.lo -MD -MP -MF .deps/ta_DX.Tpo -c ta_DX.c  -fPIC -DPIC -o .libs/ta_DX.o\n",
            " gcc -DHAVE_CONFIG_H -I. -I../../include -I../ta_common/ -g -O2 -MT ta_DX.lo -MD -MP -MF .deps/ta_DX.Tpo -c ta_DX.c -o ta_DX.o >/dev/null 2>&1\n",
            "mv -f .deps/ta_DX.Tpo .deps/ta_DX.Plo\n",
            "/bin/bash ../../libtool --tag=CC   --mode=compile gcc -DHAVE_CONFIG_H -I. -I../../include  -I../ta_common/   -g -O2 -MT ta_EMA.lo -MD -MP -MF .deps/ta_EMA.Tpo -c -o ta_EMA.lo ta_EMA.c\n",
            " gcc -DHAVE_CONFIG_H -I. -I../../include -I../ta_common/ -g -O2 -MT ta_EMA.lo -MD -MP -MF .deps/ta_EMA.Tpo -c ta_EMA.c  -fPIC -DPIC -o .libs/ta_EMA.o\n",
            " gcc -DHAVE_CONFIG_H -I. -I../../include -I../ta_common/ -g -O2 -MT ta_EMA.lo -MD -MP -MF .deps/ta_EMA.Tpo -c ta_EMA.c -o ta_EMA.o >/dev/null 2>&1\n",
            "mv -f .deps/ta_EMA.Tpo .deps/ta_EMA.Plo\n",
            "/bin/bash ../../libtool --tag=CC   --mode=compile gcc -DHAVE_CONFIG_H -I. -I../../include  -I../ta_common/   -g -O2 -MT ta_EXP.lo -MD -MP -MF .deps/ta_EXP.Tpo -c -o ta_EXP.lo ta_EXP.c\n",
            " gcc -DHAVE_CONFIG_H -I. -I../../include -I../ta_common/ -g -O2 -MT ta_EXP.lo -MD -MP -MF .deps/ta_EXP.Tpo -c ta_EXP.c  -fPIC -DPIC -o .libs/ta_EXP.o\n",
            " gcc -DHAVE_CONFIG_H -I. -I../../include -I../ta_common/ -g -O2 -MT ta_EXP.lo -MD -MP -MF .deps/ta_EXP.Tpo -c ta_EXP.c -o ta_EXP.o >/dev/null 2>&1\n",
            "mv -f .deps/ta_EXP.Tpo .deps/ta_EXP.Plo\n",
            "/bin/bash ../../libtool --tag=CC   --mode=compile gcc -DHAVE_CONFIG_H -I. -I../../include  -I../ta_common/   -g -O2 -MT ta_FLOOR.lo -MD -MP -MF .deps/ta_FLOOR.Tpo -c -o ta_FLOOR.lo ta_FLOOR.c\n",
            " gcc -DHAVE_CONFIG_H -I. -I../../include -I../ta_common/ -g -O2 -MT ta_FLOOR.lo -MD -MP -MF .deps/ta_FLOOR.Tpo -c ta_FLOOR.c  -fPIC -DPIC -o .libs/ta_FLOOR.o\n",
            " gcc -DHAVE_CONFIG_H -I. -I../../include -I../ta_common/ -g -O2 -MT ta_FLOOR.lo -MD -MP -MF .deps/ta_FLOOR.Tpo -c ta_FLOOR.c -o ta_FLOOR.o >/dev/null 2>&1\n",
            "mv -f .deps/ta_FLOOR.Tpo .deps/ta_FLOOR.Plo\n",
            "/bin/bash ../../libtool --tag=CC   --mode=compile gcc -DHAVE_CONFIG_H -I. -I../../include  -I../ta_common/   -g -O2 -MT ta_HT_DCPERIOD.lo -MD -MP -MF .deps/ta_HT_DCPERIOD.Tpo -c -o ta_HT_DCPERIOD.lo ta_HT_DCPERIOD.c\n",
            " gcc -DHAVE_CONFIG_H -I. -I../../include -I../ta_common/ -g -O2 -MT ta_HT_DCPERIOD.lo -MD -MP -MF .deps/ta_HT_DCPERIOD.Tpo -c ta_HT_DCPERIOD.c  -fPIC -DPIC -o .libs/ta_HT_DCPERIOD.o\n",
            " gcc -DHAVE_CONFIG_H -I. -I../../include -I../ta_common/ -g -O2 -MT ta_HT_DCPERIOD.lo -MD -MP -MF .deps/ta_HT_DCPERIOD.Tpo -c ta_HT_DCPERIOD.c -o ta_HT_DCPERIOD.o >/dev/null 2>&1\n",
            "mv -f .deps/ta_HT_DCPERIOD.Tpo .deps/ta_HT_DCPERIOD.Plo\n",
            "/bin/bash ../../libtool --tag=CC   --mode=compile gcc -DHAVE_CONFIG_H -I. -I../../include  -I../ta_common/   -g -O2 -MT ta_HT_DCPHASE.lo -MD -MP -MF .deps/ta_HT_DCPHASE.Tpo -c -o ta_HT_DCPHASE.lo ta_HT_DCPHASE.c\n",
            " gcc -DHAVE_CONFIG_H -I. -I../../include -I../ta_common/ -g -O2 -MT ta_HT_DCPHASE.lo -MD -MP -MF .deps/ta_HT_DCPHASE.Tpo -c ta_HT_DCPHASE.c  -fPIC -DPIC -o .libs/ta_HT_DCPHASE.o\n",
            " gcc -DHAVE_CONFIG_H -I. -I../../include -I../ta_common/ -g -O2 -MT ta_HT_DCPHASE.lo -MD -MP -MF .deps/ta_HT_DCPHASE.Tpo -c ta_HT_DCPHASE.c -o ta_HT_DCPHASE.o >/dev/null 2>&1\n",
            "mv -f .deps/ta_HT_DCPHASE.Tpo .deps/ta_HT_DCPHASE.Plo\n",
            "/bin/bash ../../libtool --tag=CC   --mode=compile gcc -DHAVE_CONFIG_H -I. -I../../include  -I../ta_common/   -g -O2 -MT ta_HT_PHASOR.lo -MD -MP -MF .deps/ta_HT_PHASOR.Tpo -c -o ta_HT_PHASOR.lo ta_HT_PHASOR.c\n",
            " gcc -DHAVE_CONFIG_H -I. -I../../include -I../ta_common/ -g -O2 -MT ta_HT_PHASOR.lo -MD -MP -MF .deps/ta_HT_PHASOR.Tpo -c ta_HT_PHASOR.c  -fPIC -DPIC -o .libs/ta_HT_PHASOR.o\n",
            " gcc -DHAVE_CONFIG_H -I. -I../../include -I../ta_common/ -g -O2 -MT ta_HT_PHASOR.lo -MD -MP -MF .deps/ta_HT_PHASOR.Tpo -c ta_HT_PHASOR.c -o ta_HT_PHASOR.o >/dev/null 2>&1\n",
            "mv -f .deps/ta_HT_PHASOR.Tpo .deps/ta_HT_PHASOR.Plo\n",
            "/bin/bash ../../libtool --tag=CC   --mode=compile gcc -DHAVE_CONFIG_H -I. -I../../include  -I../ta_common/   -g -O2 -MT ta_HT_SINE.lo -MD -MP -MF .deps/ta_HT_SINE.Tpo -c -o ta_HT_SINE.lo ta_HT_SINE.c\n",
            " gcc -DHAVE_CONFIG_H -I. -I../../include -I../ta_common/ -g -O2 -MT ta_HT_SINE.lo -MD -MP -MF .deps/ta_HT_SINE.Tpo -c ta_HT_SINE.c  -fPIC -DPIC -o .libs/ta_HT_SINE.o\n",
            " gcc -DHAVE_CONFIG_H -I. -I../../include -I../ta_common/ -g -O2 -MT ta_HT_SINE.lo -MD -MP -MF .deps/ta_HT_SINE.Tpo -c ta_HT_SINE.c -o ta_HT_SINE.o >/dev/null 2>&1\n",
            "mv -f .deps/ta_HT_SINE.Tpo .deps/ta_HT_SINE.Plo\n",
            "/bin/bash ../../libtool --tag=CC   --mode=compile gcc -DHAVE_CONFIG_H -I. -I../../include  -I../ta_common/   -g -O2 -MT ta_HT_TRENDLINE.lo -MD -MP -MF .deps/ta_HT_TRENDLINE.Tpo -c -o ta_HT_TRENDLINE.lo ta_HT_TRENDLINE.c\n",
            " gcc -DHAVE_CONFIG_H -I. -I../../include -I../ta_common/ -g -O2 -MT ta_HT_TRENDLINE.lo -MD -MP -MF .deps/ta_HT_TRENDLINE.Tpo -c ta_HT_TRENDLINE.c  -fPIC -DPIC -o .libs/ta_HT_TRENDLINE.o\n",
            " gcc -DHAVE_CONFIG_H -I. -I../../include -I../ta_common/ -g -O2 -MT ta_HT_TRENDLINE.lo -MD -MP -MF .deps/ta_HT_TRENDLINE.Tpo -c ta_HT_TRENDLINE.c -o ta_HT_TRENDLINE.o >/dev/null 2>&1\n",
            "mv -f .deps/ta_HT_TRENDLINE.Tpo .deps/ta_HT_TRENDLINE.Plo\n",
            "/bin/bash ../../libtool --tag=CC   --mode=compile gcc -DHAVE_CONFIG_H -I. -I../../include  -I../ta_common/   -g -O2 -MT ta_HT_TRENDMODE.lo -MD -MP -MF .deps/ta_HT_TRENDMODE.Tpo -c -o ta_HT_TRENDMODE.lo ta_HT_TRENDMODE.c\n",
            " gcc -DHAVE_CONFIG_H -I. -I../../include -I../ta_common/ -g -O2 -MT ta_HT_TRENDMODE.lo -MD -MP -MF .deps/ta_HT_TRENDMODE.Tpo -c ta_HT_TRENDMODE.c  -fPIC -DPIC -o .libs/ta_HT_TRENDMODE.o\n",
            " gcc -DHAVE_CONFIG_H -I. -I../../include -I../ta_common/ -g -O2 -MT ta_HT_TRENDMODE.lo -MD -MP -MF .deps/ta_HT_TRENDMODE.Tpo -c ta_HT_TRENDMODE.c -o ta_HT_TRENDMODE.o >/dev/null 2>&1\n",
            "mv -f .deps/ta_HT_TRENDMODE.Tpo .deps/ta_HT_TRENDMODE.Plo\n",
            "/bin/bash ../../libtool --tag=CC   --mode=compile gcc -DHAVE_CONFIG_H -I. -I../../include  -I../ta_common/   -g -O2 -MT ta_KAMA.lo -MD -MP -MF .deps/ta_KAMA.Tpo -c -o ta_KAMA.lo ta_KAMA.c\n",
            " gcc -DHAVE_CONFIG_H -I. -I../../include -I../ta_common/ -g -O2 -MT ta_KAMA.lo -MD -MP -MF .deps/ta_KAMA.Tpo -c ta_KAMA.c  -fPIC -DPIC -o .libs/ta_KAMA.o\n",
            " gcc -DHAVE_CONFIG_H -I. -I../../include -I../ta_common/ -g -O2 -MT ta_KAMA.lo -MD -MP -MF .deps/ta_KAMA.Tpo -c ta_KAMA.c -o ta_KAMA.o >/dev/null 2>&1\n",
            "mv -f .deps/ta_KAMA.Tpo .deps/ta_KAMA.Plo\n",
            "/bin/bash ../../libtool --tag=CC   --mode=compile gcc -DHAVE_CONFIG_H -I. -I../../include  -I../ta_common/   -g -O2 -MT ta_LINEARREG.lo -MD -MP -MF .deps/ta_LINEARREG.Tpo -c -o ta_LINEARREG.lo ta_LINEARREG.c\n",
            " gcc -DHAVE_CONFIG_H -I. -I../../include -I../ta_common/ -g -O2 -MT ta_LINEARREG.lo -MD -MP -MF .deps/ta_LINEARREG.Tpo -c ta_LINEARREG.c  -fPIC -DPIC -o .libs/ta_LINEARREG.o\n",
            " gcc -DHAVE_CONFIG_H -I. -I../../include -I../ta_common/ -g -O2 -MT ta_LINEARREG.lo -MD -MP -MF .deps/ta_LINEARREG.Tpo -c ta_LINEARREG.c -o ta_LINEARREG.o >/dev/null 2>&1\n",
            "mv -f .deps/ta_LINEARREG.Tpo .deps/ta_LINEARREG.Plo\n",
            "/bin/bash ../../libtool --tag=CC   --mode=compile gcc -DHAVE_CONFIG_H -I. -I../../include  -I../ta_common/   -g -O2 -MT ta_LINEARREG_ANGLE.lo -MD -MP -MF .deps/ta_LINEARREG_ANGLE.Tpo -c -o ta_LINEARREG_ANGLE.lo ta_LINEARREG_ANGLE.c\n",
            " gcc -DHAVE_CONFIG_H -I. -I../../include -I../ta_common/ -g -O2 -MT ta_LINEARREG_ANGLE.lo -MD -MP -MF .deps/ta_LINEARREG_ANGLE.Tpo -c ta_LINEARREG_ANGLE.c  -fPIC -DPIC -o .libs/ta_LINEARREG_ANGLE.o\n",
            " gcc -DHAVE_CONFIG_H -I. -I../../include -I../ta_common/ -g -O2 -MT ta_LINEARREG_ANGLE.lo -MD -MP -MF .deps/ta_LINEARREG_ANGLE.Tpo -c ta_LINEARREG_ANGLE.c -o ta_LINEARREG_ANGLE.o >/dev/null 2>&1\n",
            "mv -f .deps/ta_LINEARREG_ANGLE.Tpo .deps/ta_LINEARREG_ANGLE.Plo\n",
            "/bin/bash ../../libtool --tag=CC   --mode=compile gcc -DHAVE_CONFIG_H -I. -I../../include  -I../ta_common/   -g -O2 -MT ta_LINEARREG_INTERCEPT.lo -MD -MP -MF .deps/ta_LINEARREG_INTERCEPT.Tpo -c -o ta_LINEARREG_INTERCEPT.lo ta_LINEARREG_INTERCEPT.c\n",
            " gcc -DHAVE_CONFIG_H -I. -I../../include -I../ta_common/ -g -O2 -MT ta_LINEARREG_INTERCEPT.lo -MD -MP -MF .deps/ta_LINEARREG_INTERCEPT.Tpo -c ta_LINEARREG_INTERCEPT.c  -fPIC -DPIC -o .libs/ta_LINEARREG_INTERCEPT.o\n",
            " gcc -DHAVE_CONFIG_H -I. -I../../include -I../ta_common/ -g -O2 -MT ta_LINEARREG_INTERCEPT.lo -MD -MP -MF .deps/ta_LINEARREG_INTERCEPT.Tpo -c ta_LINEARREG_INTERCEPT.c -o ta_LINEARREG_INTERCEPT.o >/dev/null 2>&1\n",
            "mv -f .deps/ta_LINEARREG_INTERCEPT.Tpo .deps/ta_LINEARREG_INTERCEPT.Plo\n",
            "/bin/bash ../../libtool --tag=CC   --mode=compile gcc -DHAVE_CONFIG_H -I. -I../../include  -I../ta_common/   -g -O2 -MT ta_LINEARREG_SLOPE.lo -MD -MP -MF .deps/ta_LINEARREG_SLOPE.Tpo -c -o ta_LINEARREG_SLOPE.lo ta_LINEARREG_SLOPE.c\n",
            " gcc -DHAVE_CONFIG_H -I. -I../../include -I../ta_common/ -g -O2 -MT ta_LINEARREG_SLOPE.lo -MD -MP -MF .deps/ta_LINEARREG_SLOPE.Tpo -c ta_LINEARREG_SLOPE.c  -fPIC -DPIC -o .libs/ta_LINEARREG_SLOPE.o\n",
            " gcc -DHAVE_CONFIG_H -I. -I../../include -I../ta_common/ -g -O2 -MT ta_LINEARREG_SLOPE.lo -MD -MP -MF .deps/ta_LINEARREG_SLOPE.Tpo -c ta_LINEARREG_SLOPE.c -o ta_LINEARREG_SLOPE.o >/dev/null 2>&1\n",
            "mv -f .deps/ta_LINEARREG_SLOPE.Tpo .deps/ta_LINEARREG_SLOPE.Plo\n",
            "/bin/bash ../../libtool --tag=CC   --mode=compile gcc -DHAVE_CONFIG_H -I. -I../../include  -I../ta_common/   -g -O2 -MT ta_LN.lo -MD -MP -MF .deps/ta_LN.Tpo -c -o ta_LN.lo ta_LN.c\n",
            " gcc -DHAVE_CONFIG_H -I. -I../../include -I../ta_common/ -g -O2 -MT ta_LN.lo -MD -MP -MF .deps/ta_LN.Tpo -c ta_LN.c  -fPIC -DPIC -o .libs/ta_LN.o\n",
            " gcc -DHAVE_CONFIG_H -I. -I../../include -I../ta_common/ -g -O2 -MT ta_LN.lo -MD -MP -MF .deps/ta_LN.Tpo -c ta_LN.c -o ta_LN.o >/dev/null 2>&1\n",
            "mv -f .deps/ta_LN.Tpo .deps/ta_LN.Plo\n",
            "/bin/bash ../../libtool --tag=CC   --mode=compile gcc -DHAVE_CONFIG_H -I. -I../../include  -I../ta_common/   -g -O2 -MT ta_LOG10.lo -MD -MP -MF .deps/ta_LOG10.Tpo -c -o ta_LOG10.lo ta_LOG10.c\n",
            " gcc -DHAVE_CONFIG_H -I. -I../../include -I../ta_common/ -g -O2 -MT ta_LOG10.lo -MD -MP -MF .deps/ta_LOG10.Tpo -c ta_LOG10.c  -fPIC -DPIC -o .libs/ta_LOG10.o\n",
            " gcc -DHAVE_CONFIG_H -I. -I../../include -I../ta_common/ -g -O2 -MT ta_LOG10.lo -MD -MP -MF .deps/ta_LOG10.Tpo -c ta_LOG10.c -o ta_LOG10.o >/dev/null 2>&1\n",
            "mv -f .deps/ta_LOG10.Tpo .deps/ta_LOG10.Plo\n",
            "/bin/bash ../../libtool --tag=CC   --mode=compile gcc -DHAVE_CONFIG_H -I. -I../../include  -I../ta_common/   -g -O2 -MT ta_MA.lo -MD -MP -MF .deps/ta_MA.Tpo -c -o ta_MA.lo ta_MA.c\n",
            " gcc -DHAVE_CONFIG_H -I. -I../../include -I../ta_common/ -g -O2 -MT ta_MA.lo -MD -MP -MF .deps/ta_MA.Tpo -c ta_MA.c  -fPIC -DPIC -o .libs/ta_MA.o\n",
            " gcc -DHAVE_CONFIG_H -I. -I../../include -I../ta_common/ -g -O2 -MT ta_MA.lo -MD -MP -MF .deps/ta_MA.Tpo -c ta_MA.c -o ta_MA.o >/dev/null 2>&1\n",
            "mv -f .deps/ta_MA.Tpo .deps/ta_MA.Plo\n",
            "/bin/bash ../../libtool --tag=CC   --mode=compile gcc -DHAVE_CONFIG_H -I. -I../../include  -I../ta_common/   -g -O2 -MT ta_MACD.lo -MD -MP -MF .deps/ta_MACD.Tpo -c -o ta_MACD.lo ta_MACD.c\n",
            " gcc -DHAVE_CONFIG_H -I. -I../../include -I../ta_common/ -g -O2 -MT ta_MACD.lo -MD -MP -MF .deps/ta_MACD.Tpo -c ta_MACD.c  -fPIC -DPIC -o .libs/ta_MACD.o\n",
            " gcc -DHAVE_CONFIG_H -I. -I../../include -I../ta_common/ -g -O2 -MT ta_MACD.lo -MD -MP -MF .deps/ta_MACD.Tpo -c ta_MACD.c -o ta_MACD.o >/dev/null 2>&1\n",
            "mv -f .deps/ta_MACD.Tpo .deps/ta_MACD.Plo\n",
            "/bin/bash ../../libtool --tag=CC   --mode=compile gcc -DHAVE_CONFIG_H -I. -I../../include  -I../ta_common/   -g -O2 -MT ta_MACDEXT.lo -MD -MP -MF .deps/ta_MACDEXT.Tpo -c -o ta_MACDEXT.lo ta_MACDEXT.c\n",
            " gcc -DHAVE_CONFIG_H -I. -I../../include -I../ta_common/ -g -O2 -MT ta_MACDEXT.lo -MD -MP -MF .deps/ta_MACDEXT.Tpo -c ta_MACDEXT.c  -fPIC -DPIC -o .libs/ta_MACDEXT.o\n",
            " gcc -DHAVE_CONFIG_H -I. -I../../include -I../ta_common/ -g -O2 -MT ta_MACDEXT.lo -MD -MP -MF .deps/ta_MACDEXT.Tpo -c ta_MACDEXT.c -o ta_MACDEXT.o >/dev/null 2>&1\n",
            "mv -f .deps/ta_MACDEXT.Tpo .deps/ta_MACDEXT.Plo\n",
            "/bin/bash ../../libtool --tag=CC   --mode=compile gcc -DHAVE_CONFIG_H -I. -I../../include  -I../ta_common/   -g -O2 -MT ta_MACDFIX.lo -MD -MP -MF .deps/ta_MACDFIX.Tpo -c -o ta_MACDFIX.lo ta_MACDFIX.c\n",
            " gcc -DHAVE_CONFIG_H -I. -I../../include -I../ta_common/ -g -O2 -MT ta_MACDFIX.lo -MD -MP -MF .deps/ta_MACDFIX.Tpo -c ta_MACDFIX.c  -fPIC -DPIC -o .libs/ta_MACDFIX.o\n",
            " gcc -DHAVE_CONFIG_H -I. -I../../include -I../ta_common/ -g -O2 -MT ta_MACDFIX.lo -MD -MP -MF .deps/ta_MACDFIX.Tpo -c ta_MACDFIX.c -o ta_MACDFIX.o >/dev/null 2>&1\n",
            "mv -f .deps/ta_MACDFIX.Tpo .deps/ta_MACDFIX.Plo\n",
            "/bin/bash ../../libtool --tag=CC   --mode=compile gcc -DHAVE_CONFIG_H -I. -I../../include  -I../ta_common/   -g -O2 -MT ta_MAMA.lo -MD -MP -MF .deps/ta_MAMA.Tpo -c -o ta_MAMA.lo ta_MAMA.c\n",
            " gcc -DHAVE_CONFIG_H -I. -I../../include -I../ta_common/ -g -O2 -MT ta_MAMA.lo -MD -MP -MF .deps/ta_MAMA.Tpo -c ta_MAMA.c  -fPIC -DPIC -o .libs/ta_MAMA.o\n",
            " gcc -DHAVE_CONFIG_H -I. -I../../include -I../ta_common/ -g -O2 -MT ta_MAMA.lo -MD -MP -MF .deps/ta_MAMA.Tpo -c ta_MAMA.c -o ta_MAMA.o >/dev/null 2>&1\n",
            "mv -f .deps/ta_MAMA.Tpo .deps/ta_MAMA.Plo\n",
            "/bin/bash ../../libtool --tag=CC   --mode=compile gcc -DHAVE_CONFIG_H -I. -I../../include  -I../ta_common/   -g -O2 -MT ta_MAVP.lo -MD -MP -MF .deps/ta_MAVP.Tpo -c -o ta_MAVP.lo ta_MAVP.c\n",
            " gcc -DHAVE_CONFIG_H -I. -I../../include -I../ta_common/ -g -O2 -MT ta_MAVP.lo -MD -MP -MF .deps/ta_MAVP.Tpo -c ta_MAVP.c  -fPIC -DPIC -o .libs/ta_MAVP.o\n",
            " gcc -DHAVE_CONFIG_H -I. -I../../include -I../ta_common/ -g -O2 -MT ta_MAVP.lo -MD -MP -MF .deps/ta_MAVP.Tpo -c ta_MAVP.c -o ta_MAVP.o >/dev/null 2>&1\n",
            "mv -f .deps/ta_MAVP.Tpo .deps/ta_MAVP.Plo\n",
            "/bin/bash ../../libtool --tag=CC   --mode=compile gcc -DHAVE_CONFIG_H -I. -I../../include  -I../ta_common/   -g -O2 -MT ta_MAX.lo -MD -MP -MF .deps/ta_MAX.Tpo -c -o ta_MAX.lo ta_MAX.c\n",
            " gcc -DHAVE_CONFIG_H -I. -I../../include -I../ta_common/ -g -O2 -MT ta_MAX.lo -MD -MP -MF .deps/ta_MAX.Tpo -c ta_MAX.c  -fPIC -DPIC -o .libs/ta_MAX.o\n",
            " gcc -DHAVE_CONFIG_H -I. -I../../include -I../ta_common/ -g -O2 -MT ta_MAX.lo -MD -MP -MF .deps/ta_MAX.Tpo -c ta_MAX.c -o ta_MAX.o >/dev/null 2>&1\n",
            "mv -f .deps/ta_MAX.Tpo .deps/ta_MAX.Plo\n",
            "/bin/bash ../../libtool --tag=CC   --mode=compile gcc -DHAVE_CONFIG_H -I. -I../../include  -I../ta_common/   -g -O2 -MT ta_MAXINDEX.lo -MD -MP -MF .deps/ta_MAXINDEX.Tpo -c -o ta_MAXINDEX.lo ta_MAXINDEX.c\n",
            " gcc -DHAVE_CONFIG_H -I. -I../../include -I../ta_common/ -g -O2 -MT ta_MAXINDEX.lo -MD -MP -MF .deps/ta_MAXINDEX.Tpo -c ta_MAXINDEX.c  -fPIC -DPIC -o .libs/ta_MAXINDEX.o\n",
            " gcc -DHAVE_CONFIG_H -I. -I../../include -I../ta_common/ -g -O2 -MT ta_MAXINDEX.lo -MD -MP -MF .deps/ta_MAXINDEX.Tpo -c ta_MAXINDEX.c -o ta_MAXINDEX.o >/dev/null 2>&1\n",
            "mv -f .deps/ta_MAXINDEX.Tpo .deps/ta_MAXINDEX.Plo\n",
            "/bin/bash ../../libtool --tag=CC   --mode=compile gcc -DHAVE_CONFIG_H -I. -I../../include  -I../ta_common/   -g -O2 -MT ta_MEDPRICE.lo -MD -MP -MF .deps/ta_MEDPRICE.Tpo -c -o ta_MEDPRICE.lo ta_MEDPRICE.c\n",
            " gcc -DHAVE_CONFIG_H -I. -I../../include -I../ta_common/ -g -O2 -MT ta_MEDPRICE.lo -MD -MP -MF .deps/ta_MEDPRICE.Tpo -c ta_MEDPRICE.c  -fPIC -DPIC -o .libs/ta_MEDPRICE.o\n",
            " gcc -DHAVE_CONFIG_H -I. -I../../include -I../ta_common/ -g -O2 -MT ta_MEDPRICE.lo -MD -MP -MF .deps/ta_MEDPRICE.Tpo -c ta_MEDPRICE.c -o ta_MEDPRICE.o >/dev/null 2>&1\n",
            "mv -f .deps/ta_MEDPRICE.Tpo .deps/ta_MEDPRICE.Plo\n",
            "/bin/bash ../../libtool --tag=CC   --mode=compile gcc -DHAVE_CONFIG_H -I. -I../../include  -I../ta_common/   -g -O2 -MT ta_MFI.lo -MD -MP -MF .deps/ta_MFI.Tpo -c -o ta_MFI.lo ta_MFI.c\n",
            " gcc -DHAVE_CONFIG_H -I. -I../../include -I../ta_common/ -g -O2 -MT ta_MFI.lo -MD -MP -MF .deps/ta_MFI.Tpo -c ta_MFI.c  -fPIC -DPIC -o .libs/ta_MFI.o\n",
            " gcc -DHAVE_CONFIG_H -I. -I../../include -I../ta_common/ -g -O2 -MT ta_MFI.lo -MD -MP -MF .deps/ta_MFI.Tpo -c ta_MFI.c -o ta_MFI.o >/dev/null 2>&1\n",
            "mv -f .deps/ta_MFI.Tpo .deps/ta_MFI.Plo\n",
            "/bin/bash ../../libtool --tag=CC   --mode=compile gcc -DHAVE_CONFIG_H -I. -I../../include  -I../ta_common/   -g -O2 -MT ta_MIDPOINT.lo -MD -MP -MF .deps/ta_MIDPOINT.Tpo -c -o ta_MIDPOINT.lo ta_MIDPOINT.c\n",
            " gcc -DHAVE_CONFIG_H -I. -I../../include -I../ta_common/ -g -O2 -MT ta_MIDPOINT.lo -MD -MP -MF .deps/ta_MIDPOINT.Tpo -c ta_MIDPOINT.c  -fPIC -DPIC -o .libs/ta_MIDPOINT.o\n",
            " gcc -DHAVE_CONFIG_H -I. -I../../include -I../ta_common/ -g -O2 -MT ta_MIDPOINT.lo -MD -MP -MF .deps/ta_MIDPOINT.Tpo -c ta_MIDPOINT.c -o ta_MIDPOINT.o >/dev/null 2>&1\n",
            "mv -f .deps/ta_MIDPOINT.Tpo .deps/ta_MIDPOINT.Plo\n",
            "/bin/bash ../../libtool --tag=CC   --mode=compile gcc -DHAVE_CONFIG_H -I. -I../../include  -I../ta_common/   -g -O2 -MT ta_MIDPRICE.lo -MD -MP -MF .deps/ta_MIDPRICE.Tpo -c -o ta_MIDPRICE.lo ta_MIDPRICE.c\n",
            " gcc -DHAVE_CONFIG_H -I. -I../../include -I../ta_common/ -g -O2 -MT ta_MIDPRICE.lo -MD -MP -MF .deps/ta_MIDPRICE.Tpo -c ta_MIDPRICE.c  -fPIC -DPIC -o .libs/ta_MIDPRICE.o\n",
            " gcc -DHAVE_CONFIG_H -I. -I../../include -I../ta_common/ -g -O2 -MT ta_MIDPRICE.lo -MD -MP -MF .deps/ta_MIDPRICE.Tpo -c ta_MIDPRICE.c -o ta_MIDPRICE.o >/dev/null 2>&1\n",
            "mv -f .deps/ta_MIDPRICE.Tpo .deps/ta_MIDPRICE.Plo\n",
            "/bin/bash ../../libtool --tag=CC   --mode=compile gcc -DHAVE_CONFIG_H -I. -I../../include  -I../ta_common/   -g -O2 -MT ta_MIN.lo -MD -MP -MF .deps/ta_MIN.Tpo -c -o ta_MIN.lo ta_MIN.c\n",
            " gcc -DHAVE_CONFIG_H -I. -I../../include -I../ta_common/ -g -O2 -MT ta_MIN.lo -MD -MP -MF .deps/ta_MIN.Tpo -c ta_MIN.c  -fPIC -DPIC -o .libs/ta_MIN.o\n",
            " gcc -DHAVE_CONFIG_H -I. -I../../include -I../ta_common/ -g -O2 -MT ta_MIN.lo -MD -MP -MF .deps/ta_MIN.Tpo -c ta_MIN.c -o ta_MIN.o >/dev/null 2>&1\n",
            "mv -f .deps/ta_MIN.Tpo .deps/ta_MIN.Plo\n",
            "/bin/bash ../../libtool --tag=CC   --mode=compile gcc -DHAVE_CONFIG_H -I. -I../../include  -I../ta_common/   -g -O2 -MT ta_MININDEX.lo -MD -MP -MF .deps/ta_MININDEX.Tpo -c -o ta_MININDEX.lo ta_MININDEX.c\n",
            " gcc -DHAVE_CONFIG_H -I. -I../../include -I../ta_common/ -g -O2 -MT ta_MININDEX.lo -MD -MP -MF .deps/ta_MININDEX.Tpo -c ta_MININDEX.c  -fPIC -DPIC -o .libs/ta_MININDEX.o\n",
            " gcc -DHAVE_CONFIG_H -I. -I../../include -I../ta_common/ -g -O2 -MT ta_MININDEX.lo -MD -MP -MF .deps/ta_MININDEX.Tpo -c ta_MININDEX.c -o ta_MININDEX.o >/dev/null 2>&1\n",
            "mv -f .deps/ta_MININDEX.Tpo .deps/ta_MININDEX.Plo\n",
            "/bin/bash ../../libtool --tag=CC   --mode=compile gcc -DHAVE_CONFIG_H -I. -I../../include  -I../ta_common/   -g -O2 -MT ta_MINMAX.lo -MD -MP -MF .deps/ta_MINMAX.Tpo -c -o ta_MINMAX.lo ta_MINMAX.c\n",
            " gcc -DHAVE_CONFIG_H -I. -I../../include -I../ta_common/ -g -O2 -MT ta_MINMAX.lo -MD -MP -MF .deps/ta_MINMAX.Tpo -c ta_MINMAX.c  -fPIC -DPIC -o .libs/ta_MINMAX.o\n",
            " gcc -DHAVE_CONFIG_H -I. -I../../include -I../ta_common/ -g -O2 -MT ta_MINMAX.lo -MD -MP -MF .deps/ta_MINMAX.Tpo -c ta_MINMAX.c -o ta_MINMAX.o >/dev/null 2>&1\n",
            "mv -f .deps/ta_MINMAX.Tpo .deps/ta_MINMAX.Plo\n",
            "/bin/bash ../../libtool --tag=CC   --mode=compile gcc -DHAVE_CONFIG_H -I. -I../../include  -I../ta_common/   -g -O2 -MT ta_MINMAXINDEX.lo -MD -MP -MF .deps/ta_MINMAXINDEX.Tpo -c -o ta_MINMAXINDEX.lo ta_MINMAXINDEX.c\n",
            " gcc -DHAVE_CONFIG_H -I. -I../../include -I../ta_common/ -g -O2 -MT ta_MINMAXINDEX.lo -MD -MP -MF .deps/ta_MINMAXINDEX.Tpo -c ta_MINMAXINDEX.c  -fPIC -DPIC -o .libs/ta_MINMAXINDEX.o\n",
            " gcc -DHAVE_CONFIG_H -I. -I../../include -I../ta_common/ -g -O2 -MT ta_MINMAXINDEX.lo -MD -MP -MF .deps/ta_MINMAXINDEX.Tpo -c ta_MINMAXINDEX.c -o ta_MINMAXINDEX.o >/dev/null 2>&1\n",
            "mv -f .deps/ta_MINMAXINDEX.Tpo .deps/ta_MINMAXINDEX.Plo\n",
            "/bin/bash ../../libtool --tag=CC   --mode=compile gcc -DHAVE_CONFIG_H -I. -I../../include  -I../ta_common/   -g -O2 -MT ta_MINUS_DI.lo -MD -MP -MF .deps/ta_MINUS_DI.Tpo -c -o ta_MINUS_DI.lo ta_MINUS_DI.c\n",
            " gcc -DHAVE_CONFIG_H -I. -I../../include -I../ta_common/ -g -O2 -MT ta_MINUS_DI.lo -MD -MP -MF .deps/ta_MINUS_DI.Tpo -c ta_MINUS_DI.c  -fPIC -DPIC -o .libs/ta_MINUS_DI.o\n",
            " gcc -DHAVE_CONFIG_H -I. -I../../include -I../ta_common/ -g -O2 -MT ta_MINUS_DI.lo -MD -MP -MF .deps/ta_MINUS_DI.Tpo -c ta_MINUS_DI.c -o ta_MINUS_DI.o >/dev/null 2>&1\n",
            "mv -f .deps/ta_MINUS_DI.Tpo .deps/ta_MINUS_DI.Plo\n",
            "/bin/bash ../../libtool --tag=CC   --mode=compile gcc -DHAVE_CONFIG_H -I. -I../../include  -I../ta_common/   -g -O2 -MT ta_MINUS_DM.lo -MD -MP -MF .deps/ta_MINUS_DM.Tpo -c -o ta_MINUS_DM.lo ta_MINUS_DM.c\n",
            " gcc -DHAVE_CONFIG_H -I. -I../../include -I../ta_common/ -g -O2 -MT ta_MINUS_DM.lo -MD -MP -MF .deps/ta_MINUS_DM.Tpo -c ta_MINUS_DM.c  -fPIC -DPIC -o .libs/ta_MINUS_DM.o\n",
            " gcc -DHAVE_CONFIG_H -I. -I../../include -I../ta_common/ -g -O2 -MT ta_MINUS_DM.lo -MD -MP -MF .deps/ta_MINUS_DM.Tpo -c ta_MINUS_DM.c -o ta_MINUS_DM.o >/dev/null 2>&1\n",
            "mv -f .deps/ta_MINUS_DM.Tpo .deps/ta_MINUS_DM.Plo\n",
            "/bin/bash ../../libtool --tag=CC   --mode=compile gcc -DHAVE_CONFIG_H -I. -I../../include  -I../ta_common/   -g -O2 -MT ta_MOM.lo -MD -MP -MF .deps/ta_MOM.Tpo -c -o ta_MOM.lo ta_MOM.c\n",
            " gcc -DHAVE_CONFIG_H -I. -I../../include -I../ta_common/ -g -O2 -MT ta_MOM.lo -MD -MP -MF .deps/ta_MOM.Tpo -c ta_MOM.c  -fPIC -DPIC -o .libs/ta_MOM.o\n",
            " gcc -DHAVE_CONFIG_H -I. -I../../include -I../ta_common/ -g -O2 -MT ta_MOM.lo -MD -MP -MF .deps/ta_MOM.Tpo -c ta_MOM.c -o ta_MOM.o >/dev/null 2>&1\n",
            "mv -f .deps/ta_MOM.Tpo .deps/ta_MOM.Plo\n",
            "/bin/bash ../../libtool --tag=CC   --mode=compile gcc -DHAVE_CONFIG_H -I. -I../../include  -I../ta_common/   -g -O2 -MT ta_MULT.lo -MD -MP -MF .deps/ta_MULT.Tpo -c -o ta_MULT.lo ta_MULT.c\n",
            " gcc -DHAVE_CONFIG_H -I. -I../../include -I../ta_common/ -g -O2 -MT ta_MULT.lo -MD -MP -MF .deps/ta_MULT.Tpo -c ta_MULT.c  -fPIC -DPIC -o .libs/ta_MULT.o\n",
            " gcc -DHAVE_CONFIG_H -I. -I../../include -I../ta_common/ -g -O2 -MT ta_MULT.lo -MD -MP -MF .deps/ta_MULT.Tpo -c ta_MULT.c -o ta_MULT.o >/dev/null 2>&1\n",
            "mv -f .deps/ta_MULT.Tpo .deps/ta_MULT.Plo\n",
            "/bin/bash ../../libtool --tag=CC   --mode=compile gcc -DHAVE_CONFIG_H -I. -I../../include  -I../ta_common/   -g -O2 -MT ta_NATR.lo -MD -MP -MF .deps/ta_NATR.Tpo -c -o ta_NATR.lo ta_NATR.c\n",
            " gcc -DHAVE_CONFIG_H -I. -I../../include -I../ta_common/ -g -O2 -MT ta_NATR.lo -MD -MP -MF .deps/ta_NATR.Tpo -c ta_NATR.c  -fPIC -DPIC -o .libs/ta_NATR.o\n",
            " gcc -DHAVE_CONFIG_H -I. -I../../include -I../ta_common/ -g -O2 -MT ta_NATR.lo -MD -MP -MF .deps/ta_NATR.Tpo -c ta_NATR.c -o ta_NATR.o >/dev/null 2>&1\n",
            "mv -f .deps/ta_NATR.Tpo .deps/ta_NATR.Plo\n",
            "/bin/bash ../../libtool --tag=CC   --mode=compile gcc -DHAVE_CONFIG_H -I. -I../../include  -I../ta_common/   -g -O2 -MT ta_OBV.lo -MD -MP -MF .deps/ta_OBV.Tpo -c -o ta_OBV.lo ta_OBV.c\n",
            " gcc -DHAVE_CONFIG_H -I. -I../../include -I../ta_common/ -g -O2 -MT ta_OBV.lo -MD -MP -MF .deps/ta_OBV.Tpo -c ta_OBV.c  -fPIC -DPIC -o .libs/ta_OBV.o\n",
            " gcc -DHAVE_CONFIG_H -I. -I../../include -I../ta_common/ -g -O2 -MT ta_OBV.lo -MD -MP -MF .deps/ta_OBV.Tpo -c ta_OBV.c -o ta_OBV.o >/dev/null 2>&1\n",
            "mv -f .deps/ta_OBV.Tpo .deps/ta_OBV.Plo\n",
            "/bin/bash ../../libtool --tag=CC   --mode=compile gcc -DHAVE_CONFIG_H -I. -I../../include  -I../ta_common/   -g -O2 -MT ta_PLUS_DI.lo -MD -MP -MF .deps/ta_PLUS_DI.Tpo -c -o ta_PLUS_DI.lo ta_PLUS_DI.c\n",
            " gcc -DHAVE_CONFIG_H -I. -I../../include -I../ta_common/ -g -O2 -MT ta_PLUS_DI.lo -MD -MP -MF .deps/ta_PLUS_DI.Tpo -c ta_PLUS_DI.c  -fPIC -DPIC -o .libs/ta_PLUS_DI.o\n",
            " gcc -DHAVE_CONFIG_H -I. -I../../include -I../ta_common/ -g -O2 -MT ta_PLUS_DI.lo -MD -MP -MF .deps/ta_PLUS_DI.Tpo -c ta_PLUS_DI.c -o ta_PLUS_DI.o >/dev/null 2>&1\n",
            "mv -f .deps/ta_PLUS_DI.Tpo .deps/ta_PLUS_DI.Plo\n",
            "/bin/bash ../../libtool --tag=CC   --mode=compile gcc -DHAVE_CONFIG_H -I. -I../../include  -I../ta_common/   -g -O2 -MT ta_PLUS_DM.lo -MD -MP -MF .deps/ta_PLUS_DM.Tpo -c -o ta_PLUS_DM.lo ta_PLUS_DM.c\n",
            " gcc -DHAVE_CONFIG_H -I. -I../../include -I../ta_common/ -g -O2 -MT ta_PLUS_DM.lo -MD -MP -MF .deps/ta_PLUS_DM.Tpo -c ta_PLUS_DM.c  -fPIC -DPIC -o .libs/ta_PLUS_DM.o\n",
            " gcc -DHAVE_CONFIG_H -I. -I../../include -I../ta_common/ -g -O2 -MT ta_PLUS_DM.lo -MD -MP -MF .deps/ta_PLUS_DM.Tpo -c ta_PLUS_DM.c -o ta_PLUS_DM.o >/dev/null 2>&1\n",
            "mv -f .deps/ta_PLUS_DM.Tpo .deps/ta_PLUS_DM.Plo\n",
            "/bin/bash ../../libtool --tag=CC   --mode=compile gcc -DHAVE_CONFIG_H -I. -I../../include  -I../ta_common/   -g -O2 -MT ta_PPO.lo -MD -MP -MF .deps/ta_PPO.Tpo -c -o ta_PPO.lo ta_PPO.c\n",
            " gcc -DHAVE_CONFIG_H -I. -I../../include -I../ta_common/ -g -O2 -MT ta_PPO.lo -MD -MP -MF .deps/ta_PPO.Tpo -c ta_PPO.c  -fPIC -DPIC -o .libs/ta_PPO.o\n",
            " gcc -DHAVE_CONFIG_H -I. -I../../include -I../ta_common/ -g -O2 -MT ta_PPO.lo -MD -MP -MF .deps/ta_PPO.Tpo -c ta_PPO.c -o ta_PPO.o >/dev/null 2>&1\n",
            "mv -f .deps/ta_PPO.Tpo .deps/ta_PPO.Plo\n",
            "/bin/bash ../../libtool --tag=CC   --mode=compile gcc -DHAVE_CONFIG_H -I. -I../../include  -I../ta_common/   -g -O2 -MT ta_ROC.lo -MD -MP -MF .deps/ta_ROC.Tpo -c -o ta_ROC.lo ta_ROC.c\n",
            " gcc -DHAVE_CONFIG_H -I. -I../../include -I../ta_common/ -g -O2 -MT ta_ROC.lo -MD -MP -MF .deps/ta_ROC.Tpo -c ta_ROC.c  -fPIC -DPIC -o .libs/ta_ROC.o\n",
            " gcc -DHAVE_CONFIG_H -I. -I../../include -I../ta_common/ -g -O2 -MT ta_ROC.lo -MD -MP -MF .deps/ta_ROC.Tpo -c ta_ROC.c -o ta_ROC.o >/dev/null 2>&1\n",
            "mv -f .deps/ta_ROC.Tpo .deps/ta_ROC.Plo\n",
            "/bin/bash ../../libtool --tag=CC   --mode=compile gcc -DHAVE_CONFIG_H -I. -I../../include  -I../ta_common/   -g -O2 -MT ta_ROCP.lo -MD -MP -MF .deps/ta_ROCP.Tpo -c -o ta_ROCP.lo ta_ROCP.c\n",
            " gcc -DHAVE_CONFIG_H -I. -I../../include -I../ta_common/ -g -O2 -MT ta_ROCP.lo -MD -MP -MF .deps/ta_ROCP.Tpo -c ta_ROCP.c  -fPIC -DPIC -o .libs/ta_ROCP.o\n",
            " gcc -DHAVE_CONFIG_H -I. -I../../include -I../ta_common/ -g -O2 -MT ta_ROCP.lo -MD -MP -MF .deps/ta_ROCP.Tpo -c ta_ROCP.c -o ta_ROCP.o >/dev/null 2>&1\n",
            "mv -f .deps/ta_ROCP.Tpo .deps/ta_ROCP.Plo\n",
            "/bin/bash ../../libtool --tag=CC   --mode=compile gcc -DHAVE_CONFIG_H -I. -I../../include  -I../ta_common/   -g -O2 -MT ta_ROCR.lo -MD -MP -MF .deps/ta_ROCR.Tpo -c -o ta_ROCR.lo ta_ROCR.c\n",
            " gcc -DHAVE_CONFIG_H -I. -I../../include -I../ta_common/ -g -O2 -MT ta_ROCR.lo -MD -MP -MF .deps/ta_ROCR.Tpo -c ta_ROCR.c  -fPIC -DPIC -o .libs/ta_ROCR.o\n",
            " gcc -DHAVE_CONFIG_H -I. -I../../include -I../ta_common/ -g -O2 -MT ta_ROCR.lo -MD -MP -MF .deps/ta_ROCR.Tpo -c ta_ROCR.c -o ta_ROCR.o >/dev/null 2>&1\n",
            "mv -f .deps/ta_ROCR.Tpo .deps/ta_ROCR.Plo\n",
            "/bin/bash ../../libtool --tag=CC   --mode=compile gcc -DHAVE_CONFIG_H -I. -I../../include  -I../ta_common/   -g -O2 -MT ta_ROCR100.lo -MD -MP -MF .deps/ta_ROCR100.Tpo -c -o ta_ROCR100.lo ta_ROCR100.c\n",
            " gcc -DHAVE_CONFIG_H -I. -I../../include -I../ta_common/ -g -O2 -MT ta_ROCR100.lo -MD -MP -MF .deps/ta_ROCR100.Tpo -c ta_ROCR100.c  -fPIC -DPIC -o .libs/ta_ROCR100.o\n",
            " gcc -DHAVE_CONFIG_H -I. -I../../include -I../ta_common/ -g -O2 -MT ta_ROCR100.lo -MD -MP -MF .deps/ta_ROCR100.Tpo -c ta_ROCR100.c -o ta_ROCR100.o >/dev/null 2>&1\n",
            "mv -f .deps/ta_ROCR100.Tpo .deps/ta_ROCR100.Plo\n",
            "/bin/bash ../../libtool --tag=CC   --mode=compile gcc -DHAVE_CONFIG_H -I. -I../../include  -I../ta_common/   -g -O2 -MT ta_RSI.lo -MD -MP -MF .deps/ta_RSI.Tpo -c -o ta_RSI.lo ta_RSI.c\n",
            " gcc -DHAVE_CONFIG_H -I. -I../../include -I../ta_common/ -g -O2 -MT ta_RSI.lo -MD -MP -MF .deps/ta_RSI.Tpo -c ta_RSI.c  -fPIC -DPIC -o .libs/ta_RSI.o\n",
            " gcc -DHAVE_CONFIG_H -I. -I../../include -I../ta_common/ -g -O2 -MT ta_RSI.lo -MD -MP -MF .deps/ta_RSI.Tpo -c ta_RSI.c -o ta_RSI.o >/dev/null 2>&1\n",
            "mv -f .deps/ta_RSI.Tpo .deps/ta_RSI.Plo\n",
            "/bin/bash ../../libtool --tag=CC   --mode=compile gcc -DHAVE_CONFIG_H -I. -I../../include  -I../ta_common/   -g -O2 -MT ta_SAR.lo -MD -MP -MF .deps/ta_SAR.Tpo -c -o ta_SAR.lo ta_SAR.c\n",
            " gcc -DHAVE_CONFIG_H -I. -I../../include -I../ta_common/ -g -O2 -MT ta_SAR.lo -MD -MP -MF .deps/ta_SAR.Tpo -c ta_SAR.c  -fPIC -DPIC -o .libs/ta_SAR.o\n",
            " gcc -DHAVE_CONFIG_H -I. -I../../include -I../ta_common/ -g -O2 -MT ta_SAR.lo -MD -MP -MF .deps/ta_SAR.Tpo -c ta_SAR.c -o ta_SAR.o >/dev/null 2>&1\n",
            "mv -f .deps/ta_SAR.Tpo .deps/ta_SAR.Plo\n",
            "/bin/bash ../../libtool --tag=CC   --mode=compile gcc -DHAVE_CONFIG_H -I. -I../../include  -I../ta_common/   -g -O2 -MT ta_SAREXT.lo -MD -MP -MF .deps/ta_SAREXT.Tpo -c -o ta_SAREXT.lo ta_SAREXT.c\n",
            " gcc -DHAVE_CONFIG_H -I. -I../../include -I../ta_common/ -g -O2 -MT ta_SAREXT.lo -MD -MP -MF .deps/ta_SAREXT.Tpo -c ta_SAREXT.c  -fPIC -DPIC -o .libs/ta_SAREXT.o\n",
            " gcc -DHAVE_CONFIG_H -I. -I../../include -I../ta_common/ -g -O2 -MT ta_SAREXT.lo -MD -MP -MF .deps/ta_SAREXT.Tpo -c ta_SAREXT.c -o ta_SAREXT.o >/dev/null 2>&1\n",
            "mv -f .deps/ta_SAREXT.Tpo .deps/ta_SAREXT.Plo\n",
            "/bin/bash ../../libtool --tag=CC   --mode=compile gcc -DHAVE_CONFIG_H -I. -I../../include  -I../ta_common/   -g -O2 -MT ta_SIN.lo -MD -MP -MF .deps/ta_SIN.Tpo -c -o ta_SIN.lo ta_SIN.c\n",
            " gcc -DHAVE_CONFIG_H -I. -I../../include -I../ta_common/ -g -O2 -MT ta_SIN.lo -MD -MP -MF .deps/ta_SIN.Tpo -c ta_SIN.c  -fPIC -DPIC -o .libs/ta_SIN.o\n",
            " gcc -DHAVE_CONFIG_H -I. -I../../include -I../ta_common/ -g -O2 -MT ta_SIN.lo -MD -MP -MF .deps/ta_SIN.Tpo -c ta_SIN.c -o ta_SIN.o >/dev/null 2>&1\n",
            "mv -f .deps/ta_SIN.Tpo .deps/ta_SIN.Plo\n",
            "/bin/bash ../../libtool --tag=CC   --mode=compile gcc -DHAVE_CONFIG_H -I. -I../../include  -I../ta_common/   -g -O2 -MT ta_SINH.lo -MD -MP -MF .deps/ta_SINH.Tpo -c -o ta_SINH.lo ta_SINH.c\n",
            " gcc -DHAVE_CONFIG_H -I. -I../../include -I../ta_common/ -g -O2 -MT ta_SINH.lo -MD -MP -MF .deps/ta_SINH.Tpo -c ta_SINH.c  -fPIC -DPIC -o .libs/ta_SINH.o\n",
            " gcc -DHAVE_CONFIG_H -I. -I../../include -I../ta_common/ -g -O2 -MT ta_SINH.lo -MD -MP -MF .deps/ta_SINH.Tpo -c ta_SINH.c -o ta_SINH.o >/dev/null 2>&1\n",
            "mv -f .deps/ta_SINH.Tpo .deps/ta_SINH.Plo\n",
            "/bin/bash ../../libtool --tag=CC   --mode=compile gcc -DHAVE_CONFIG_H -I. -I../../include  -I../ta_common/   -g -O2 -MT ta_SMA.lo -MD -MP -MF .deps/ta_SMA.Tpo -c -o ta_SMA.lo ta_SMA.c\n",
            " gcc -DHAVE_CONFIG_H -I. -I../../include -I../ta_common/ -g -O2 -MT ta_SMA.lo -MD -MP -MF .deps/ta_SMA.Tpo -c ta_SMA.c  -fPIC -DPIC -o .libs/ta_SMA.o\n",
            " gcc -DHAVE_CONFIG_H -I. -I../../include -I../ta_common/ -g -O2 -MT ta_SMA.lo -MD -MP -MF .deps/ta_SMA.Tpo -c ta_SMA.c -o ta_SMA.o >/dev/null 2>&1\n",
            "mv -f .deps/ta_SMA.Tpo .deps/ta_SMA.Plo\n",
            "/bin/bash ../../libtool --tag=CC   --mode=compile gcc -DHAVE_CONFIG_H -I. -I../../include  -I../ta_common/   -g -O2 -MT ta_SQRT.lo -MD -MP -MF .deps/ta_SQRT.Tpo -c -o ta_SQRT.lo ta_SQRT.c\n",
            " gcc -DHAVE_CONFIG_H -I. -I../../include -I../ta_common/ -g -O2 -MT ta_SQRT.lo -MD -MP -MF .deps/ta_SQRT.Tpo -c ta_SQRT.c  -fPIC -DPIC -o .libs/ta_SQRT.o\n",
            " gcc -DHAVE_CONFIG_H -I. -I../../include -I../ta_common/ -g -O2 -MT ta_SQRT.lo -MD -MP -MF .deps/ta_SQRT.Tpo -c ta_SQRT.c -o ta_SQRT.o >/dev/null 2>&1\n",
            "mv -f .deps/ta_SQRT.Tpo .deps/ta_SQRT.Plo\n",
            "/bin/bash ../../libtool --tag=CC   --mode=compile gcc -DHAVE_CONFIG_H -I. -I../../include  -I../ta_common/   -g -O2 -MT ta_STDDEV.lo -MD -MP -MF .deps/ta_STDDEV.Tpo -c -o ta_STDDEV.lo ta_STDDEV.c\n",
            " gcc -DHAVE_CONFIG_H -I. -I../../include -I../ta_common/ -g -O2 -MT ta_STDDEV.lo -MD -MP -MF .deps/ta_STDDEV.Tpo -c ta_STDDEV.c  -fPIC -DPIC -o .libs/ta_STDDEV.o\n",
            " gcc -DHAVE_CONFIG_H -I. -I../../include -I../ta_common/ -g -O2 -MT ta_STDDEV.lo -MD -MP -MF .deps/ta_STDDEV.Tpo -c ta_STDDEV.c -o ta_STDDEV.o >/dev/null 2>&1\n",
            "mv -f .deps/ta_STDDEV.Tpo .deps/ta_STDDEV.Plo\n",
            "/bin/bash ../../libtool --tag=CC   --mode=compile gcc -DHAVE_CONFIG_H -I. -I../../include  -I../ta_common/   -g -O2 -MT ta_STOCH.lo -MD -MP -MF .deps/ta_STOCH.Tpo -c -o ta_STOCH.lo ta_STOCH.c\n",
            " gcc -DHAVE_CONFIG_H -I. -I../../include -I../ta_common/ -g -O2 -MT ta_STOCH.lo -MD -MP -MF .deps/ta_STOCH.Tpo -c ta_STOCH.c  -fPIC -DPIC -o .libs/ta_STOCH.o\n",
            " gcc -DHAVE_CONFIG_H -I. -I../../include -I../ta_common/ -g -O2 -MT ta_STOCH.lo -MD -MP -MF .deps/ta_STOCH.Tpo -c ta_STOCH.c -o ta_STOCH.o >/dev/null 2>&1\n",
            "mv -f .deps/ta_STOCH.Tpo .deps/ta_STOCH.Plo\n",
            "/bin/bash ../../libtool --tag=CC   --mode=compile gcc -DHAVE_CONFIG_H -I. -I../../include  -I../ta_common/   -g -O2 -MT ta_STOCHF.lo -MD -MP -MF .deps/ta_STOCHF.Tpo -c -o ta_STOCHF.lo ta_STOCHF.c\n",
            " gcc -DHAVE_CONFIG_H -I. -I../../include -I../ta_common/ -g -O2 -MT ta_STOCHF.lo -MD -MP -MF .deps/ta_STOCHF.Tpo -c ta_STOCHF.c  -fPIC -DPIC -o .libs/ta_STOCHF.o\n",
            " gcc -DHAVE_CONFIG_H -I. -I../../include -I../ta_common/ -g -O2 -MT ta_STOCHF.lo -MD -MP -MF .deps/ta_STOCHF.Tpo -c ta_STOCHF.c -o ta_STOCHF.o >/dev/null 2>&1\n",
            "mv -f .deps/ta_STOCHF.Tpo .deps/ta_STOCHF.Plo\n",
            "/bin/bash ../../libtool --tag=CC   --mode=compile gcc -DHAVE_CONFIG_H -I. -I../../include  -I../ta_common/   -g -O2 -MT ta_STOCHRSI.lo -MD -MP -MF .deps/ta_STOCHRSI.Tpo -c -o ta_STOCHRSI.lo ta_STOCHRSI.c\n",
            " gcc -DHAVE_CONFIG_H -I. -I../../include -I../ta_common/ -g -O2 -MT ta_STOCHRSI.lo -MD -MP -MF .deps/ta_STOCHRSI.Tpo -c ta_STOCHRSI.c  -fPIC -DPIC -o .libs/ta_STOCHRSI.o\n",
            " gcc -DHAVE_CONFIG_H -I. -I../../include -I../ta_common/ -g -O2 -MT ta_STOCHRSI.lo -MD -MP -MF .deps/ta_STOCHRSI.Tpo -c ta_STOCHRSI.c -o ta_STOCHRSI.o >/dev/null 2>&1\n",
            "mv -f .deps/ta_STOCHRSI.Tpo .deps/ta_STOCHRSI.Plo\n",
            "/bin/bash ../../libtool --tag=CC   --mode=compile gcc -DHAVE_CONFIG_H -I. -I../../include  -I../ta_common/   -g -O2 -MT ta_SUB.lo -MD -MP -MF .deps/ta_SUB.Tpo -c -o ta_SUB.lo ta_SUB.c\n",
            " gcc -DHAVE_CONFIG_H -I. -I../../include -I../ta_common/ -g -O2 -MT ta_SUB.lo -MD -MP -MF .deps/ta_SUB.Tpo -c ta_SUB.c  -fPIC -DPIC -o .libs/ta_SUB.o\n",
            " gcc -DHAVE_CONFIG_H -I. -I../../include -I../ta_common/ -g -O2 -MT ta_SUB.lo -MD -MP -MF .deps/ta_SUB.Tpo -c ta_SUB.c -o ta_SUB.o >/dev/null 2>&1\n",
            "mv -f .deps/ta_SUB.Tpo .deps/ta_SUB.Plo\n",
            "/bin/bash ../../libtool --tag=CC   --mode=compile gcc -DHAVE_CONFIG_H -I. -I../../include  -I../ta_common/   -g -O2 -MT ta_SUM.lo -MD -MP -MF .deps/ta_SUM.Tpo -c -o ta_SUM.lo ta_SUM.c\n",
            " gcc -DHAVE_CONFIG_H -I. -I../../include -I../ta_common/ -g -O2 -MT ta_SUM.lo -MD -MP -MF .deps/ta_SUM.Tpo -c ta_SUM.c  -fPIC -DPIC -o .libs/ta_SUM.o\n",
            " gcc -DHAVE_CONFIG_H -I. -I../../include -I../ta_common/ -g -O2 -MT ta_SUM.lo -MD -MP -MF .deps/ta_SUM.Tpo -c ta_SUM.c -o ta_SUM.o >/dev/null 2>&1\n",
            "mv -f .deps/ta_SUM.Tpo .deps/ta_SUM.Plo\n",
            "/bin/bash ../../libtool --tag=CC   --mode=compile gcc -DHAVE_CONFIG_H -I. -I../../include  -I../ta_common/   -g -O2 -MT ta_T3.lo -MD -MP -MF .deps/ta_T3.Tpo -c -o ta_T3.lo ta_T3.c\n",
            " gcc -DHAVE_CONFIG_H -I. -I../../include -I../ta_common/ -g -O2 -MT ta_T3.lo -MD -MP -MF .deps/ta_T3.Tpo -c ta_T3.c  -fPIC -DPIC -o .libs/ta_T3.o\n",
            " gcc -DHAVE_CONFIG_H -I. -I../../include -I../ta_common/ -g -O2 -MT ta_T3.lo -MD -MP -MF .deps/ta_T3.Tpo -c ta_T3.c -o ta_T3.o >/dev/null 2>&1\n",
            "mv -f .deps/ta_T3.Tpo .deps/ta_T3.Plo\n",
            "/bin/bash ../../libtool --tag=CC   --mode=compile gcc -DHAVE_CONFIG_H -I. -I../../include  -I../ta_common/   -g -O2 -MT ta_TAN.lo -MD -MP -MF .deps/ta_TAN.Tpo -c -o ta_TAN.lo ta_TAN.c\n",
            " gcc -DHAVE_CONFIG_H -I. -I../../include -I../ta_common/ -g -O2 -MT ta_TAN.lo -MD -MP -MF .deps/ta_TAN.Tpo -c ta_TAN.c  -fPIC -DPIC -o .libs/ta_TAN.o\n",
            " gcc -DHAVE_CONFIG_H -I. -I../../include -I../ta_common/ -g -O2 -MT ta_TAN.lo -MD -MP -MF .deps/ta_TAN.Tpo -c ta_TAN.c -o ta_TAN.o >/dev/null 2>&1\n",
            "mv -f .deps/ta_TAN.Tpo .deps/ta_TAN.Plo\n",
            "/bin/bash ../../libtool --tag=CC   --mode=compile gcc -DHAVE_CONFIG_H -I. -I../../include  -I../ta_common/   -g -O2 -MT ta_TANH.lo -MD -MP -MF .deps/ta_TANH.Tpo -c -o ta_TANH.lo ta_TANH.c\n",
            " gcc -DHAVE_CONFIG_H -I. -I../../include -I../ta_common/ -g -O2 -MT ta_TANH.lo -MD -MP -MF .deps/ta_TANH.Tpo -c ta_TANH.c  -fPIC -DPIC -o .libs/ta_TANH.o\n",
            " gcc -DHAVE_CONFIG_H -I. -I../../include -I../ta_common/ -g -O2 -MT ta_TANH.lo -MD -MP -MF .deps/ta_TANH.Tpo -c ta_TANH.c -o ta_TANH.o >/dev/null 2>&1\n",
            "mv -f .deps/ta_TANH.Tpo .deps/ta_TANH.Plo\n",
            "/bin/bash ../../libtool --tag=CC   --mode=compile gcc -DHAVE_CONFIG_H -I. -I../../include  -I../ta_common/   -g -O2 -MT ta_TEMA.lo -MD -MP -MF .deps/ta_TEMA.Tpo -c -o ta_TEMA.lo ta_TEMA.c\n",
            " gcc -DHAVE_CONFIG_H -I. -I../../include -I../ta_common/ -g -O2 -MT ta_TEMA.lo -MD -MP -MF .deps/ta_TEMA.Tpo -c ta_TEMA.c  -fPIC -DPIC -o .libs/ta_TEMA.o\n",
            " gcc -DHAVE_CONFIG_H -I. -I../../include -I../ta_common/ -g -O2 -MT ta_TEMA.lo -MD -MP -MF .deps/ta_TEMA.Tpo -c ta_TEMA.c -o ta_TEMA.o >/dev/null 2>&1\n",
            "mv -f .deps/ta_TEMA.Tpo .deps/ta_TEMA.Plo\n",
            "/bin/bash ../../libtool --tag=CC   --mode=compile gcc -DHAVE_CONFIG_H -I. -I../../include  -I../ta_common/   -g -O2 -MT ta_TRANGE.lo -MD -MP -MF .deps/ta_TRANGE.Tpo -c -o ta_TRANGE.lo ta_TRANGE.c\n",
            " gcc -DHAVE_CONFIG_H -I. -I../../include -I../ta_common/ -g -O2 -MT ta_TRANGE.lo -MD -MP -MF .deps/ta_TRANGE.Tpo -c ta_TRANGE.c  -fPIC -DPIC -o .libs/ta_TRANGE.o\n",
            " gcc -DHAVE_CONFIG_H -I. -I../../include -I../ta_common/ -g -O2 -MT ta_TRANGE.lo -MD -MP -MF .deps/ta_TRANGE.Tpo -c ta_TRANGE.c -o ta_TRANGE.o >/dev/null 2>&1\n",
            "mv -f .deps/ta_TRANGE.Tpo .deps/ta_TRANGE.Plo\n",
            "/bin/bash ../../libtool --tag=CC   --mode=compile gcc -DHAVE_CONFIG_H -I. -I../../include  -I../ta_common/   -g -O2 -MT ta_TRIMA.lo -MD -MP -MF .deps/ta_TRIMA.Tpo -c -o ta_TRIMA.lo ta_TRIMA.c\n",
            " gcc -DHAVE_CONFIG_H -I. -I../../include -I../ta_common/ -g -O2 -MT ta_TRIMA.lo -MD -MP -MF .deps/ta_TRIMA.Tpo -c ta_TRIMA.c  -fPIC -DPIC -o .libs/ta_TRIMA.o\n",
            " gcc -DHAVE_CONFIG_H -I. -I../../include -I../ta_common/ -g -O2 -MT ta_TRIMA.lo -MD -MP -MF .deps/ta_TRIMA.Tpo -c ta_TRIMA.c -o ta_TRIMA.o >/dev/null 2>&1\n",
            "mv -f .deps/ta_TRIMA.Tpo .deps/ta_TRIMA.Plo\n",
            "/bin/bash ../../libtool --tag=CC   --mode=compile gcc -DHAVE_CONFIG_H -I. -I../../include  -I../ta_common/   -g -O2 -MT ta_TRIX.lo -MD -MP -MF .deps/ta_TRIX.Tpo -c -o ta_TRIX.lo ta_TRIX.c\n",
            " gcc -DHAVE_CONFIG_H -I. -I../../include -I../ta_common/ -g -O2 -MT ta_TRIX.lo -MD -MP -MF .deps/ta_TRIX.Tpo -c ta_TRIX.c  -fPIC -DPIC -o .libs/ta_TRIX.o\n",
            " gcc -DHAVE_CONFIG_H -I. -I../../include -I../ta_common/ -g -O2 -MT ta_TRIX.lo -MD -MP -MF .deps/ta_TRIX.Tpo -c ta_TRIX.c -o ta_TRIX.o >/dev/null 2>&1\n",
            "mv -f .deps/ta_TRIX.Tpo .deps/ta_TRIX.Plo\n",
            "/bin/bash ../../libtool --tag=CC   --mode=compile gcc -DHAVE_CONFIG_H -I. -I../../include  -I../ta_common/   -g -O2 -MT ta_TSF.lo -MD -MP -MF .deps/ta_TSF.Tpo -c -o ta_TSF.lo ta_TSF.c\n",
            " gcc -DHAVE_CONFIG_H -I. -I../../include -I../ta_common/ -g -O2 -MT ta_TSF.lo -MD -MP -MF .deps/ta_TSF.Tpo -c ta_TSF.c  -fPIC -DPIC -o .libs/ta_TSF.o\n",
            " gcc -DHAVE_CONFIG_H -I. -I../../include -I../ta_common/ -g -O2 -MT ta_TSF.lo -MD -MP -MF .deps/ta_TSF.Tpo -c ta_TSF.c -o ta_TSF.o >/dev/null 2>&1\n",
            "mv -f .deps/ta_TSF.Tpo .deps/ta_TSF.Plo\n",
            "/bin/bash ../../libtool --tag=CC   --mode=compile gcc -DHAVE_CONFIG_H -I. -I../../include  -I../ta_common/   -g -O2 -MT ta_TYPPRICE.lo -MD -MP -MF .deps/ta_TYPPRICE.Tpo -c -o ta_TYPPRICE.lo ta_TYPPRICE.c\n"
          ]
        }
      ]
    },
    {
      "cell_type": "code",
      "source": [
        "import matplotlib.pyplot as plt\n",
        "import pandas as pd\n",
        "import bt\n",
        "import yfinance as yf\n",
        "import plotly.graph_objects as go"
      ],
      "metadata": {
        "id": "JLudc5KSkY5v"
      },
      "execution_count": null,
      "outputs": []
    },
    {
      "cell_type": "code",
      "source": [
        "start_date = '2021-02-10'\n",
        "end_date = '2024-02-10'\n",
        "ticker_symbol = 'UBER'\n",
        "\n",
        "# Download historical price data\n",
        "uber_data = yf.download(ticker_symbol, start=start_date, end=end_date)\n",
        "uber_data_bt= bt.get(ticker_symbol, start=start_date, end=end_date)"
      ],
      "metadata": {
        "id": "QXzb3gwBDYmA"
      },
      "execution_count": null,
      "outputs": []
    },
    {
      "cell_type": "code",
      "source": [
        "uber_data_bt.head()"
      ],
      "metadata": {
        "id": "t8aH4sG0Sv0k"
      },
      "execution_count": null,
      "outputs": []
    },
    {
      "cell_type": "code",
      "source": [
        "uber_data.head()"
      ],
      "metadata": {
        "id": "N4dOdyJmC4n6"
      },
      "execution_count": null,
      "outputs": []
    },
    {
      "cell_type": "code",
      "source": [
        "#Lets plot the Closing price\n",
        "plt.plot(uber_data['Close'], color='red')\n",
        "plt.title(\"Daily close price\")\n",
        "plt.show()\n"
      ],
      "metadata": {
        "id": "TPKCfnougNEE"
      },
      "execution_count": null,
      "outputs": []
    },
    {
      "cell_type": "markdown",
      "source": [
        "**Candlesticks for the stocks**"
      ],
      "metadata": {
        "id": "27HLpX8BiDkf"
      }
    },
    {
      "cell_type": "code",
      "source": [
        "# Define the candlestick\n",
        "candlestick = go.Candlestick(x = uber_data.index,open = uber_data['Open'],\n",
        "                             high = uber_data['High'],\n",
        "                             low = uber_data['Low'],\n",
        "                             close = uber_data['Close'])\n",
        "# Create a plot\n",
        "fig = go.Figure(data=[candlestick])\n",
        "# Show the plot\n",
        "fig.show()\n"
      ],
      "metadata": {
        "id": "tSrC2G3Kg1Aw"
      },
      "execution_count": null,
      "outputs": []
    },
    {
      "cell_type": "markdown",
      "source": [
        "**Different types of traders**\n",
        "\n",
        "\n",
        "Day Trader:holds positions throughout the day but usually not overnight<br>\n",
        "Swing Trader:holds positions from a few days to several weeks <br>\n",
        "Position Trader:holds positions from a few months to several years\n"
      ],
      "metadata": {
        "id": "v6XTxsfXmpzr"
      }
    },
    {
      "cell_type": "markdown",
      "source": [
        "Let us have an overview of the data"
      ],
      "metadata": {
        "id": "wGUrfnc09xO-"
      }
    },
    {
      "cell_type": "code",
      "source": [
        "uber_daily = uber_data.resample('D').mean()\n",
        "print(uber_daily)"
      ],
      "metadata": {
        "id": "OK1EUMWlnRF4"
      },
      "execution_count": null,
      "outputs": []
    },
    {
      "cell_type": "code",
      "source": [
        "uber_weekly = uber_data.resample('w').mean()\n",
        "print(uber_weekly.head())"
      ],
      "metadata": {
        "id": "iae-CtbpoNZs"
      },
      "execution_count": null,
      "outputs": []
    },
    {
      "cell_type": "code",
      "source": [
        "#Calculate Daily returns\n",
        "uber_data['daily_returns']=uber_data['Close'].pct_change()*100\n",
        "print(uber_data.head())"
      ],
      "metadata": {
        "id": "Rss9t7droWIm"
      },
      "execution_count": null,
      "outputs": []
    },
    {
      "cell_type": "code",
      "source": [
        "#Plot the data\n",
        "plt.plot(uber_data['daily_returns'])\n",
        "plt.show()"
      ],
      "metadata": {
        "id": "wPNJTZyVo09i"
      },
      "execution_count": null,
      "outputs": []
    },
    {
      "cell_type": "code",
      "source": [
        "#plot the histogram\n",
        "uber_data['daily_returns'].hist(bins=100)\n",
        "plt.show()"
      ],
      "metadata": {
        "id": "l9f_GQ6fpTW7"
      },
      "execution_count": null,
      "outputs": []
    },
    {
      "cell_type": "markdown",
      "source": [
        "<h1>Technical indicators\n",
        "\n",
        "Useful tools for constructing trading signals and building strategies.<br>\n",
        "\n",
        "<h1>\n",
        "\n",
        "\n",
        "**What are technical indicators?**<br>\n",
        "Mathematical calculations based on historical market data<br>\n",
        "Assume the market is efficient and the price has incorporated all public information <br>\n",
        "Help traders to gain insight into past price patterns<br>\n"
      ],
      "metadata": {
        "id": "rfJSLab0wYt2"
      }
    },
    {
      "cell_type": "markdown",
      "source": [
        "<h2>Types of indicators<h2>\n",
        "\n"
      ],
      "metadata": {
        "id": "q5e-HSP70lXP"
      }
    },
    {
      "cell_type": "markdown",
      "source": [
        "# New Section\n",
        "\n",
        "\n",
        "\n",
        "1.  **Trend indicators**: measure the direction or strength of a trend<br>\n",
        "Example:Movingaverages(MA),Average Directional Movement Index(ADX)<br>\n",
        "2.   **Momentum indicators**: measure the velocity of price movement Example: Relative Strength Index(RSI)<br>\n",
        "3. **Volatility indicators**:measure the magnitude of price deviations Example: Bollinger Bands"
      ],
      "metadata": {
        "id": "UYk9aSDFu_iy"
      }
    },
    {
      "cell_type": "markdown",
      "source": [
        "**Example of a trend indicator using the SMA for a  rolling period of 50**"
      ],
      "metadata": {
        "id": "PrdfW2UhsOJf"
      }
    },
    {
      "cell_type": "code",
      "source": [
        "uber_data['sma_50'] = uber_data['Close'].rolling(window=50).mean()\n",
        "print(uber_data.head())"
      ],
      "metadata": {
        "id": "qUnKweZMvaa6"
      },
      "execution_count": null,
      "outputs": []
    },
    {
      "cell_type": "code",
      "source": [
        "#Plot the rolling average\n",
        "plt.plot(uber_data['Close'],label='Close')\n",
        "plt.plot(uber_data['sma_50'],label='SMA_50')\n",
        "plt.legend()\n",
        "plt.show()\n"
      ],
      "metadata": {
        "id": "EhC9yg8yw7wY"
      },
      "execution_count": null,
      "outputs": []
    },
    {
      "cell_type": "markdown",
      "source": [
        "**What are trading signals?**<br>\n",
        "Triggers to long or short financial assets based on predetermined criteria<br>\n",
        "Can be constructed using:\n",
        "\n",
        "\n",
        "1.   One technical indicator\n",
        "2.   Multiple technical indicators\n",
        "\n",
        "\n",
        "A combination of market data and indicators.<br>\n",
        "Commonly used in algorithmic trading.\n"
      ],
      "metadata": {
        "id": "FTtYsfhC61Yb"
      }
    },
    {
      "cell_type": "markdown",
      "source": [
        "<h3> Moving average indicators(type of trend indicator)<h3>\n",
        "\n",
        "\n",
        "1.   Simple moving average Indicators\n",
        "2.   Exponential Moving average\n",
        "\n",
        "\n",
        "Difference between SMA and EMA <br>\n",
        "\n",
        "*SMA*\n",
        "1.  SMA moves the price.\n",
        "\n",
        "2.  Smooths out the data to better indicate the price direction\n",
        "\n",
        "3.  SMA assigns equals weight to all data points.\n",
        "\n",
        "*EMA*\n",
        "\n",
        "1.   Exponentially Weighted average<br>\n",
        "2.   EMA gives more weight to the recent price movement\n",
        "\n",
        "\n"
      ],
      "metadata": {
        "id": "2dbhiECPyBk3"
      }
    },
    {
      "cell_type": "markdown",
      "source": [
        "**1. SMA-Based signal strategy**"
      ],
      "metadata": {
        "id": "XuS1IPubjRbZ"
      }
    },
    {
      "cell_type": "markdown",
      "source": [
        "This trading strategy is used when trading one stock at a time or one asset when trading multiple stocks or assets their price correlations are important for proper position sizing and asset  allocation"
      ],
      "metadata": {
        "id": "ShG9TilJdhtI"
      }
    },
    {
      "cell_type": "code",
      "source": [
        "uber_data.head()"
      ],
      "metadata": {
        "id": "evgyBjhgNpMc"
      },
      "execution_count": null,
      "outputs": []
    },
    {
      "cell_type": "code",
      "source": [
        "#construct the signal\n",
        "sma=uber_data_bt.rolling(30).mean()"
      ],
      "metadata": {
        "id": "AP4SplincxOd"
      },
      "execution_count": null,
      "outputs": []
    },
    {
      "cell_type": "code",
      "source": [
        "sma"
      ],
      "metadata": {
        "id": "oDbQ4HrkRwfY"
      },
      "execution_count": null,
      "outputs": []
    },
    {
      "cell_type": "markdown",
      "source": [
        "Apply the signal to the strategy"
      ],
      "metadata": {
        "id": "O48jSs5Ccpx9"
      }
    },
    {
      "cell_type": "code",
      "source": [
        "#Define  a signal based strategy\n",
        "bt_strategy= bt.Strategy('AboveSMA',\n",
        "                         [bt.algos.SelectWhere(uber_data_bt > sma),\n",
        "                          bt.algos.WeighEqually(),\n",
        "                          bt.algos.Rebalance()])"
      ],
      "metadata": {
        "id": "5Med5E6dbUkB"
      },
      "execution_count": null,
      "outputs": []
    },
    {
      "cell_type": "markdown",
      "source": [
        "**If the prices rise above the sma a long signal is triggered to enter long positions of the asset**"
      ],
      "metadata": {
        "id": "oSHT3QkXc7QG"
      }
    },
    {
      "cell_type": "markdown",
      "source": [
        "Once the strategy is defined create and run a backtest to see how it performs"
      ],
      "metadata": {
        "id": "QMXHaKkaegl9"
      }
    },
    {
      "cell_type": "code",
      "source": [
        "#Create the backtest and run it\n",
        "bt_backtest = bt.Backtest(bt_strategy, uber_data_bt)\n",
        "bt_results = bt.run(bt_backtest)"
      ],
      "metadata": {
        "id": "oJPTDBS7ettZ"
      },
      "execution_count": null,
      "outputs": []
    },
    {
      "cell_type": "markdown",
      "source": [
        "Plot and review the backtest result"
      ],
      "metadata": {
        "id": "O3cjTNTTfGou"
      }
    },
    {
      "cell_type": "code",
      "source": [
        "bt_results.plot(title='Backtest Result')"
      ],
      "metadata": {
        "id": "LCiBLsdwfK7k"
      },
      "execution_count": null,
      "outputs": []
    },
    {
      "cell_type": "markdown",
      "source": [
        "The flat line areas indicate periods when we do not have any positions so the trading balance does not change"
      ],
      "metadata": {
        "id": "cj5YkooJf1Lg"
      }
    },
    {
      "cell_type": "markdown",
      "source": [
        "**2. Lets create a strategy using EMA**\n"
      ],
      "metadata": {
        "id": "zLNgZ8sQiSqc"
      }
    },
    {
      "cell_type": "markdown",
      "source": [
        "However, you are wondering whether the EMA (exponential moving average) indicator is a better choice since it is more sensitive to recent price movement."
      ],
      "metadata": {
        "id": "FILBzIaygwlk"
      }
    },
    {
      "cell_type": "markdown",
      "source": [
        "Exponentially Weighted average<br>\n",
        "EMA gives more weight to the recent price movement"
      ],
      "metadata": {
        "id": "Grl_YNVywfq4"
      }
    },
    {
      "cell_type": "code",
      "source": [
        "print(uber_data.head())"
      ],
      "metadata": {
        "id": "9-qVeuxvEmWU"
      },
      "execution_count": null,
      "outputs": []
    },
    {
      "cell_type": "markdown",
      "source": [
        "**3. Trend following Strategies**"
      ],
      "metadata": {
        "id": "0eqboUSJjplM"
      }
    },
    {
      "cell_type": "markdown",
      "source": [
        "**Two types of trading strategies**<br>\n",
        "**1. Trend-following**<br> Bet the price trend will continue in the\n",
        "same direction Use trend indicators such as moving averages,ADX,etc to construct trading signals <br>\n",
        "\n"
      ],
      "metadata": {
        "id": "5Vi4pNb5958j"
      }
    },
    {
      "cell_type": "markdown",
      "source": [
        "**MA cross over strategy** <br>\n",
        "The trend is your friend.<br>\n",
        "**Two EMA crossover:**<br>\n",
        "Long signal: the short-term EMA crosses above the long-term EMA <br>\n",
        "Short signal:the short-term EMA crosses below the long-termEMA\n",
        "\n",
        "\n",
        "\n"
      ],
      "metadata": {
        "id": "l3lE78JZ--hX"
      }
    },
    {
      "cell_type": "code",
      "source": [
        "# Calculate the indicators\n",
        "EMA_short = talib.EMA(uber_data['Close'],\n",
        "                       timeperiod=10).to_frame()\n",
        "EMA_long = talib.EMA(uber_data['Close'],\n",
        "                    timeperiod=40).to_frame()\n"
      ],
      "metadata": {
        "id": "kKtsG6NGySAz"
      },
      "execution_count": null,
      "outputs": []
    },
    {
      "cell_type": "code",
      "source": [
        "#Construct the signal\n",
        "signal = EMA_long.copy()\n",
        "signal[EMA_long.isnull()] = 0\n",
        "# Construct the signal\n",
        "signal[EMA_short > EMA_long] = 1\n",
        "signal[EMA_short < EMA_long] = -1\n"
      ],
      "metadata": {
        "id": "mCrEjH6IAoV1"
      },
      "execution_count": null,
      "outputs": []
    },
    {
      "cell_type": "code",
      "source": [
        "signal.tail(20)"
      ],
      "metadata": {
        "id": "VxdZNDeoWvBk"
      },
      "execution_count": null,
      "outputs": []
    },
    {
      "cell_type": "code",
      "source": [
        "# Plot the signal, price and MAs\n",
        "combined_df = bt.merge(signal, uber_data['Close'], EMA_short, EMA_long)\n",
        "combined_df.columns = ['Signal', 'Price', 'EMA_short', 'EMA_long']\n",
        "combined_df.plot(secondary_y=['Signal'])\n"
      ],
      "metadata": {
        "id": "2tWvC-KGLJIM"
      },
      "execution_count": null,
      "outputs": []
    },
    {
      "cell_type": "code",
      "source": [
        "# Define the strategy\n",
        "bt_strategy = bt.Strategy('EMA_crossover',\n",
        "                          [bt.algos.WeighTarget(signal),\n",
        "                           bt.algos.Rebalance()])\n"
      ],
      "metadata": {
        "id": "6LPbzs8C4775"
      },
      "execution_count": null,
      "outputs": []
    },
    {
      "cell_type": "markdown",
      "source": [
        "**Backtest the signal based strategy**"
      ],
      "metadata": {
        "id": "TSKvT_qp5Qjt"
      }
    },
    {
      "cell_type": "code",
      "source": [
        "# Create the backtest and run it\n",
        "bt_backtest = bt.Backtest(bt_strategy, EMA_long)\n",
        "bt_results1 = bt.run(bt_backtest)\n"
      ],
      "metadata": {
        "id": "-qdJ-wqF5IKk"
      },
      "execution_count": null,
      "outputs": []
    },
    {
      "cell_type": "code",
      "source": [
        "# Plot the backtest result\n",
        "bt_results1.plot(title='Backtest result')"
      ],
      "metadata": {
        "id": "6a5duUHz7EXP"
      },
      "execution_count": null,
      "outputs": []
    },
    {
      "cell_type": "markdown",
      "source": [
        "**2. Mean reversion strategy** the second trend following strategy.\n"
      ],
      "metadata": {
        "id": "TEvEAZlYj6XC"
      }
    },
    {
      "cell_type": "markdown",
      "source": [
        "**Mean Reversion strategy**: Bet the price trends to reverse back towards the mean Use indicators such as RSI,BollingerBands,etc,to construct tradingsignals"
      ],
      "metadata": {
        "id": "PdoW6HRBhEAb"
      }
    },
    {
      "cell_type": "markdown",
      "source": [
        "**RSI-based mean reversion strategy:**<br>\n",
        "\n",
        "Measures the momentum of a trend (The speed of rising or falling prices)<br>\n",
        "Shortsignal: RSI>70 Suggests the asset is likely over bought and the price may soon reverse<br>\n",
        "Long signal: RSI<30 Suggests the asset is likely over sold and the price may soon rally<br><br>\n",
        "\n",
        "**The longer the lookback window the less senstive the RSI is to price fluctuations**\n"
      ],
      "metadata": {
        "id": "N35btAEChYaZ"
      }
    },
    {
      "cell_type": "code",
      "source": [
        "#Calculate the RSI\n",
        "uber_rsi = talib.RSI(uber_data['Close']).to_frame()\n"
      ],
      "metadata": {
        "id": "pKZ_q_oPhLTC"
      },
      "execution_count": null,
      "outputs": []
    },
    {
      "cell_type": "markdown",
      "source": [
        "**Construct the signal**"
      ],
      "metadata": {
        "id": "qZsL4W3hibIv"
      }
    },
    {
      "cell_type": "code",
      "source": [
        "# Create the same DataFrame structure as RSI\n",
        "signal = uber_rsi.copy()\n",
        "signal[uber_rsi.isnull()] = 0\n",
        "# Construct the signal\n",
        "signal[uber_rsi < 30] = 1\n",
        "signal[uber_rsi > 70] = -1\n",
        "signal[(uber_rsi <= 70) & (uber_rsi >= 30)] = 0\n"
      ],
      "metadata": {
        "id": "NR1V4_-wiN-v"
      },
      "execution_count": null,
      "outputs": []
    },
    {
      "cell_type": "markdown",
      "source": [
        "**Plot the signal**"
      ],
      "metadata": {
        "id": "pG9GgoVYi01w"
      }
    },
    {
      "cell_type": "code",
      "source": [
        "# Create subplots\n",
        "fig, (ax1, ax2) = plt.subplots(2)\n",
        "# Plot RSI with the price\n",
        "ax1.set_ylabel('Price')\n",
        "ax1.plot(uber_daily['Close'])\n",
        "ax2.set_ylabel('RSI')\n",
        "ax2.plot(uber_rsi, color='orangered')\n",
        "\n",
        "ax1.set_title('Price and RSI')\n",
        "plt.show()"
      ],
      "metadata": {
        "id": "WMECpjSV6xPP"
      },
      "execution_count": null,
      "outputs": []
    },
    {
      "cell_type": "code",
      "source": [
        "uber_rsi.plot()\n",
        "plt.title('RSI')"
      ],
      "metadata": {
        "id": "j51ak4Qti4Pv"
      },
      "execution_count": null,
      "outputs": []
    },
    {
      "cell_type": "code",
      "source": [
        "# Merge data into one DataFrame\n",
        "combined_df = bt.merge(signal, uber_data['Close'])\n",
        "combined_df.columns = ['Signal', 'Price']\n",
        "# Plot the signal with price\n",
        "combined_df.plot(secondary_y = ['Signal'])\n"
      ],
      "metadata": {
        "id": "SbdoA4V_jRHY"
      },
      "execution_count": null,
      "outputs": []
    },
    {
      "cell_type": "code",
      "source": [
        "# Define the strategy\n",
        "bt_strategy = bt.Strategy('RSI_MeanReversion',\n",
        "                          [bt.algos.WeighTarget(signal),\n",
        "                           bt.algos.Rebalance()])"
      ],
      "metadata": {
        "id": "BYjHmeITqtfh"
      },
      "execution_count": null,
      "outputs": []
    },
    {
      "cell_type": "code",
      "source": [
        "# Create the backtest and run it\n",
        "bt_backtest = bt.Backtest(bt_strategy, uber_rsi)\n",
        "bt_results2 = bt.run(bt_backtest)\n",
        "bt_results2.plot()"
      ],
      "metadata": {
        "id": "f6st0gPrnmc0"
      },
      "execution_count": null,
      "outputs": []
    },
    {
      "cell_type": "markdown",
      "source": [
        "**The flat points Indicate that no trading was taking place hence the balance of price remains the same**"
      ],
      "metadata": {
        "id": "kjkz6GzU2FMa"
      }
    },
    {
      "cell_type": "markdown",
      "source": [
        "**Strategy optimization** <br>\n",
        "We need to find out which input parameter values will give us the best strategy performance based on our historical data"
      ],
      "metadata": {
        "id": "-Wcuyujr2FIy"
      }
    },
    {
      "cell_type": "markdown",
      "source": [
        "Which lookback period should we use for SMA that can optimize the strategy performance. We run multiple backtests on different input parameters. Also, We want the capability to assess the strategy on trading different stocks or based on different historical periods"
      ],
      "metadata": {
        "id": "WMiGto_1nZzv"
      }
    },
    {
      "cell_type": "markdown",
      "source": [
        "I created a function, signal_strategy to calculate sma using price_data based on a given period. <br>\n",
        "Defined a signal strategy by comparing price_data and sma, and return a bt backtest."
      ],
      "metadata": {
        "id": "ZM8eJ5YzoucW"
      }
    },
    {
      "cell_type": "code",
      "source": [
        "def signal_strategy(uber_data_bt, period, name):\n",
        "    # Calculate SMA\n",
        "    sma = uber_data_bt.rolling(period).mean()\n",
        "    # Define the signal-based Strategy\n",
        "    bt_strategy = bt.Strategy(name,\n",
        "                              [bt.algos.SelectWhere(uber_data_bt>sma),\n",
        "                               bt.algos.WeighEqually(),\n",
        "                               bt.algos.Rebalance()])\n",
        "    # Return the backtest\n",
        "    return bt.Backtest(bt_strategy, uber_data_bt)"
      ],
      "metadata": {
        "id": "Sl8E6ss1x690"
      },
      "execution_count": null,
      "outputs": []
    },
    {
      "cell_type": "markdown",
      "source": [
        "Call the function signal_strategy three times, and each time set period to 20, 30, and 50 respectively and save the results."
      ],
      "metadata": {
        "id": "wpmq_BD6pJ_i"
      }
    },
    {
      "cell_type": "markdown",
      "source": [
        "Run all backtests sma20, sma30, sma50 (in that order), and plot the results."
      ],
      "metadata": {
        "id": "vBFoOZGYpbgO"
      }
    },
    {
      "cell_type": "code",
      "source": [
        "# Create signal strategy backtest\n",
        "sma20 = signal_strategy(uber_data_bt, period=20, name='SMA20')\n",
        "sma30 = signal_strategy(uber_data_bt, period=30, name='SMA30')\n",
        "sma50 = signal_strategy(uber_data_bt, period=50, name='SMA50')\n",
        "\n",
        "# Run all backtests and plot the resutls\n",
        "bt_results3 = bt.run(sma20,sma30,sma50)\n",
        "bt_results3.plot(title='Strategy optimization')\n",
        "plt.show()"
      ],
      "metadata": {
        "id": "JpCyJUaTpdVr"
      },
      "execution_count": null,
      "outputs": []
    },
    {
      "cell_type": "markdown",
      "source": [
        "Based on the backtest results, using SMA in the strategy to trade the Uber stock is Fairly same for all the lookback periods the market moves side ways most of the time. However, using a lookback period of 30 days serves better than the rest. The fast moving average is quick to capture the trend, but also quick to react to the market noise when there is no trend."
      ],
      "metadata": {
        "id": "6jYI17nvrGBr"
      }
    },
    {
      "cell_type": "markdown",
      "source": [
        "**Perform a strategy benchmarking**"
      ],
      "metadata": {
        "id": "dRXexBhlzRv_"
      }
    },
    {
      "cell_type": "markdown",
      "source": [
        "*Instead of spending energy actively trading a stock, what if we just sit back and hold the stock for a period of time. Does my active trading strategy generate better profits than a passive buy-and-hold strategy*"
      ],
      "metadata": {
        "id": "--B4XoW9zckN"
      }
    },
    {
      "cell_type": "markdown",
      "source": [
        "*Define a passive buy and hold strategy, and return a bt backtest*"
      ],
      "metadata": {
        "id": "agIUKEpxz0DT"
      }
    },
    {
      "cell_type": "code",
      "source": [
        "def buy_and_hold(uber_data_bt, name):\n",
        "    # Define the benchmark strategy\n",
        "    bt_strategy = bt.Strategy(name,\n",
        "                              [bt.algos.RunOnce(),\n",
        "                               bt.algos.SelectAll(),\n",
        "                               bt.algos.WeighEqually(),\n",
        "                               bt.algos.Rebalance()])\n",
        "    # Return the backtest\n",
        "    return bt.Backtest(bt_strategy, uber_data_bt)"
      ],
      "metadata": {
        "id": "5MEOdJtnzbem"
      },
      "execution_count": 186,
      "outputs": []
    },
    {
      "cell_type": "code",
      "source": [
        "# Create benchmark strategy backtest\n",
        "benchmark = buy_and_hold(uber_data_bt, name='benchmark')\n",
        "\n",
        "# Run all backtests and plot the resutls\n",
        "bt_result = bt.run(sma20, sma30, sma50, benchmark)\n",
        "bt_result.plot(title='Strategy benchmarking')\n",
        "plt.show()"
      ],
      "metadata": {
        "colab": {
          "base_uri": "https://localhost:8080/",
          "height": 449
        },
        "id": "7gKL14bXzFEN",
        "outputId": "407c4f67-1bef-4756-9391-1513b9f10b66"
      },
      "execution_count": 187,
      "outputs": [
        {
          "data": {
            "image/png": "[encoded data removed]",
            "text/plain": [
              "<Figure size 1500x500 with 1 Axes>"
            ]
          },
          "metadata": {},
          "output_type": "display_data"
        }
      ]
    },
    {
      "cell_type": "markdown",
      "source": [
        "*The backtest results suggest the signal-based strategy outperformed the benchmark buy-and-hold strategy (red line)*"
      ],
      "metadata": {
        "id": "nuIHKoET0PUT"
      }
    },
    {
      "cell_type": "markdown",
      "source": [
        "**Strategy optimization and benchmarking for RSI trading strategy and EMA crossover trading strategy**"
      ],
      "metadata": {
        "id": "ZB2OuVYa08tw"
      }
    },
    {
      "cell_type": "code",
      "source": [
        "\n",
        "# Calculate SMA\n",
        "sma_period = 30\n",
        "uber_data['SMA'] = uber_data['Close'].rolling(sma_period).mean()\n",
        "\n",
        "# Calculate EMA\n",
        "ema_short_period = 10\n",
        "ema_long_period = 40\n",
        "uber_data['EMA_short'] = talib.EMA(uber_data['Close'], timeperiod=ema_short_period)\n",
        "uber_data['EMA_long'] = talib.EMA(uber_data['Close'], timeperiod=ema_long_period)\n",
        "\n",
        "# Calculate RSI\n",
        "rsi_period = 14\n",
        "uber_data['RSI'] = talib.RSI(uber_data['Close'], timeperiod=rsi_period)\n",
        "\n",
        "# SMA signal\n",
        "uber_data['SMA_signal'] = np.where(uber_data['Close'] > uber_data['SMA'], 1, -1)\n",
        "\n",
        "# EMA signal\n",
        "uber_data['EMA_signal'] = np.where(uber_data['EMA_short'] > uber_data['EMA_long'], 1, -1)\n",
        "\n",
        "# RSI signal\n",
        "uber_data['RSI_signal'] = np.where(uber_data['RSI'] < 30, 1, np.where(uber_data['RSI'] > 70, -1, 0))\n",
        "\n",
        "# Combine signals\n",
        "uber_data['Combined_signal'] = np.where(\n",
        "    (uber_data['SMA_signal'] == 1) & (uber_data['EMA_signal'] == 1) & (uber_data['RSI_signal'] == 1), 1,\n",
        "    np.where((uber_data['SMA_signal'] == -1) & (uber_data['EMA_signal'] == -1) & (uber_data['RSI_signal'] == -1), -1, 0)\n",
        ")\n",
        "\n",
        "# Plot the signals\n",
        "plt.figure(figsize=(14, 7))\n",
        "plt.plot(uber_data['Close'], label='Close Price', color='black')\n",
        "plt.plot(uber_data['SMA'], label=f'SMA ({sma_period} days)', color='blue')\n",
        "plt.plot(uber_data['EMA_short'], label=f'EMA Short ({ema_short_period} days)', color='green')\n",
        "plt.plot(uber_data['EMA_long'], label=f'EMA Long ({ema_long_period} days)', color='orange')\n",
        "plt.legend(loc='upper left')\n",
        "\n",
        "# # Plot SMA signal\n",
        "# plt.plot(uber_data.loc[porto_data['SMA_signal'] == 1].index,\n",
        "#          uber_data['Close'][uber_data['SMA_signal'] == 1],\n",
        "#          '^', markersize=10, color='g', lw=0, label='Buy Signal')\n",
        "# plt.plot(uber_data.loc[uber_data['SMA_signal'] == -1].index,\n",
        "#          uber_data['Close'][uber_data['SMA_signal'] == -1],\n",
        "#          'v', markersize=10, color='r', lw=0, label='Sell Signal')\n",
        "\n",
        "# # Plot EMA signal\n",
        "# plt.plot(uber_data.loc[uber_data['EMA_signal'] == 1].index,\n",
        "#          uber_data['Close'][uber_data['EMA_signal'] == 1],\n",
        "#          'o', markersize=8, color='g', lw=0)\n",
        "# plt.plot(uber_data.loc[uber_data['EMA_signal'] == -1].index,\n",
        "#          uber_data['Close'][uber_data['EMA_signal'] == -1],\n",
        "#          'o', markersize=8, color='r', lw=0)\n",
        "\n",
        "# # Plot RSI signal\n",
        "# plt.plot(uber_data.loc[uber_data['RSI_signal'] == 1].index,\n",
        "#          uber_data['Close'][uber_data['RSI_signal'] == 1],\n",
        "#          '*', markersize=12, color='g', lw=0)\n",
        "# plt.plot(uber_data.loc[uber_data['RSI_signal'] == -1].index,\n",
        "#          uber_data['Close'][uber_data['RSI_signal'] == -1],\n",
        "#          '*', markersize=12, color='r', lw=0)\n",
        "\n",
        "plt.title('Combined Strategy Signals')\n",
        "plt.xlabel('Date')\n",
        "plt.ylabel('Price')\n",
        "plt.legend()\n",
        "plt.grid()\n",
        "plt.show()"
      ],
      "metadata": {
        "colab": {
          "base_uri": "https://localhost:8080/",
          "height": 641
        },
        "id": "1MWqkJse0Xhq",
        "outputId": "6f682ac4-7929-41f9-e637-cbd51ae8fc92"
      },
      "execution_count": 188,
      "outputs": [
        {
          "data": {
            "image/png": "[encoded data removed]",
            "text/plain": [
              "<Figure size 1400x700 with 1 Axes>"
            ]
          },
          "metadata": {},
          "output_type": "display_data"
        }
      ]
    },
    {
      "cell_type": "markdown",
      "source": [
        "<h1>Evaluation of the trading strategies"
      ],
      "metadata": {
        "id": "imSVsbx2Jycl"
      }
    },
    {
      "cell_type": "markdown",
      "source": [
        "The Sortino ratio is the excess return over the risk-free rate divided by the downside deviation, and thus it measures the excess return to \"bad\" volatility. In other words, it doesn't penalize the volatility of positive excess returns."
      ],
      "metadata": {
        "id": "7ijQooaKJs9L"
      }
    },
    {
      "cell_type": "markdown",
      "source": [
        "*Below is backtest results for a the SMA trading strategies and we want to look at the evaluation of the strategy by checking its sortino ratios compare them to the oher sortino ratios of the trading strategies*"
      ],
      "metadata": {
        "id": "JcBDA4LtvCj0"
      }
    },
    {
      "cell_type": "code",
      "source": [
        "resInfo= bt_results.stats"
      ],
      "metadata": {
        "id": "oF6LIWwM5rwb"
      },
      "execution_count": 189,
      "outputs": []
    },
    {
      "cell_type": "code",
      "source": [
        "print(resInfo)"
      ],
      "metadata": {
        "colab": {
          "base_uri": "https://localhost:8080/"
        },
        "id": "hNiBCj8Q_QhL",
        "outputId": "f694f91f-3e1e-46d0-9435-5df80a997e5f"
      },
      "execution_count": 190,
      "outputs": [
        {
          "metadata": {
            "tags": null
          },
          "name": "stdout",
          "output_type": "stream",
          "text": [
            "                                  AboveSMA\n",
            "start                  2021-02-09 00:00:00\n",
            "end                    2024-02-09 00:00:00\n",
            "rf                                     0.0\n",
            "total_return                      1.089229\n",
            "cagr                              0.278601\n",
            "max_drawdown                     -0.378234\n",
            "calmar                            0.736583\n",
            "mtd                               0.057388\n",
            "three_month                       0.403915\n",
            "six_month                         0.495094\n",
            "ytd                               0.112425\n",
            "one_year                           1.18324\n",
            "three_year                        0.278601\n",
            "five_year                              NaN\n",
            "ten_year                               NaN\n",
            "incep                             0.278601\n",
            "daily_sharpe                         1.387\n",
            "daily_sortino                     2.515323\n",
            "daily_mean                        0.263822\n",
            "daily_vol                          0.19021\n",
            "daily_skew                        2.101033\n",
            "daily_kurt                       24.698525\n",
            "best_day                          0.115451\n",
            "worst_day                         -0.06761\n",
            "monthly_sharpe                    0.906647\n",
            "monthly_sortino                   2.813756\n",
            "monthly_mean                       0.29551\n",
            "monthly_vol                       0.325937\n",
            "monthly_skew                      1.254391\n",
            "monthly_kurt                      1.404093\n",
            "best_month                        0.291366\n",
            "worst_month                      -0.123562\n",
            "yearly_sharpe                     0.562665\n",
            "yearly_sortino                     6.49752\n",
            "yearly_mean                       0.478607\n",
            "yearly_vol                        0.850606\n",
            "yearly_skew                        1.57821\n",
            "yearly_kurt                            NaN\n",
            "best_year                         1.450978\n",
            "worst_year                       -0.127583\n",
            "avg_drawdown                     -0.026311\n",
            "avg_drawdown_days                39.130435\n",
            "avg_up_month                      0.108576\n",
            "avg_down_month                   -0.035338\n",
            "win_year_perc                     0.666667\n",
            "twelve_month_win_perc             0.538462\n"
          ]
        }
      ]
    },
    {
      "cell_type": "code",
      "source": [
        "# Get Sortino ratio from backtest stats\n",
        "print('Sortino ratio daily: %.2f' % resInfo.loc['daily_sortino'])\n",
        "print('Sortino ratio monthly: %.2f' % resInfo.loc['monthly_sortino'])\n",
        "print('Sortino ratio annually: %.2f' % resInfo.loc['yearly_sortino'])\n"
      ],
      "metadata": {
        "colab": {
          "base_uri": "https://localhost:8080/"
        },
        "id": "PrBJpQELXl7f",
        "outputId": "0cbff9cc-16a4-4301-af58-6f5207f56a6f"
      },
      "execution_count": 191,
      "outputs": [
        {
          "metadata": {
            "tags": null
          },
          "name": "stdout",
          "output_type": "stream",
          "text": [
            "Sortino ratio daily: 2.52\n",
            "Sortino ratio monthly: 2.81\n",
            "Sortino ratio annually: 6.50\n"
          ]
        }
      ]
    },
    {
      "cell_type": "markdown",
      "source": [
        "*Here we are looking at the sortino ratios of the Backtest results of the EMA_crossover trading strategy which are stored in bt_results1*"
      ],
      "metadata": {
        "id": "X49AcFVVwDJ0"
      }
    },
    {
      "cell_type": "code",
      "source": [
        "resInfo1 = bt_results1.stats"
      ],
      "metadata": {
        "id": "cAUUKB0J_UL1"
      },
      "execution_count": 192,
      "outputs": []
    },
    {
      "cell_type": "code",
      "source": [
        "print(resInfo1)"
      ],
      "metadata": {
        "colab": {
          "base_uri": "https://localhost:8080/"
        },
        "id": "XFv9_RR6VciY",
        "outputId": "e7fd7ca7-ff51-445f-8a3d-b6308e091644"
      },
      "execution_count": 193,
      "outputs": [
        {
          "metadata": {
            "tags": null
          },
          "name": "stdout",
          "output_type": "stream",
          "text": [
            "                             EMA_crossover\n",
            "start                  2021-02-09 00:00:00\n",
            "end                    2024-02-09 00:00:00\n",
            "rf                                     0.0\n",
            "total_return                      9.041771\n",
            "cagr                              1.158567\n",
            "max_drawdown                     -0.015191\n",
            "calmar                            76.26573\n",
            "mtd                               0.039916\n",
            "three_month                        0.40642\n",
            "six_month                         0.489404\n",
            "ytd                               0.113754\n",
            "one_year                          1.291584\n",
            "three_year                        1.158567\n",
            "five_year                              NaN\n",
            "ten_year                               NaN\n",
            "incep                             1.158567\n",
            "daily_sharpe                     14.469159\n",
            "daily_sortino                    65.658473\n",
            "daily_mean                        0.772531\n",
            "daily_vol                         0.053392\n",
            "daily_skew                        0.566379\n",
            "daily_kurt                         0.74861\n",
            "best_day                          0.016256\n",
            "worst_day                        -0.007974\n",
            "monthly_sharpe                    4.496905\n",
            "monthly_sortino                        inf\n",
            "monthly_mean                      0.808349\n",
            "monthly_vol                       0.179757\n",
            "monthly_skew                      1.120005\n",
            "monthly_kurt                      1.055513\n",
            "best_month                        0.220019\n",
            "worst_month                            0.0\n",
            "yearly_sharpe                     1.292412\n",
            "yearly_sortino                         inf\n",
            "yearly_mean                       0.973816\n",
            "yearly_vol                        0.753488\n",
            "yearly_skew                      -1.555792\n",
            "yearly_kurt                            NaN\n",
            "best_year                         1.517703\n",
            "worst_year                        0.113754\n",
            "avg_drawdown                     -0.006021\n",
            "avg_drawdown_days                11.782609\n",
            "avg_up_month                      0.069287\n",
            "avg_down_month                         0.0\n",
            "win_year_perc                          1.0\n",
            "twelve_month_win_perc                  1.0\n"
          ]
        }
      ]
    },
    {
      "cell_type": "code",
      "source": [
        "# Get Sortino ratio from backtest stats\n",
        "print('Sortino ratio daily: %.2f'% resInfo1.loc['daily_sortino'])\n",
        "print('Sortino ratio monthly %.2f'% resInfo1.loc['monthly_sortino'])\n",
        "print('Sortino ratio annually %.2f'% resInfo1.loc['yearly_sortino'])\n",
        "\n"
      ],
      "metadata": {
        "colab": {
          "base_uri": "https://localhost:8080/"
        },
        "id": "8MsfHZdExHF8",
        "outputId": "c49e0770-f3f2-4c2e-cb2f-5dd17ae3217a"
      },
      "execution_count": 194,
      "outputs": [
        {
          "metadata": {
            "tags": null
          },
          "name": "stdout",
          "output_type": "stream",
          "text": [
            "Sortino ratio daily: 65.66\n",
            "Sortino ratio monthly inf\n",
            "Sortino ratio annually inf\n"
          ]
        }
      ]
    },
    {
      "cell_type": "markdown",
      "source": [
        "*Here we are looking at the sortino ratios of the Backtest results of the Mean reversion trading strategy which are stored in bt_results2*"
      ],
      "metadata": {
        "id": "rS-NNDt2xJlh"
      }
    },
    {
      "cell_type": "code",
      "source": [
        "resInfo2=bt_results2.stats"
      ],
      "metadata": {
        "id": "ATM-HLKVViZ9"
      },
      "execution_count": 195,
      "outputs": []
    },
    {
      "cell_type": "code",
      "source": [
        "print(resInfo2)"
      ],
      "metadata": {
        "colab": {
          "base_uri": "https://localhost:8080/"
        },
        "id": "zbh_rw8WVsz5",
        "outputId": "c5651533-e25e-4186-b78d-b13c78749fd2"
      },
      "execution_count": 196,
      "outputs": [
        {
          "metadata": {
            "tags": null
          },
          "name": "stdout",
          "output_type": "stream",
          "text": [
            "                         RSI_MeanReversion\n",
            "start                  2021-02-09 00:00:00\n",
            "end                    2024-02-09 00:00:00\n",
            "rf                                     0.0\n",
            "total_return                     14.812717\n",
            "cagr                              1.511554\n",
            "max_drawdown                     -0.190266\n",
            "calmar                            7.944432\n",
            "mtd                               0.021061\n",
            "three_month                        0.24928\n",
            "six_month                          0.24928\n",
            "ytd                               0.021061\n",
            "one_year                          1.190045\n",
            "three_year                        1.511554\n",
            "five_year                              NaN\n",
            "ten_year                               NaN\n",
            "incep                             1.511554\n",
            "daily_sharpe                      1.932558\n",
            "daily_sortino                     7.946819\n",
            "daily_mean                        1.051447\n",
            "daily_vol                          0.54407\n",
            "daily_skew                         6.94671\n",
            "daily_kurt                       60.262685\n",
            "best_day                          0.386411\n",
            "worst_day                        -0.122404\n",
            "monthly_sharpe                    2.030476\n",
            "monthly_sortino                  16.096811\n",
            "monthly_mean                      1.065707\n",
            "monthly_vol                       0.524855\n",
            "monthly_skew                      1.640567\n",
            "monthly_kurt                      2.343369\n",
            "best_month                        0.580453\n",
            "worst_month                      -0.114672\n",
            "yearly_sharpe                     1.026071\n",
            "yearly_sortino                         inf\n",
            "yearly_mean                       0.619375\n",
            "yearly_vol                        0.603638\n",
            "yearly_skew                       0.078331\n",
            "yearly_kurt                            NaN\n",
            "best_year                           1.2282\n",
            "worst_year                        0.021061\n",
            "avg_drawdown                     -0.059176\n",
            "avg_drawdown_days                 5.857143\n",
            "avg_up_month                      0.220786\n",
            "avg_down_month                   -0.005461\n",
            "win_year_perc                          1.0\n",
            "twelve_month_win_perc                  1.0\n"
          ]
        }
      ]
    },
    {
      "cell_type": "code",
      "source": [
        "# Get Sortino ratio from backtest stats\n",
        "print('Sortino ratio daily: %.2f'% resInfo2.loc['daily_sortino'])\n",
        "print('Sortino ratio monthly %.2f'% resInfo2.loc['monthly_sortino'])\n",
        "print('Sortino ratio annually %.2f'% resInfo2.loc['yearly_sortino'])\n"
      ],
      "metadata": {
        "colab": {
          "base_uri": "https://localhost:8080/"
        },
        "id": "cWR3ihs1By2U",
        "outputId": "fb1f1ffd-8f1b-41b1-aa79-6d4c096a67be"
      },
      "execution_count": 197,
      "outputs": [
        {
          "metadata": {
            "tags": null
          },
          "name": "stdout",
          "output_type": "stream",
          "text": [
            "Sortino ratio daily: 7.95\n",
            "Sortino ratio monthly 16.10\n",
            "Sortino ratio annually inf\n"
          ]
        }
      ]
    },
    {
      "cell_type": "markdown",
      "source": [
        "**Conclusion**\n",
        "\n",
        "\n",
        "Based on the evaluation of the trading strategies using Sortino ratios, it's evident that the EMA crossover strategy outperforms others, yielding higher profits due to its significant daily Sortino ratio compared to the rest.\n",
        "\n",
        "Conversely, for the SMA trading strategy optimization, the backtest results indicate that utilizing SMA in the strategy to trade Uber stock yields similar outcomes across different lookback periods, suggesting that the market tends to move sideways most of the time. However, employing a lookback period of 30 days proves to be more favorable than others. The fast-moving average reacts promptly to capture trends but can also be susceptible to market noise when trends are absent. Therefore, the SMA strategy with a 30-day lookback period appears to strike a balance between trend capture and noise reduction, making it a more reliable choice for trading Uber stock."
      ],
      "metadata": {
        "id": "AD07BhmcyDbM"
      }
    }
  ]
}